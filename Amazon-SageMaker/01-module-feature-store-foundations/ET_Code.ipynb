{
 "cells": [
  {
   "cell_type": "markdown",
   "id": "78e161df-325e-4829-ab2a-6cb154a6dc03",
   "metadata": {},
   "source": [
    "# ET Code\n",
    "\n",
    "---"
   ]
  },
  {
   "cell_type": "code",
   "execution_count": 2,
   "id": "cb1dd2b4-96ca-4f34-8db8-dda51f29fef1",
   "metadata": {
    "tags": []
   },
   "outputs": [],
   "source": [
    "%%capture\n",
    "\n",
    "!pip install faker\n",
    "!pip install python-dateutil"
   ]
  },
  {
   "cell_type": "markdown",
   "id": "05b87f33-02fc-40fa-99ea-298f66969f29",
   "metadata": {},
   "source": [
    "---\n",
    "\n",
    "### Creating sub-directories for data"
   ]
  },
  {
   "cell_type": "code",
   "execution_count": 3,
   "id": "d6faa758-469d-4aa0-8a38-a1b90b337fcb",
   "metadata": {
    "tags": []
   },
   "outputs": [],
   "source": [
    "# create sub-directories\n",
    "!mkdir ../data/test\n",
    "!mkdir ../data/train\n",
    "!mkdir ../data/transformed\n",
    "!mkdir ../data/partitions\n",
    "!mkdir ../data/validation"
   ]
  },
  {
   "cell_type": "code",
   "execution_count": 4,
   "id": "c16ad04f-2f1b-48a3-bdf5-46a4b8d22bc2",
   "metadata": {
    "tags": []
   },
   "outputs": [],
   "source": [
    "# Other imports\n",
    "from sklearn.preprocessing import MinMaxScaler, LabelEncoder\n",
    "from datetime import datetime, timezone, date\n",
    "from faker import Faker\n",
    "import pandas as pd\n",
    "import numpy as np\n",
    "import hashlib\n",
    "import logging\n",
    "import random"
   ]
  },
  {
   "cell_type": "code",
   "execution_count": 5,
   "id": "d67a216e-4052-42a8-94b8-134ce0d287da",
   "metadata": {
    "tags": []
   },
   "outputs": [],
   "source": [
    "# Make a Faker var, and seed it with locale and rand_seed\n",
    "faker = Faker()\n",
    "faker.seed_locale('en_US', 0)"
   ]
  },
  {
   "cell_type": "code",
   "execution_count": 6,
   "id": "81a13f05-0832-418f-b7cb-0d81da16523a",
   "metadata": {
    "tags": []
   },
   "outputs": [],
   "source": [
    "SEED = 123\n",
    "random.seed(SEED)\n",
    "np.random.seed(SEED)\n",
    "faker.seed_instance(SEED)"
   ]
  },
  {
   "cell_type": "code",
   "execution_count": 8,
   "id": "b14cc04c-956a-4d7c-b37c-5f895f09a6c4",
   "metadata": {
    "tags": []
   },
   "outputs": [],
   "source": [
    "logger = logging.getLogger('__name__')\n",
    "logger.setLevel(logging.DEBUG)\n",
    "logger.addHandler(logging.StreamHandler())"
   ]
  },
  {
   "cell_type": "code",
   "execution_count": 9,
   "id": "a2702b88-36e3-4baf-9f08-836dd8753352",
   "metadata": {
    "tags": []
   },
   "outputs": [
    {
     "name": "stderr",
     "output_type": "stream",
     "text": [
      "Using Pandas version: 1.3.5\n"
     ]
    }
   ],
   "source": [
    "logger.info(f'Using Pandas version: {pd.__version__}')"
   ]
  },
  {
   "cell_type": "markdown",
   "id": "72d8b873-4f2e-4caa-8664-32a5dc5e5b4e",
   "metadata": {},
   "source": [
    "---\n",
    "\n",
    "## Helper Functions"
   ]
  },
  {
   "cell_type": "code",
   "execution_count": 10,
   "id": "4903cb7d-e2a8-4817-b604-9b6fc4910f2f",
   "metadata": {
    "tags": []
   },
   "outputs": [],
   "source": [
    "def generate_timestamp(start, end) -> str:\n",
    "    start = datetime.strptime(start, '%Y-%m-%d %H:%M:%S')\n",
    "    end = datetime.strptime(end, '%Y-%m-%d %H:%M:%S')\n",
    "    timestamp = faker.date_time_between(start_date=start, end_date=end, tzinfo=None).strftime('%Y-%m-%d %H:%M:%S')\n",
    "    return timestamp"
   ]
  },
  {
   "cell_type": "code",
   "execution_count": 11,
   "id": "145021db-d994-4ffb-bc95-14f2274b2ac8",
   "metadata": {
    "tags": []
   },
   "outputs": [],
   "source": [
    "def generate_date(start, end) -> str:\n",
    "    start = datetime.strptime(start, '%Y-%m-%d')\n",
    "    end = datetime.strptime(end, '%Y-%m-%d')\n",
    "    date = faker.date_between_dates(date_start=start, date_end=end).strftime('%Y-%m-%d')\n",
    "    return date"
   ]
  },
  {
   "cell_type": "code",
   "execution_count": 13,
   "id": "4cb29764-d17a-4afe-a6ef-7cbc2561d62e",
   "metadata": {
    "tags": []
   },
   "outputs": [],
   "source": [
    "def get_md5_hash(string: str) -> str:\n",
    "    hash_object = hashlib.md5(string.encode())\n",
    "    return hash_object.hexdigest()"
   ]
  },
  {
   "cell_type": "code",
   "execution_count": 14,
   "id": "88730b4e-772c-4739-bedf-d17e433b109d",
   "metadata": {
    "tags": []
   },
   "outputs": [],
   "source": [
    "def generate_event_timestamp():\n",
    "    naive_dt = datetime.now()\n",
    "    aware_dt = naive_dt.astimezone()\n",
    "    utc_dt = aware_dt.astimezone(timezone.utc)\n",
    "    event_time = utc_dt.isoformat(timespec='milliseconds')\n",
    "    event_time = event_time.replace('+00:00', 'Z')\n",
    "    return event_time"
   ]
  },
  {
   "cell_type": "markdown",
   "id": "8bb4244e-e0ed-4584-9155-d7391ac57ed8",
   "metadata": {
    "tags": []
   },
   "source": [
    "---\n",
    "\n",
    "## Generate Online Grocery Shopping Dataset"
   ]
  },
  {
   "cell_type": "code",
   "execution_count": 15,
   "id": "2212a7ab-3ff3-41e4-b7c6-c044557d8d6a",
   "metadata": {
    "tags": []
   },
   "outputs": [],
   "source": [
    "class Customer:\n",
    "    def __init__(self):\n",
    "        self.customer_id = None\n",
    "        self.name = None\n",
    "        self.sex = None\n",
    "        self.state = None\n",
    "        self.age = None\n",
    "        self.is_married = None\n",
    "        self.active_since = None\n",
    "        self.event_time = None\n",
    "        \n",
    "    def as_dict(self):\n",
    "        return {'customer_id': self.customer_id, \n",
    "                'name': self.name,\n",
    "                'sex': self.sex, \n",
    "                'state': self.state, \n",
    "                'age': self.age, \n",
    "                'is_married': self.is_married, \n",
    "                'active_since': self.active_since,\n",
    "                'event_time': self.event_time\n",
    "               }"
   ]
  },
  {
   "cell_type": "code",
   "execution_count": 19,
   "id": "ed362156-7f2a-461d-95f5-02eb6795729e",
   "metadata": {
    "tags": []
   },
   "outputs": [],
   "source": [
    "def generate_customer(i) -> Customer:\n",
    "    cust = Customer()\n",
    "    profile = faker.profile()\n",
    "    cust.customer_id = f'C{i}'\n",
    "    cust.name = profile['name'].lower()\n",
    "    cust.sex = profile['sex']\n",
    "    cust.state = faker.state().lower()\n",
    "    cust.age = random.randint(18,91)\n",
    "    cust.is_married = faker.boolean()\n",
    "    cust.active_since = generate_timestamp('2016-01-01 00:00:00', '2020-01-01 00:00:01')\n",
    "    cust.event_time = generate_event_timestamp()\n",
    "    return cust"
   ]
  },
  {
   "cell_type": "code",
   "execution_count": 23,
   "id": "dfd473a5-112f-4681-8793-b87f60b6c9ae",
   "metadata": {
    "tags": []
   },
   "outputs": [
    {
     "data": {
      "text/plain": [
       "{'customer_id': 'C1',\n",
       " 'name': 'eric campbell',\n",
       " 'sex': 'M',\n",
       " 'state': 'missouri',\n",
       " 'age': 52,\n",
       " 'is_married': True,\n",
       " 'active_since': '2016-06-13 05:47:10',\n",
       " 'event_time': '2023-05-22T12:02:18.253Z'}"
      ]
     },
     "execution_count": 23,
     "metadata": {},
     "output_type": "execute_result"
    }
   ],
   "source": [
    "customer = generate_customer(1)\n",
    "customer.__dict__"
   ]
  },
  {
   "cell_type": "code",
   "execution_count": 25,
   "id": "e7e12d16-f51c-46c3-880e-216b6f5b9061",
   "metadata": {
    "tags": []
   },
   "outputs": [],
   "source": [
    "customers = []\n",
    "customer_ids = []\n",
    "n = 10000\n",
    "for i in range(n):\n",
    "    customer = generate_customer(i+1)\n",
    "    customers.append(customer)\n",
    "    customer_ids.append(customer.customer_id)"
   ]
  },
  {
   "cell_type": "code",
   "execution_count": 26,
   "id": "e491b827-7528-4ede-8d56-8fd041a91f64",
   "metadata": {
    "tags": []
   },
   "outputs": [],
   "source": [
    "customers_df = pd.DataFrame([customer.as_dict() for customer in customers])"
   ]
  },
  {
   "cell_type": "code",
   "execution_count": 27,
   "id": "8a6e7639-880a-4e6e-9e3f-7604d0d1f3f4",
   "metadata": {
    "tags": []
   },
   "outputs": [
    {
     "data": {
      "text/html": [
       "<div>\n",
       "<style scoped>\n",
       "    .dataframe tbody tr th:only-of-type {\n",
       "        vertical-align: middle;\n",
       "    }\n",
       "\n",
       "    .dataframe tbody tr th {\n",
       "        vertical-align: top;\n",
       "    }\n",
       "\n",
       "    .dataframe thead th {\n",
       "        text-align: right;\n",
       "    }\n",
       "</style>\n",
       "<table border=\"1\" class=\"dataframe\">\n",
       "  <thead>\n",
       "    <tr style=\"text-align: right;\">\n",
       "      <th></th>\n",
       "      <th>customer_id</th>\n",
       "      <th>name</th>\n",
       "      <th>sex</th>\n",
       "      <th>state</th>\n",
       "      <th>age</th>\n",
       "      <th>is_married</th>\n",
       "      <th>active_since</th>\n",
       "      <th>event_time</th>\n",
       "    </tr>\n",
       "  </thead>\n",
       "  <tbody>\n",
       "    <tr>\n",
       "      <th>0</th>\n",
       "      <td>C1</td>\n",
       "      <td>stephanie jones</td>\n",
       "      <td>F</td>\n",
       "      <td>new hampshire</td>\n",
       "      <td>22</td>\n",
       "      <td>True</td>\n",
       "      <td>2019-06-24 02:57:56</td>\n",
       "      <td>2023-05-22T12:03:46.119Z</td>\n",
       "    </tr>\n",
       "    <tr>\n",
       "      <th>1</th>\n",
       "      <td>C2</td>\n",
       "      <td>todd jones</td>\n",
       "      <td>M</td>\n",
       "      <td>colorado</td>\n",
       "      <td>66</td>\n",
       "      <td>True</td>\n",
       "      <td>2016-12-01 12:47:02</td>\n",
       "      <td>2023-05-22T12:03:46.122Z</td>\n",
       "    </tr>\n",
       "    <tr>\n",
       "      <th>2</th>\n",
       "      <td>C3</td>\n",
       "      <td>janet taylor</td>\n",
       "      <td>F</td>\n",
       "      <td>arkansas</td>\n",
       "      <td>86</td>\n",
       "      <td>False</td>\n",
       "      <td>2018-03-12 05:24:32</td>\n",
       "      <td>2023-05-22T12:03:46.126Z</td>\n",
       "    </tr>\n",
       "    <tr>\n",
       "      <th>3</th>\n",
       "      <td>C4</td>\n",
       "      <td>ryan bailey</td>\n",
       "      <td>M</td>\n",
       "      <td>vermont</td>\n",
       "      <td>89</td>\n",
       "      <td>False</td>\n",
       "      <td>2019-02-19 01:27:02</td>\n",
       "      <td>2023-05-22T12:03:46.129Z</td>\n",
       "    </tr>\n",
       "    <tr>\n",
       "      <th>4</th>\n",
       "      <td>C5</td>\n",
       "      <td>larry martinez</td>\n",
       "      <td>M</td>\n",
       "      <td>hawaii</td>\n",
       "      <td>60</td>\n",
       "      <td>True</td>\n",
       "      <td>2017-12-21 02:23:15</td>\n",
       "      <td>2023-05-22T12:03:46.135Z</td>\n",
       "    </tr>\n",
       "  </tbody>\n",
       "</table>\n",
       "</div>"
      ],
      "text/plain": [
       "  customer_id             name sex          state  age  is_married  \\\n",
       "0          C1  stephanie jones   F  new hampshire   22        True   \n",
       "1          C2       todd jones   M       colorado   66        True   \n",
       "2          C3     janet taylor   F       arkansas   86       False   \n",
       "3          C4      ryan bailey   M        vermont   89       False   \n",
       "4          C5   larry martinez   M         hawaii   60        True   \n",
       "\n",
       "          active_since                event_time  \n",
       "0  2019-06-24 02:57:56  2023-05-22T12:03:46.119Z  \n",
       "1  2016-12-01 12:47:02  2023-05-22T12:03:46.122Z  \n",
       "2  2018-03-12 05:24:32  2023-05-22T12:03:46.126Z  \n",
       "3  2019-02-19 01:27:02  2023-05-22T12:03:46.129Z  \n",
       "4  2017-12-21 02:23:15  2023-05-22T12:03:46.135Z  "
      ]
     },
     "execution_count": 27,
     "metadata": {},
     "output_type": "execute_result"
    }
   ],
   "source": [
    "customers_df.head(5)"
   ]
  },
  {
   "cell_type": "code",
   "execution_count": 28,
   "id": "3033728c-559d-448a-96e8-e63450041670",
   "metadata": {
    "tags": []
   },
   "outputs": [
    {
     "data": {
      "text/html": [
       "<div>\n",
       "<style scoped>\n",
       "    .dataframe tbody tr th:only-of-type {\n",
       "        vertical-align: middle;\n",
       "    }\n",
       "\n",
       "    .dataframe tbody tr th {\n",
       "        vertical-align: top;\n",
       "    }\n",
       "\n",
       "    .dataframe thead th {\n",
       "        text-align: right;\n",
       "    }\n",
       "</style>\n",
       "<table border=\"1\" class=\"dataframe\">\n",
       "  <thead>\n",
       "    <tr style=\"text-align: right;\">\n",
       "      <th></th>\n",
       "      <th>product_name</th>\n",
       "      <th>product_category</th>\n",
       "      <th>product_id</th>\n",
       "    </tr>\n",
       "  </thead>\n",
       "  <tbody>\n",
       "    <tr>\n",
       "      <th>0</th>\n",
       "      <td>chocolate sandwich cookies</td>\n",
       "      <td>cookies cakes</td>\n",
       "      <td>P1</td>\n",
       "    </tr>\n",
       "    <tr>\n",
       "      <th>1</th>\n",
       "      <td>all-seasons salt</td>\n",
       "      <td>spices seasonings</td>\n",
       "      <td>P2</td>\n",
       "    </tr>\n",
       "    <tr>\n",
       "      <th>2</th>\n",
       "      <td>robust golden unsweetened oolong tea</td>\n",
       "      <td>tea</td>\n",
       "      <td>P3</td>\n",
       "    </tr>\n",
       "    <tr>\n",
       "      <th>3</th>\n",
       "      <td>smart ones classic favorites mini rigatoni wit...</td>\n",
       "      <td>frozen meals</td>\n",
       "      <td>P4</td>\n",
       "    </tr>\n",
       "    <tr>\n",
       "      <th>4</th>\n",
       "      <td>pure coconut water with orange</td>\n",
       "      <td>juice nectars</td>\n",
       "      <td>P5</td>\n",
       "    </tr>\n",
       "  </tbody>\n",
       "</table>\n",
       "</div>"
      ],
      "text/plain": [
       "                                        product_name   product_category  \\\n",
       "0                         chocolate sandwich cookies      cookies cakes   \n",
       "1                                   all-seasons salt  spices seasonings   \n",
       "2               robust golden unsweetened oolong tea                tea   \n",
       "3  smart ones classic favorites mini rigatoni wit...       frozen meals   \n",
       "4                     pure coconut water with orange      juice nectars   \n",
       "\n",
       "  product_id  \n",
       "0         P1  \n",
       "1         P2  \n",
       "2         P3  \n",
       "3         P4  \n",
       "4         P5  "
      ]
     },
     "execution_count": 28,
     "metadata": {},
     "output_type": "execute_result"
    }
   ],
   "source": [
    "products_df = pd.read_csv(\"../data/raw/product_category_mapping.csv\")\n",
    "products_df['product_name'] = products_df['product_name'].str.lower()\n",
    "products_df['product_category'] = products_df['product_category'].str.lower()\n",
    "products_df.head(5)"
   ]
  },
  {
   "cell_type": "code",
   "execution_count": 29,
   "id": "7e57629a-cb50-4ecf-86a1-35963b31a6c5",
   "metadata": {
    "tags": []
   },
   "outputs": [
    {
     "data": {
      "text/html": [
       "<div>\n",
       "<style scoped>\n",
       "    .dataframe tbody tr th:only-of-type {\n",
       "        vertical-align: middle;\n",
       "    }\n",
       "\n",
       "    .dataframe tbody tr th {\n",
       "        vertical-align: top;\n",
       "    }\n",
       "\n",
       "    .dataframe thead th {\n",
       "        text-align: right;\n",
       "    }\n",
       "</style>\n",
       "<table border=\"1\" class=\"dataframe\">\n",
       "  <thead>\n",
       "    <tr style=\"text-align: right;\">\n",
       "      <th></th>\n",
       "      <th>product_name</th>\n",
       "      <th>product_category</th>\n",
       "      <th>product_id</th>\n",
       "      <th>event_time</th>\n",
       "    </tr>\n",
       "  </thead>\n",
       "  <tbody>\n",
       "    <tr>\n",
       "      <th>0</th>\n",
       "      <td>chocolate sandwich cookies</td>\n",
       "      <td>cookies cakes</td>\n",
       "      <td>P1</td>\n",
       "      <td>2023-05-22T12:05:37.598Z</td>\n",
       "    </tr>\n",
       "    <tr>\n",
       "      <th>1</th>\n",
       "      <td>all-seasons salt</td>\n",
       "      <td>spices seasonings</td>\n",
       "      <td>P2</td>\n",
       "      <td>2023-05-22T12:05:37.599Z</td>\n",
       "    </tr>\n",
       "    <tr>\n",
       "      <th>2</th>\n",
       "      <td>robust golden unsweetened oolong tea</td>\n",
       "      <td>tea</td>\n",
       "      <td>P3</td>\n",
       "      <td>2023-05-22T12:05:37.599Z</td>\n",
       "    </tr>\n",
       "    <tr>\n",
       "      <th>3</th>\n",
       "      <td>smart ones classic favorites mini rigatoni wit...</td>\n",
       "      <td>frozen meals</td>\n",
       "      <td>P4</td>\n",
       "      <td>2023-05-22T12:05:37.599Z</td>\n",
       "    </tr>\n",
       "    <tr>\n",
       "      <th>4</th>\n",
       "      <td>pure coconut water with orange</td>\n",
       "      <td>juice nectars</td>\n",
       "      <td>P5</td>\n",
       "      <td>2023-05-22T12:05:37.599Z</td>\n",
       "    </tr>\n",
       "  </tbody>\n",
       "</table>\n",
       "</div>"
      ],
      "text/plain": [
       "                                        product_name   product_category  \\\n",
       "0                         chocolate sandwich cookies      cookies cakes   \n",
       "1                                   all-seasons salt  spices seasonings   \n",
       "2               robust golden unsweetened oolong tea                tea   \n",
       "3  smart ones classic favorites mini rigatoni wit...       frozen meals   \n",
       "4                     pure coconut water with orange      juice nectars   \n",
       "\n",
       "  product_id                event_time  \n",
       "0         P1  2023-05-22T12:05:37.598Z  \n",
       "1         P2  2023-05-22T12:05:37.599Z  \n",
       "2         P3  2023-05-22T12:05:37.599Z  \n",
       "3         P4  2023-05-22T12:05:37.599Z  \n",
       "4         P5  2023-05-22T12:05:37.599Z  "
      ]
     },
     "execution_count": 29,
     "metadata": {},
     "output_type": "execute_result"
    }
   ],
   "source": [
    "event_timestamps = [generate_event_timestamp() for _ in range(len(products_df))]\n",
    "products_df['event_time'] = event_timestamps\n",
    "products_df.head(5)"
   ]
  },
  {
   "cell_type": "code",
   "execution_count": 30,
   "id": "1ff54848-59bb-4a49-9420-171936b5e0de",
   "metadata": {
    "tags": []
   },
   "outputs": [],
   "source": [
    "product_ids = products_df['product_id'].tolist()"
   ]
  },
  {
   "cell_type": "code",
   "execution_count": 32,
   "id": "331a035b-5e0c-46a9-b742-c587e15b8a6e",
   "metadata": {
    "tags": []
   },
   "outputs": [],
   "source": [
    "class Order:\n",
    "    def __init__(self):\n",
    "        self.order_id = None\n",
    "        self.customer_id = None\n",
    "        self.product_id = None\n",
    "        self.purchase_amount = None\n",
    "        self.is_reordered = None \n",
    "        self.purchased_on = None\n",
    "        self.event_time = None\n",
    "        \n",
    "    def as_dict(self):\n",
    "        return {'order_id': self.order_id, \n",
    "                'customer_id': self.customer_id, \n",
    "                'product_id': self.product_id,\n",
    "                'purchase_amount': self.purchase_amount,\n",
    "                'is_reordered': self.is_reordered,\n",
    "                'purchased_on': self.purchased_on, \n",
    "                'event_time': self.event_time}"
   ]
  },
  {
   "cell_type": "code",
   "execution_count": 33,
   "id": "3630af12-a02e-49c3-93ee-cde878d15d15",
   "metadata": {
    "tags": []
   },
   "outputs": [],
   "source": [
    "def generate_order(i) -> Order:\n",
    "    order = Order()\n",
    "    order.order_id = f'O{i}'\n",
    "    order.customer_id = random.choice(customer_ids)\n",
    "    order.product_id = random.choice(product_ids)\n",
    "    order.purchase_amount = random.randint(1, 101) + round(random.random(), 2)\n",
    "    order.is_reordered = random.choice([1, 1, 0])  # assume chance of reordering is twice as that of not reordering\n",
    "    order.purchased_on = generate_timestamp('2020-01-01 00:01:01', '2021-06-01 00:00:01')\n",
    "    order.event_time = generate_event_timestamp()\n",
    "    return order"
   ]
  },
  {
   "cell_type": "code",
   "execution_count": 34,
   "id": "81a4e915-2d1e-4254-9d8c-4d58bd28da32",
   "metadata": {
    "tags": []
   },
   "outputs": [
    {
     "data": {
      "text/plain": [
       "{'order_id': 'O1',\n",
       " 'customer_id': 'C5731',\n",
       " 'product_id': 'P16',\n",
       " 'purchase_amount': 93.26,\n",
       " 'is_reordered': 1,\n",
       " 'purchased_on': '2020-07-25 01:30:37',\n",
       " 'event_time': '2023-05-22T12:07:15.872Z'}"
      ]
     },
     "execution_count": 34,
     "metadata": {},
     "output_type": "execute_result"
    }
   ],
   "source": [
    "order = generate_order(1)\n",
    "order.__dict__"
   ]
  },
  {
   "cell_type": "code",
   "execution_count": 35,
   "id": "afa8325a-663a-4dcd-a7b9-ef22a62abb9f",
   "metadata": {
    "tags": []
   },
   "outputs": [],
   "source": [
    "orders = []\n",
    "n = 100000  # number of synthetic orders to generate\n",
    "for i in range(n):\n",
    "    order = generate_order(i+1)\n",
    "    orders.append(order)"
   ]
  },
  {
   "cell_type": "code",
   "execution_count": 36,
   "id": "960a3a6e-f66c-452a-8bd4-b963a19c7e9d",
   "metadata": {
    "tags": []
   },
   "outputs": [
    {
     "data": {
      "text/html": [
       "<div>\n",
       "<style scoped>\n",
       "    .dataframe tbody tr th:only-of-type {\n",
       "        vertical-align: middle;\n",
       "    }\n",
       "\n",
       "    .dataframe tbody tr th {\n",
       "        vertical-align: top;\n",
       "    }\n",
       "\n",
       "    .dataframe thead th {\n",
       "        text-align: right;\n",
       "    }\n",
       "</style>\n",
       "<table border=\"1\" class=\"dataframe\">\n",
       "  <thead>\n",
       "    <tr style=\"text-align: right;\">\n",
       "      <th></th>\n",
       "      <th>order_id</th>\n",
       "      <th>customer_id</th>\n",
       "      <th>product_id</th>\n",
       "      <th>purchase_amount</th>\n",
       "      <th>is_reordered</th>\n",
       "      <th>purchased_on</th>\n",
       "      <th>event_time</th>\n",
       "    </tr>\n",
       "  </thead>\n",
       "  <tbody>\n",
       "    <tr>\n",
       "      <th>0</th>\n",
       "      <td>O1</td>\n",
       "      <td>C3541</td>\n",
       "      <td>P12802</td>\n",
       "      <td>67.98</td>\n",
       "      <td>1</td>\n",
       "      <td>2020-09-18 17:51:52</td>\n",
       "      <td>2023-05-22T12:07:44.825Z</td>\n",
       "    </tr>\n",
       "    <tr>\n",
       "      <th>1</th>\n",
       "      <td>O2</td>\n",
       "      <td>C7402</td>\n",
       "      <td>P8320</td>\n",
       "      <td>64.59</td>\n",
       "      <td>1</td>\n",
       "      <td>2020-07-09 16:34:01</td>\n",
       "      <td>2023-05-22T12:07:44.825Z</td>\n",
       "    </tr>\n",
       "    <tr>\n",
       "      <th>2</th>\n",
       "      <td>O3</td>\n",
       "      <td>C7356</td>\n",
       "      <td>P5165</td>\n",
       "      <td>63.51</td>\n",
       "      <td>0</td>\n",
       "      <td>2020-09-01 17:50:56</td>\n",
       "      <td>2023-05-22T12:07:44.825Z</td>\n",
       "    </tr>\n",
       "    <tr>\n",
       "      <th>3</th>\n",
       "      <td>O4</td>\n",
       "      <td>C5806</td>\n",
       "      <td>P12940</td>\n",
       "      <td>6.37</td>\n",
       "      <td>1</td>\n",
       "      <td>2020-11-07 15:06:17</td>\n",
       "      <td>2023-05-22T12:07:44.825Z</td>\n",
       "    </tr>\n",
       "    <tr>\n",
       "      <th>4</th>\n",
       "      <td>O5</td>\n",
       "      <td>C1570</td>\n",
       "      <td>P8025</td>\n",
       "      <td>57.88</td>\n",
       "      <td>1</td>\n",
       "      <td>2021-04-10 02:23:05</td>\n",
       "      <td>2023-05-22T12:07:44.825Z</td>\n",
       "    </tr>\n",
       "  </tbody>\n",
       "</table>\n",
       "</div>"
      ],
      "text/plain": [
       "  order_id customer_id product_id  purchase_amount  is_reordered  \\\n",
       "0       O1       C3541     P12802            67.98             1   \n",
       "1       O2       C7402      P8320            64.59             1   \n",
       "2       O3       C7356      P5165            63.51             0   \n",
       "3       O4       C5806     P12940             6.37             1   \n",
       "4       O5       C1570      P8025            57.88             1   \n",
       "\n",
       "          purchased_on                event_time  \n",
       "0  2020-09-18 17:51:52  2023-05-22T12:07:44.825Z  \n",
       "1  2020-07-09 16:34:01  2023-05-22T12:07:44.825Z  \n",
       "2  2020-09-01 17:50:56  2023-05-22T12:07:44.825Z  \n",
       "3  2020-11-07 15:06:17  2023-05-22T12:07:44.825Z  \n",
       "4  2021-04-10 02:23:05  2023-05-22T12:07:44.825Z  "
      ]
     },
     "execution_count": 36,
     "metadata": {},
     "output_type": "execute_result"
    }
   ],
   "source": [
    "orders_df = pd.DataFrame([order.as_dict() for order in orders])\n",
    "orders_df.head(5)"
   ]
  },
  {
   "cell_type": "code",
   "execution_count": 37,
   "id": "90e00d27-76b4-4986-8ff7-4609f6bdb0a5",
   "metadata": {
    "tags": []
   },
   "outputs": [
    {
     "data": {
      "text/plain": [
       "(100000, 7)"
      ]
     },
     "execution_count": 37,
     "metadata": {},
     "output_type": "execute_result"
    }
   ],
   "source": [
    "orders_df.shape"
   ]
  },
  {
   "cell_type": "code",
   "execution_count": 39,
   "id": "bb3ee7ac-943b-4493-8d23-27d66b8f4ae5",
   "metadata": {
    "tags": []
   },
   "outputs": [],
   "source": [
    "customers_df.to_csv('../data/raw/customers.csv', index=False)"
   ]
  },
  {
   "cell_type": "code",
   "execution_count": 40,
   "id": "66f5f3b9-15ab-428e-81e2-b57b89eca30d",
   "metadata": {
    "tags": []
   },
   "outputs": [],
   "source": [
    "products_df.to_csv('../data/raw/products.csv', index=False)"
   ]
  },
  {
   "cell_type": "code",
   "execution_count": 41,
   "id": "510370b6-ae6e-4b97-9787-b7aedd566fb5",
   "metadata": {
    "tags": []
   },
   "outputs": [],
   "source": [
    "orders_df.to_csv('../data/raw/orders.csv', index=False)"
   ]
  },
  {
   "cell_type": "code",
   "execution_count": 42,
   "id": "b85762c6-f7ac-4299-b9a6-373aa2192cf8",
   "metadata": {
    "tags": []
   },
   "outputs": [
    {
     "data": {
      "text/html": [
       "<div>\n",
       "<style scoped>\n",
       "    .dataframe tbody tr th:only-of-type {\n",
       "        vertical-align: middle;\n",
       "    }\n",
       "\n",
       "    .dataframe tbody tr th {\n",
       "        vertical-align: top;\n",
       "    }\n",
       "\n",
       "    .dataframe thead th {\n",
       "        text-align: right;\n",
       "    }\n",
       "</style>\n",
       "<table border=\"1\" class=\"dataframe\">\n",
       "  <thead>\n",
       "    <tr style=\"text-align: right;\">\n",
       "      <th></th>\n",
       "      <th>customer_id</th>\n",
       "      <th>name</th>\n",
       "      <th>sex</th>\n",
       "      <th>state</th>\n",
       "      <th>age</th>\n",
       "      <th>is_married</th>\n",
       "      <th>active_since</th>\n",
       "      <th>event_time</th>\n",
       "    </tr>\n",
       "  </thead>\n",
       "  <tbody>\n",
       "    <tr>\n",
       "      <th>0</th>\n",
       "      <td>C1</td>\n",
       "      <td>stephanie jones</td>\n",
       "      <td>F</td>\n",
       "      <td>new hampshire</td>\n",
       "      <td>22</td>\n",
       "      <td>True</td>\n",
       "      <td>2019-06-24 02:57:56</td>\n",
       "      <td>2023-05-22T12:03:46.119Z</td>\n",
       "    </tr>\n",
       "    <tr>\n",
       "      <th>1</th>\n",
       "      <td>C2</td>\n",
       "      <td>todd jones</td>\n",
       "      <td>M</td>\n",
       "      <td>colorado</td>\n",
       "      <td>66</td>\n",
       "      <td>True</td>\n",
       "      <td>2016-12-01 12:47:02</td>\n",
       "      <td>2023-05-22T12:03:46.122Z</td>\n",
       "    </tr>\n",
       "    <tr>\n",
       "      <th>2</th>\n",
       "      <td>C3</td>\n",
       "      <td>janet taylor</td>\n",
       "      <td>F</td>\n",
       "      <td>arkansas</td>\n",
       "      <td>86</td>\n",
       "      <td>False</td>\n",
       "      <td>2018-03-12 05:24:32</td>\n",
       "      <td>2023-05-22T12:03:46.126Z</td>\n",
       "    </tr>\n",
       "    <tr>\n",
       "      <th>3</th>\n",
       "      <td>C4</td>\n",
       "      <td>ryan bailey</td>\n",
       "      <td>M</td>\n",
       "      <td>vermont</td>\n",
       "      <td>89</td>\n",
       "      <td>False</td>\n",
       "      <td>2019-02-19 01:27:02</td>\n",
       "      <td>2023-05-22T12:03:46.129Z</td>\n",
       "    </tr>\n",
       "    <tr>\n",
       "      <th>4</th>\n",
       "      <td>C5</td>\n",
       "      <td>larry martinez</td>\n",
       "      <td>M</td>\n",
       "      <td>hawaii</td>\n",
       "      <td>60</td>\n",
       "      <td>True</td>\n",
       "      <td>2017-12-21 02:23:15</td>\n",
       "      <td>2023-05-22T12:03:46.135Z</td>\n",
       "    </tr>\n",
       "  </tbody>\n",
       "</table>\n",
       "</div>"
      ],
      "text/plain": [
       "  customer_id             name sex          state  age  is_married  \\\n",
       "0          C1  stephanie jones   F  new hampshire   22        True   \n",
       "1          C2       todd jones   M       colorado   66        True   \n",
       "2          C3     janet taylor   F       arkansas   86       False   \n",
       "3          C4      ryan bailey   M        vermont   89       False   \n",
       "4          C5   larry martinez   M         hawaii   60        True   \n",
       "\n",
       "          active_since                event_time  \n",
       "0  2019-06-24 02:57:56  2023-05-22T12:03:46.119Z  \n",
       "1  2016-12-01 12:47:02  2023-05-22T12:03:46.122Z  \n",
       "2  2018-03-12 05:24:32  2023-05-22T12:03:46.126Z  \n",
       "3  2019-02-19 01:27:02  2023-05-22T12:03:46.129Z  \n",
       "4  2017-12-21 02:23:15  2023-05-22T12:03:46.135Z  "
      ]
     },
     "execution_count": 42,
     "metadata": {},
     "output_type": "execute_result"
    }
   ],
   "source": [
    "customers_df = pd.read_csv('../data/raw/customers.csv')\n",
    "customers_df.head(5)"
   ]
  },
  {
   "cell_type": "code",
   "execution_count": 43,
   "id": "2b2298fd-a229-4b4d-b4b0-c238806b6c58",
   "metadata": {
    "tags": []
   },
   "outputs": [],
   "source": [
    "label_encoder = LabelEncoder()\n",
    "min_max_scaler = MinMaxScaler()"
   ]
  },
  {
   "cell_type": "code",
   "execution_count": 44,
   "id": "88704f11-9e9a-4316-be36-28483f861f55",
   "metadata": {
    "tags": []
   },
   "outputs": [],
   "source": [
    "customers_df.drop('name', axis=1, inplace=True)\n",
    "customers_df.drop('state', axis=1, inplace=True)"
   ]
  },
  {
   "cell_type": "code",
   "execution_count": 45,
   "id": "03586c27-17c0-4a23-b9b7-443e71fb352f",
   "metadata": {
    "tags": []
   },
   "outputs": [],
   "source": [
    "bins = [18, 30, 40, 50, 60, 70, 90]\n",
    "labels = ['18-29', '30-39', '40-49', '50-59', '60-69', '70-plus']\n",
    "customers_df['age_range'] = pd.cut(customers_df.age, bins, labels=labels, include_lowest=True)\n",
    "customers_df = pd.concat([customers_df, pd.get_dummies(customers_df['age_range'], prefix='age')], axis=1)\n",
    "customers_df.drop('age', axis=1, inplace=True)\n",
    "customers_df.drop('age_range', axis=1, inplace=True)"
   ]
  },
  {
   "cell_type": "code",
   "execution_count": 46,
   "id": "4756a86e-aee5-43af-9abf-866e5fa6f08b",
   "metadata": {
    "tags": []
   },
   "outputs": [],
   "source": [
    "customers_df['sex'] = label_encoder.fit_transform(customers_df['sex'])\n",
    "customers_df['is_married'] = label_encoder.fit_transform(customers_df['is_married'])"
   ]
  },
  {
   "cell_type": "code",
   "execution_count": 47,
   "id": "4238c4d5-e580-4123-b348-d730e8a99d28",
   "metadata": {
    "tags": []
   },
   "outputs": [
    {
     "data": {
      "text/html": [
       "<div>\n",
       "<style scoped>\n",
       "    .dataframe tbody tr th:only-of-type {\n",
       "        vertical-align: middle;\n",
       "    }\n",
       "\n",
       "    .dataframe tbody tr th {\n",
       "        vertical-align: top;\n",
       "    }\n",
       "\n",
       "    .dataframe thead th {\n",
       "        text-align: right;\n",
       "    }\n",
       "</style>\n",
       "<table border=\"1\" class=\"dataframe\">\n",
       "  <thead>\n",
       "    <tr style=\"text-align: right;\">\n",
       "      <th></th>\n",
       "      <th>customer_id</th>\n",
       "      <th>sex</th>\n",
       "      <th>is_married</th>\n",
       "      <th>active_since</th>\n",
       "      <th>event_time</th>\n",
       "      <th>age_18-29</th>\n",
       "      <th>age_30-39</th>\n",
       "      <th>age_40-49</th>\n",
       "      <th>age_50-59</th>\n",
       "      <th>age_60-69</th>\n",
       "      <th>age_70-plus</th>\n",
       "    </tr>\n",
       "  </thead>\n",
       "  <tbody>\n",
       "    <tr>\n",
       "      <th>0</th>\n",
       "      <td>C1</td>\n",
       "      <td>0</td>\n",
       "      <td>1</td>\n",
       "      <td>2019-06-24 02:57:56</td>\n",
       "      <td>2023-05-22T12:03:46.119Z</td>\n",
       "      <td>1</td>\n",
       "      <td>0</td>\n",
       "      <td>0</td>\n",
       "      <td>0</td>\n",
       "      <td>0</td>\n",
       "      <td>0</td>\n",
       "    </tr>\n",
       "    <tr>\n",
       "      <th>1</th>\n",
       "      <td>C2</td>\n",
       "      <td>1</td>\n",
       "      <td>1</td>\n",
       "      <td>2016-12-01 12:47:02</td>\n",
       "      <td>2023-05-22T12:03:46.122Z</td>\n",
       "      <td>0</td>\n",
       "      <td>0</td>\n",
       "      <td>0</td>\n",
       "      <td>0</td>\n",
       "      <td>1</td>\n",
       "      <td>0</td>\n",
       "    </tr>\n",
       "    <tr>\n",
       "      <th>2</th>\n",
       "      <td>C3</td>\n",
       "      <td>0</td>\n",
       "      <td>0</td>\n",
       "      <td>2018-03-12 05:24:32</td>\n",
       "      <td>2023-05-22T12:03:46.126Z</td>\n",
       "      <td>0</td>\n",
       "      <td>0</td>\n",
       "      <td>0</td>\n",
       "      <td>0</td>\n",
       "      <td>0</td>\n",
       "      <td>1</td>\n",
       "    </tr>\n",
       "    <tr>\n",
       "      <th>3</th>\n",
       "      <td>C4</td>\n",
       "      <td>1</td>\n",
       "      <td>0</td>\n",
       "      <td>2019-02-19 01:27:02</td>\n",
       "      <td>2023-05-22T12:03:46.129Z</td>\n",
       "      <td>0</td>\n",
       "      <td>0</td>\n",
       "      <td>0</td>\n",
       "      <td>0</td>\n",
       "      <td>0</td>\n",
       "      <td>1</td>\n",
       "    </tr>\n",
       "    <tr>\n",
       "      <th>4</th>\n",
       "      <td>C5</td>\n",
       "      <td>1</td>\n",
       "      <td>1</td>\n",
       "      <td>2017-12-21 02:23:15</td>\n",
       "      <td>2023-05-22T12:03:46.135Z</td>\n",
       "      <td>0</td>\n",
       "      <td>0</td>\n",
       "      <td>0</td>\n",
       "      <td>1</td>\n",
       "      <td>0</td>\n",
       "      <td>0</td>\n",
       "    </tr>\n",
       "  </tbody>\n",
       "</table>\n",
       "</div>"
      ],
      "text/plain": [
       "  customer_id  sex  is_married         active_since                event_time  \\\n",
       "0          C1    0           1  2019-06-24 02:57:56  2023-05-22T12:03:46.119Z   \n",
       "1          C2    1           1  2016-12-01 12:47:02  2023-05-22T12:03:46.122Z   \n",
       "2          C3    0           0  2018-03-12 05:24:32  2023-05-22T12:03:46.126Z   \n",
       "3          C4    1           0  2019-02-19 01:27:02  2023-05-22T12:03:46.129Z   \n",
       "4          C5    1           1  2017-12-21 02:23:15  2023-05-22T12:03:46.135Z   \n",
       "\n",
       "   age_18-29  age_30-39  age_40-49  age_50-59  age_60-69  age_70-plus  \n",
       "0          1          0          0          0          0            0  \n",
       "1          0          0          0          0          1            0  \n",
       "2          0          0          0          0          0            1  \n",
       "3          0          0          0          0          0            1  \n",
       "4          0          0          0          1          0            0  "
      ]
     },
     "execution_count": 47,
     "metadata": {},
     "output_type": "execute_result"
    }
   ],
   "source": [
    "customers_df.head()"
   ]
  },
  {
   "cell_type": "code",
   "execution_count": 48,
   "id": "4443e663-564c-4cf4-a26f-2e2e3543ef1e",
   "metadata": {
    "tags": []
   },
   "outputs": [],
   "source": [
    "customers_df['active_since'] =  pd.to_datetime(customers_df['active_since'], format='%Y-%m-%d %H:%M:%S')"
   ]
  },
  {
   "cell_type": "code",
   "execution_count": 49,
   "id": "a3248dc1-3678-49a7-8a1e-e354d0371cd1",
   "metadata": {
    "tags": []
   },
   "outputs": [],
   "source": [
    "def get_delta_in_days(date_time) -> int:\n",
    "    today = date.today()\n",
    "    delta = today - date_time.date()\n",
    "    return delta.days"
   ]
  },
  {
   "cell_type": "code",
   "execution_count": 50,
   "id": "dee7d817-1d52-4690-8532-f0854830dca2",
   "metadata": {
    "tags": []
   },
   "outputs": [],
   "source": [
    "customers_df['n_days_active'] = customers_df['active_since'].apply(lambda x: get_delta_in_days(x))\n",
    "customers_df['n_days_active'] = min_max_scaler.fit_transform(customers_df[['n_days_active']])\n",
    "customers_df.drop('active_since', axis=1, inplace=True)"
   ]
  },
  {
   "cell_type": "code",
   "execution_count": 51,
   "id": "a4c352de-fecc-45bc-b709-971107190dd0",
   "metadata": {
    "tags": []
   },
   "outputs": [
    {
     "data": {
      "text/html": [
       "<div>\n",
       "<style scoped>\n",
       "    .dataframe tbody tr th:only-of-type {\n",
       "        vertical-align: middle;\n",
       "    }\n",
       "\n",
       "    .dataframe tbody tr th {\n",
       "        vertical-align: top;\n",
       "    }\n",
       "\n",
       "    .dataframe thead th {\n",
       "        text-align: right;\n",
       "    }\n",
       "</style>\n",
       "<table border=\"1\" class=\"dataframe\">\n",
       "  <thead>\n",
       "    <tr style=\"text-align: right;\">\n",
       "      <th></th>\n",
       "      <th>customer_id</th>\n",
       "      <th>sex</th>\n",
       "      <th>is_married</th>\n",
       "      <th>event_time</th>\n",
       "      <th>age_18-29</th>\n",
       "      <th>age_30-39</th>\n",
       "      <th>age_40-49</th>\n",
       "      <th>age_50-59</th>\n",
       "      <th>age_60-69</th>\n",
       "      <th>age_70-plus</th>\n",
       "      <th>n_days_active</th>\n",
       "    </tr>\n",
       "  </thead>\n",
       "  <tbody>\n",
       "    <tr>\n",
       "      <th>0</th>\n",
       "      <td>C1</td>\n",
       "      <td>0</td>\n",
       "      <td>1</td>\n",
       "      <td>2023-05-22T12:03:46.119Z</td>\n",
       "      <td>1</td>\n",
       "      <td>0</td>\n",
       "      <td>0</td>\n",
       "      <td>0</td>\n",
       "      <td>0</td>\n",
       "      <td>0</td>\n",
       "      <td>0.130137</td>\n",
       "    </tr>\n",
       "    <tr>\n",
       "      <th>1</th>\n",
       "      <td>C2</td>\n",
       "      <td>1</td>\n",
       "      <td>1</td>\n",
       "      <td>2023-05-22T12:03:46.122Z</td>\n",
       "      <td>0</td>\n",
       "      <td>0</td>\n",
       "      <td>0</td>\n",
       "      <td>0</td>\n",
       "      <td>1</td>\n",
       "      <td>0</td>\n",
       "      <td>0.770548</td>\n",
       "    </tr>\n",
       "    <tr>\n",
       "      <th>2</th>\n",
       "      <td>C3</td>\n",
       "      <td>0</td>\n",
       "      <td>0</td>\n",
       "      <td>2023-05-22T12:03:46.126Z</td>\n",
       "      <td>0</td>\n",
       "      <td>0</td>\n",
       "      <td>0</td>\n",
       "      <td>0</td>\n",
       "      <td>0</td>\n",
       "      <td>1</td>\n",
       "      <td>0.451370</td>\n",
       "    </tr>\n",
       "    <tr>\n",
       "      <th>3</th>\n",
       "      <td>C4</td>\n",
       "      <td>1</td>\n",
       "      <td>0</td>\n",
       "      <td>2023-05-22T12:03:46.129Z</td>\n",
       "      <td>0</td>\n",
       "      <td>0</td>\n",
       "      <td>0</td>\n",
       "      <td>0</td>\n",
       "      <td>0</td>\n",
       "      <td>1</td>\n",
       "      <td>0.215753</td>\n",
       "    </tr>\n",
       "    <tr>\n",
       "      <th>4</th>\n",
       "      <td>C5</td>\n",
       "      <td>1</td>\n",
       "      <td>1</td>\n",
       "      <td>2023-05-22T12:03:46.135Z</td>\n",
       "      <td>0</td>\n",
       "      <td>0</td>\n",
       "      <td>0</td>\n",
       "      <td>1</td>\n",
       "      <td>0</td>\n",
       "      <td>0</td>\n",
       "      <td>0.506849</td>\n",
       "    </tr>\n",
       "  </tbody>\n",
       "</table>\n",
       "</div>"
      ],
      "text/plain": [
       "  customer_id  sex  is_married                event_time  age_18-29  \\\n",
       "0          C1    0           1  2023-05-22T12:03:46.119Z          1   \n",
       "1          C2    1           1  2023-05-22T12:03:46.122Z          0   \n",
       "2          C3    0           0  2023-05-22T12:03:46.126Z          0   \n",
       "3          C4    1           0  2023-05-22T12:03:46.129Z          0   \n",
       "4          C5    1           1  2023-05-22T12:03:46.135Z          0   \n",
       "\n",
       "   age_30-39  age_40-49  age_50-59  age_60-69  age_70-plus  n_days_active  \n",
       "0          0          0          0          0            0       0.130137  \n",
       "1          0          0          0          1            0       0.770548  \n",
       "2          0          0          0          0            1       0.451370  \n",
       "3          0          0          0          0            1       0.215753  \n",
       "4          0          0          1          0            0       0.506849  "
      ]
     },
     "execution_count": 51,
     "metadata": {},
     "output_type": "execute_result"
    }
   ],
   "source": [
    "customers_df.head()"
   ]
  },
  {
   "cell_type": "code",
   "execution_count": 52,
   "id": "782fefee-612b-4684-b6c6-93c2370c556b",
   "metadata": {
    "tags": []
   },
   "outputs": [],
   "source": [
    "customers_df.to_csv('../data/transformed/customers.csv', index=False)"
   ]
  },
  {
   "cell_type": "code",
   "execution_count": 53,
   "id": "fc48c376-4792-45c9-b5e3-5d77beb7f49e",
   "metadata": {
    "tags": []
   },
   "outputs": [
    {
     "data": {
      "text/html": [
       "<div>\n",
       "<style scoped>\n",
       "    .dataframe tbody tr th:only-of-type {\n",
       "        vertical-align: middle;\n",
       "    }\n",
       "\n",
       "    .dataframe tbody tr th {\n",
       "        vertical-align: top;\n",
       "    }\n",
       "\n",
       "    .dataframe thead th {\n",
       "        text-align: right;\n",
       "    }\n",
       "</style>\n",
       "<table border=\"1\" class=\"dataframe\">\n",
       "  <thead>\n",
       "    <tr style=\"text-align: right;\">\n",
       "      <th></th>\n",
       "      <th>product_name</th>\n",
       "      <th>product_category</th>\n",
       "      <th>product_id</th>\n",
       "      <th>event_time</th>\n",
       "    </tr>\n",
       "  </thead>\n",
       "  <tbody>\n",
       "    <tr>\n",
       "      <th>0</th>\n",
       "      <td>chocolate sandwich cookies</td>\n",
       "      <td>cookies cakes</td>\n",
       "      <td>P1</td>\n",
       "      <td>2023-05-22T12:05:37.598Z</td>\n",
       "    </tr>\n",
       "    <tr>\n",
       "      <th>1</th>\n",
       "      <td>all-seasons salt</td>\n",
       "      <td>spices seasonings</td>\n",
       "      <td>P2</td>\n",
       "      <td>2023-05-22T12:05:37.599Z</td>\n",
       "    </tr>\n",
       "    <tr>\n",
       "      <th>2</th>\n",
       "      <td>robust golden unsweetened oolong tea</td>\n",
       "      <td>tea</td>\n",
       "      <td>P3</td>\n",
       "      <td>2023-05-22T12:05:37.599Z</td>\n",
       "    </tr>\n",
       "    <tr>\n",
       "      <th>3</th>\n",
       "      <td>smart ones classic favorites mini rigatoni wit...</td>\n",
       "      <td>frozen meals</td>\n",
       "      <td>P4</td>\n",
       "      <td>2023-05-22T12:05:37.599Z</td>\n",
       "    </tr>\n",
       "    <tr>\n",
       "      <th>4</th>\n",
       "      <td>pure coconut water with orange</td>\n",
       "      <td>juice nectars</td>\n",
       "      <td>P5</td>\n",
       "      <td>2023-05-22T12:05:37.599Z</td>\n",
       "    </tr>\n",
       "  </tbody>\n",
       "</table>\n",
       "</div>"
      ],
      "text/plain": [
       "                                        product_name   product_category  \\\n",
       "0                         chocolate sandwich cookies      cookies cakes   \n",
       "1                                   all-seasons salt  spices seasonings   \n",
       "2               robust golden unsweetened oolong tea                tea   \n",
       "3  smart ones classic favorites mini rigatoni wit...       frozen meals   \n",
       "4                     pure coconut water with orange      juice nectars   \n",
       "\n",
       "  product_id                event_time  \n",
       "0         P1  2023-05-22T12:05:37.598Z  \n",
       "1         P2  2023-05-22T12:05:37.599Z  \n",
       "2         P3  2023-05-22T12:05:37.599Z  \n",
       "3         P4  2023-05-22T12:05:37.599Z  \n",
       "4         P5  2023-05-22T12:05:37.599Z  "
      ]
     },
     "execution_count": 53,
     "metadata": {},
     "output_type": "execute_result"
    }
   ],
   "source": [
    "products_df = pd.read_csv('../data/raw/products.csv')\n",
    "products_df.head(5)"
   ]
  },
  {
   "cell_type": "code",
   "execution_count": 54,
   "id": "49a5daf2-7284-491b-9df9-a4cfdbd2ab3d",
   "metadata": {
    "tags": []
   },
   "outputs": [],
   "source": [
    "products_df.drop('product_name', axis=1, inplace=True)"
   ]
  },
  {
   "cell_type": "code",
   "execution_count": 55,
   "id": "02d717e5-95b9-429e-bb71-e958f059af05",
   "metadata": {
    "tags": []
   },
   "outputs": [],
   "source": [
    "products_df = pd.concat([products_df, pd.get_dummies(products_df['product_category'], prefix='category')], axis=1)"
   ]
  },
  {
   "cell_type": "code",
   "execution_count": 56,
   "id": "eac7224e-f0f9-4ebd-8f08-216bcd6ff68b",
   "metadata": {
    "tags": []
   },
   "outputs": [],
   "source": [
    "products_df.drop('product_category', axis=1, inplace=True)\n",
    "products_df.columns = products_df.columns.str.replace(' ', '_')"
   ]
  },
  {
   "cell_type": "code",
   "execution_count": 57,
   "id": "fd5512f9-88ec-4e1a-8867-b624fd32b2c9",
   "metadata": {
    "tags": []
   },
   "outputs": [
    {
     "data": {
      "text/html": [
       "<div>\n",
       "<style scoped>\n",
       "    .dataframe tbody tr th:only-of-type {\n",
       "        vertical-align: middle;\n",
       "    }\n",
       "\n",
       "    .dataframe tbody tr th {\n",
       "        vertical-align: top;\n",
       "    }\n",
       "\n",
       "    .dataframe thead th {\n",
       "        text-align: right;\n",
       "    }\n",
       "</style>\n",
       "<table border=\"1\" class=\"dataframe\">\n",
       "  <thead>\n",
       "    <tr style=\"text-align: right;\">\n",
       "      <th></th>\n",
       "      <th>product_id</th>\n",
       "      <th>event_time</th>\n",
       "      <th>category_baby_food_formula</th>\n",
       "      <th>category_baking_ingredients</th>\n",
       "      <th>category_candy_chocolate</th>\n",
       "      <th>category_chips_pretzels</th>\n",
       "      <th>category_cleaning_products</th>\n",
       "      <th>category_coffee</th>\n",
       "      <th>category_cookies_cakes</th>\n",
       "      <th>category_crackers</th>\n",
       "      <th>...</th>\n",
       "      <th>category_hair_care</th>\n",
       "      <th>category_ice_cream_ice</th>\n",
       "      <th>category_juice_nectars</th>\n",
       "      <th>category_packaged_cheese</th>\n",
       "      <th>category_refrigerated</th>\n",
       "      <th>category_soup_broth_bouillon</th>\n",
       "      <th>category_spices_seasonings</th>\n",
       "      <th>category_tea</th>\n",
       "      <th>category_vitamins_supplements</th>\n",
       "      <th>category_yogurt</th>\n",
       "    </tr>\n",
       "  </thead>\n",
       "  <tbody>\n",
       "    <tr>\n",
       "      <th>0</th>\n",
       "      <td>P1</td>\n",
       "      <td>2023-05-22T12:05:37.598Z</td>\n",
       "      <td>0</td>\n",
       "      <td>0</td>\n",
       "      <td>0</td>\n",
       "      <td>0</td>\n",
       "      <td>0</td>\n",
       "      <td>0</td>\n",
       "      <td>1</td>\n",
       "      <td>0</td>\n",
       "      <td>...</td>\n",
       "      <td>0</td>\n",
       "      <td>0</td>\n",
       "      <td>0</td>\n",
       "      <td>0</td>\n",
       "      <td>0</td>\n",
       "      <td>0</td>\n",
       "      <td>0</td>\n",
       "      <td>0</td>\n",
       "      <td>0</td>\n",
       "      <td>0</td>\n",
       "    </tr>\n",
       "    <tr>\n",
       "      <th>1</th>\n",
       "      <td>P2</td>\n",
       "      <td>2023-05-22T12:05:37.599Z</td>\n",
       "      <td>0</td>\n",
       "      <td>0</td>\n",
       "      <td>0</td>\n",
       "      <td>0</td>\n",
       "      <td>0</td>\n",
       "      <td>0</td>\n",
       "      <td>0</td>\n",
       "      <td>0</td>\n",
       "      <td>...</td>\n",
       "      <td>0</td>\n",
       "      <td>0</td>\n",
       "      <td>0</td>\n",
       "      <td>0</td>\n",
       "      <td>0</td>\n",
       "      <td>0</td>\n",
       "      <td>1</td>\n",
       "      <td>0</td>\n",
       "      <td>0</td>\n",
       "      <td>0</td>\n",
       "    </tr>\n",
       "    <tr>\n",
       "      <th>2</th>\n",
       "      <td>P3</td>\n",
       "      <td>2023-05-22T12:05:37.599Z</td>\n",
       "      <td>0</td>\n",
       "      <td>0</td>\n",
       "      <td>0</td>\n",
       "      <td>0</td>\n",
       "      <td>0</td>\n",
       "      <td>0</td>\n",
       "      <td>0</td>\n",
       "      <td>0</td>\n",
       "      <td>...</td>\n",
       "      <td>0</td>\n",
       "      <td>0</td>\n",
       "      <td>0</td>\n",
       "      <td>0</td>\n",
       "      <td>0</td>\n",
       "      <td>0</td>\n",
       "      <td>0</td>\n",
       "      <td>1</td>\n",
       "      <td>0</td>\n",
       "      <td>0</td>\n",
       "    </tr>\n",
       "    <tr>\n",
       "      <th>3</th>\n",
       "      <td>P4</td>\n",
       "      <td>2023-05-22T12:05:37.599Z</td>\n",
       "      <td>0</td>\n",
       "      <td>0</td>\n",
       "      <td>0</td>\n",
       "      <td>0</td>\n",
       "      <td>0</td>\n",
       "      <td>0</td>\n",
       "      <td>0</td>\n",
       "      <td>0</td>\n",
       "      <td>...</td>\n",
       "      <td>0</td>\n",
       "      <td>0</td>\n",
       "      <td>0</td>\n",
       "      <td>0</td>\n",
       "      <td>0</td>\n",
       "      <td>0</td>\n",
       "      <td>0</td>\n",
       "      <td>0</td>\n",
       "      <td>0</td>\n",
       "      <td>0</td>\n",
       "    </tr>\n",
       "    <tr>\n",
       "      <th>4</th>\n",
       "      <td>P5</td>\n",
       "      <td>2023-05-22T12:05:37.599Z</td>\n",
       "      <td>0</td>\n",
       "      <td>0</td>\n",
       "      <td>0</td>\n",
       "      <td>0</td>\n",
       "      <td>0</td>\n",
       "      <td>0</td>\n",
       "      <td>0</td>\n",
       "      <td>0</td>\n",
       "      <td>...</td>\n",
       "      <td>0</td>\n",
       "      <td>0</td>\n",
       "      <td>1</td>\n",
       "      <td>0</td>\n",
       "      <td>0</td>\n",
       "      <td>0</td>\n",
       "      <td>0</td>\n",
       "      <td>0</td>\n",
       "      <td>0</td>\n",
       "      <td>0</td>\n",
       "    </tr>\n",
       "  </tbody>\n",
       "</table>\n",
       "<p>5 rows × 22 columns</p>\n",
       "</div>"
      ],
      "text/plain": [
       "  product_id                event_time  category_baby_food_formula  \\\n",
       "0         P1  2023-05-22T12:05:37.598Z                           0   \n",
       "1         P2  2023-05-22T12:05:37.599Z                           0   \n",
       "2         P3  2023-05-22T12:05:37.599Z                           0   \n",
       "3         P4  2023-05-22T12:05:37.599Z                           0   \n",
       "4         P5  2023-05-22T12:05:37.599Z                           0   \n",
       "\n",
       "   category_baking_ingredients  category_candy_chocolate  \\\n",
       "0                            0                         0   \n",
       "1                            0                         0   \n",
       "2                            0                         0   \n",
       "3                            0                         0   \n",
       "4                            0                         0   \n",
       "\n",
       "   category_chips_pretzels  category_cleaning_products  category_coffee  \\\n",
       "0                        0                           0                0   \n",
       "1                        0                           0                0   \n",
       "2                        0                           0                0   \n",
       "3                        0                           0                0   \n",
       "4                        0                           0                0   \n",
       "\n",
       "   category_cookies_cakes  category_crackers  ...  category_hair_care  \\\n",
       "0                       1                  0  ...                   0   \n",
       "1                       0                  0  ...                   0   \n",
       "2                       0                  0  ...                   0   \n",
       "3                       0                  0  ...                   0   \n",
       "4                       0                  0  ...                   0   \n",
       "\n",
       "   category_ice_cream_ice  category_juice_nectars  category_packaged_cheese  \\\n",
       "0                       0                       0                         0   \n",
       "1                       0                       0                         0   \n",
       "2                       0                       0                         0   \n",
       "3                       0                       0                         0   \n",
       "4                       0                       1                         0   \n",
       "\n",
       "   category_refrigerated  category_soup_broth_bouillon  \\\n",
       "0                      0                             0   \n",
       "1                      0                             0   \n",
       "2                      0                             0   \n",
       "3                      0                             0   \n",
       "4                      0                             0   \n",
       "\n",
       "   category_spices_seasonings  category_tea  category_vitamins_supplements  \\\n",
       "0                           0             0                              0   \n",
       "1                           1             0                              0   \n",
       "2                           0             1                              0   \n",
       "3                           0             0                              0   \n",
       "4                           0             0                              0   \n",
       "\n",
       "   category_yogurt  \n",
       "0                0  \n",
       "1                0  \n",
       "2                0  \n",
       "3                0  \n",
       "4                0  \n",
       "\n",
       "[5 rows x 22 columns]"
      ]
     },
     "execution_count": 57,
     "metadata": {},
     "output_type": "execute_result"
    }
   ],
   "source": [
    "products_df.head(5)"
   ]
  },
  {
   "cell_type": "code",
   "execution_count": 58,
   "id": "f4198208-b1e9-4a47-8e56-6f9ded9a570c",
   "metadata": {
    "tags": []
   },
   "outputs": [],
   "source": [
    "products_df.to_csv('../data/transformed/products.csv', index=False)"
   ]
  },
  {
   "cell_type": "code",
   "execution_count": 59,
   "id": "c21f4415-79ba-4545-9d6a-edb16e3132b1",
   "metadata": {
    "tags": []
   },
   "outputs": [
    {
     "data": {
      "text/html": [
       "<div>\n",
       "<style scoped>\n",
       "    .dataframe tbody tr th:only-of-type {\n",
       "        vertical-align: middle;\n",
       "    }\n",
       "\n",
       "    .dataframe tbody tr th {\n",
       "        vertical-align: top;\n",
       "    }\n",
       "\n",
       "    .dataframe thead th {\n",
       "        text-align: right;\n",
       "    }\n",
       "</style>\n",
       "<table border=\"1\" class=\"dataframe\">\n",
       "  <thead>\n",
       "    <tr style=\"text-align: right;\">\n",
       "      <th></th>\n",
       "      <th>order_id</th>\n",
       "      <th>customer_id</th>\n",
       "      <th>product_id</th>\n",
       "      <th>purchase_amount</th>\n",
       "      <th>is_reordered</th>\n",
       "      <th>purchased_on</th>\n",
       "      <th>event_time</th>\n",
       "    </tr>\n",
       "  </thead>\n",
       "  <tbody>\n",
       "    <tr>\n",
       "      <th>0</th>\n",
       "      <td>O1</td>\n",
       "      <td>C3541</td>\n",
       "      <td>P12802</td>\n",
       "      <td>67.98</td>\n",
       "      <td>1</td>\n",
       "      <td>2020-09-18 17:51:52</td>\n",
       "      <td>2023-05-22T12:07:44.825Z</td>\n",
       "    </tr>\n",
       "    <tr>\n",
       "      <th>1</th>\n",
       "      <td>O2</td>\n",
       "      <td>C7402</td>\n",
       "      <td>P8320</td>\n",
       "      <td>64.59</td>\n",
       "      <td>1</td>\n",
       "      <td>2020-07-09 16:34:01</td>\n",
       "      <td>2023-05-22T12:07:44.825Z</td>\n",
       "    </tr>\n",
       "    <tr>\n",
       "      <th>2</th>\n",
       "      <td>O3</td>\n",
       "      <td>C7356</td>\n",
       "      <td>P5165</td>\n",
       "      <td>63.51</td>\n",
       "      <td>0</td>\n",
       "      <td>2020-09-01 17:50:56</td>\n",
       "      <td>2023-05-22T12:07:44.825Z</td>\n",
       "    </tr>\n",
       "    <tr>\n",
       "      <th>3</th>\n",
       "      <td>O4</td>\n",
       "      <td>C5806</td>\n",
       "      <td>P12940</td>\n",
       "      <td>6.37</td>\n",
       "      <td>1</td>\n",
       "      <td>2020-11-07 15:06:17</td>\n",
       "      <td>2023-05-22T12:07:44.825Z</td>\n",
       "    </tr>\n",
       "    <tr>\n",
       "      <th>4</th>\n",
       "      <td>O5</td>\n",
       "      <td>C1570</td>\n",
       "      <td>P8025</td>\n",
       "      <td>57.88</td>\n",
       "      <td>1</td>\n",
       "      <td>2021-04-10 02:23:05</td>\n",
       "      <td>2023-05-22T12:07:44.825Z</td>\n",
       "    </tr>\n",
       "  </tbody>\n",
       "</table>\n",
       "</div>"
      ],
      "text/plain": [
       "  order_id customer_id product_id  purchase_amount  is_reordered  \\\n",
       "0       O1       C3541     P12802            67.98             1   \n",
       "1       O2       C7402      P8320            64.59             1   \n",
       "2       O3       C7356      P5165            63.51             0   \n",
       "3       O4       C5806     P12940             6.37             1   \n",
       "4       O5       C1570      P8025            57.88             1   \n",
       "\n",
       "          purchased_on                event_time  \n",
       "0  2020-09-18 17:51:52  2023-05-22T12:07:44.825Z  \n",
       "1  2020-07-09 16:34:01  2023-05-22T12:07:44.825Z  \n",
       "2  2020-09-01 17:50:56  2023-05-22T12:07:44.825Z  \n",
       "3  2020-11-07 15:06:17  2023-05-22T12:07:44.825Z  \n",
       "4  2021-04-10 02:23:05  2023-05-22T12:07:44.825Z  "
      ]
     },
     "execution_count": 59,
     "metadata": {},
     "output_type": "execute_result"
    }
   ],
   "source": [
    "orders_df = pd.read_csv('../data/raw/orders.csv')\n",
    "orders_df.head(5)"
   ]
  },
  {
   "cell_type": "code",
   "execution_count": 60,
   "id": "cab1562b-258b-45f9-b95b-25849c960baf",
   "metadata": {
    "tags": []
   },
   "outputs": [],
   "source": [
    "orders_df['purchased_on'] =  pd.to_datetime(orders_df['purchased_on'], format='%Y-%m-%d %H:%M:%S')\n",
    "orders_df['n_days_since_last_purchase'] = orders_df['purchased_on'].apply(lambda x: get_delta_in_days(x))\n",
    "orders_df['n_days_since_last_purchase'] = min_max_scaler.fit_transform(orders_df[['n_days_since_last_purchase']])\n"
   ]
  },
  {
   "cell_type": "code",
   "execution_count": 61,
   "id": "908f028a-9601-45ad-ad11-2e5b5cc33037",
   "metadata": {
    "tags": []
   },
   "outputs": [],
   "source": [
    "orders_df['purchase_amount'] = min_max_scaler.fit_transform(orders_df[['purchase_amount']])\n",
    "orders_df['is_reordered'] = label_encoder.fit_transform(orders_df['is_reordered'])"
   ]
  },
  {
   "cell_type": "code",
   "execution_count": 62,
   "id": "dfa92d3a-f808-4ff4-b4c4-0a29f30796bc",
   "metadata": {
    "tags": []
   },
   "outputs": [
    {
     "data": {
      "text/html": [
       "<div>\n",
       "<style scoped>\n",
       "    .dataframe tbody tr th:only-of-type {\n",
       "        vertical-align: middle;\n",
       "    }\n",
       "\n",
       "    .dataframe tbody tr th {\n",
       "        vertical-align: top;\n",
       "    }\n",
       "\n",
       "    .dataframe thead th {\n",
       "        text-align: right;\n",
       "    }\n",
       "</style>\n",
       "<table border=\"1\" class=\"dataframe\">\n",
       "  <thead>\n",
       "    <tr style=\"text-align: right;\">\n",
       "      <th></th>\n",
       "      <th>order_id</th>\n",
       "      <th>customer_id</th>\n",
       "      <th>product_id</th>\n",
       "      <th>purchase_amount</th>\n",
       "      <th>is_reordered</th>\n",
       "      <th>purchased_on</th>\n",
       "      <th>event_time</th>\n",
       "      <th>n_days_since_last_purchase</th>\n",
       "    </tr>\n",
       "  </thead>\n",
       "  <tbody>\n",
       "    <tr>\n",
       "      <th>0</th>\n",
       "      <td>O1</td>\n",
       "      <td>C3541</td>\n",
       "      <td>P12802</td>\n",
       "      <td>0.663168</td>\n",
       "      <td>1</td>\n",
       "      <td>2020-09-18 17:51:52</td>\n",
       "      <td>2023-05-22T12:07:44.825Z</td>\n",
       "      <td>0.494186</td>\n",
       "    </tr>\n",
       "    <tr>\n",
       "      <th>1</th>\n",
       "      <td>O2</td>\n",
       "      <td>C7402</td>\n",
       "      <td>P8320</td>\n",
       "      <td>0.629604</td>\n",
       "      <td>1</td>\n",
       "      <td>2020-07-09 16:34:01</td>\n",
       "      <td>2023-05-22T12:07:44.825Z</td>\n",
       "      <td>0.631783</td>\n",
       "    </tr>\n",
       "    <tr>\n",
       "      <th>2</th>\n",
       "      <td>O3</td>\n",
       "      <td>C7356</td>\n",
       "      <td>P5165</td>\n",
       "      <td>0.618911</td>\n",
       "      <td>0</td>\n",
       "      <td>2020-09-01 17:50:56</td>\n",
       "      <td>2023-05-22T12:07:44.825Z</td>\n",
       "      <td>0.527132</td>\n",
       "    </tr>\n",
       "    <tr>\n",
       "      <th>3</th>\n",
       "      <td>O4</td>\n",
       "      <td>C5806</td>\n",
       "      <td>P12940</td>\n",
       "      <td>0.053168</td>\n",
       "      <td>1</td>\n",
       "      <td>2020-11-07 15:06:17</td>\n",
       "      <td>2023-05-22T12:07:44.825Z</td>\n",
       "      <td>0.397287</td>\n",
       "    </tr>\n",
       "    <tr>\n",
       "      <th>4</th>\n",
       "      <td>O5</td>\n",
       "      <td>C1570</td>\n",
       "      <td>P8025</td>\n",
       "      <td>0.563168</td>\n",
       "      <td>1</td>\n",
       "      <td>2021-04-10 02:23:05</td>\n",
       "      <td>2023-05-22T12:07:44.825Z</td>\n",
       "      <td>0.098837</td>\n",
       "    </tr>\n",
       "  </tbody>\n",
       "</table>\n",
       "</div>"
      ],
      "text/plain": [
       "  order_id customer_id product_id  purchase_amount  is_reordered  \\\n",
       "0       O1       C3541     P12802         0.663168             1   \n",
       "1       O2       C7402      P8320         0.629604             1   \n",
       "2       O3       C7356      P5165         0.618911             0   \n",
       "3       O4       C5806     P12940         0.053168             1   \n",
       "4       O5       C1570      P8025         0.563168             1   \n",
       "\n",
       "         purchased_on                event_time  n_days_since_last_purchase  \n",
       "0 2020-09-18 17:51:52  2023-05-22T12:07:44.825Z                    0.494186  \n",
       "1 2020-07-09 16:34:01  2023-05-22T12:07:44.825Z                    0.631783  \n",
       "2 2020-09-01 17:50:56  2023-05-22T12:07:44.825Z                    0.527132  \n",
       "3 2020-11-07 15:06:17  2023-05-22T12:07:44.825Z                    0.397287  \n",
       "4 2021-04-10 02:23:05  2023-05-22T12:07:44.825Z                    0.098837  "
      ]
     },
     "execution_count": 62,
     "metadata": {},
     "output_type": "execute_result"
    }
   ],
   "source": [
    "orders_df.head(5)"
   ]
  },
  {
   "cell_type": "code",
   "execution_count": 63,
   "id": "37a41dca-5bf0-4e96-9d89-25372bf7f66c",
   "metadata": {
    "tags": []
   },
   "outputs": [
    {
     "name": "stdout",
     "output_type": "stream",
     "text": [
      "Total Orders Count = 100000\n",
      "start_date = 2020-01-01 00:00:00\n",
      "end_date = 2021-06-01 00:00:01\n",
      "a_month = relativedelta(months=+1)\n",
      "current_start_date = 2020-01-01 00:00:00\n",
      "current_end_date = 2020-02-01 00:00:00\n",
      "----\n",
      "Dates between 2020-01-01 00:00:00 and 2020-02-01 00:00:00\n",
      "../data/partitions/2020-1\n",
      "Partitions Orders Count = 6023\n",
      "----\n",
      "Dates between 2020-02-01 00:00:00 and 2020-03-01 00:00:00\n",
      "../data/partitions/2020-2\n",
      "Partitions Orders Count = 5508\n",
      "----\n",
      "Dates between 2020-03-01 00:00:00 and 2020-04-01 00:00:00\n",
      "../data/partitions/2020-3\n",
      "Partitions Orders Count = 5948\n",
      "----\n",
      "Dates between 2020-04-01 00:00:00 and 2020-05-01 00:00:00\n",
      "../data/partitions/2020-4\n",
      "Partitions Orders Count = 5873\n",
      "----\n",
      "Dates between 2020-05-01 00:00:00 and 2020-06-01 00:00:00\n",
      "../data/partitions/2020-5\n",
      "Partitions Orders Count = 5993\n",
      "----\n",
      "Dates between 2020-06-01 00:00:00 and 2020-07-01 00:00:00\n",
      "../data/partitions/2020-6\n",
      "Partitions Orders Count = 5795\n",
      "----\n",
      "Dates between 2020-07-01 00:00:00 and 2020-08-01 00:00:00\n",
      "../data/partitions/2020-7\n",
      "Partitions Orders Count = 6092\n",
      "----\n",
      "Dates between 2020-08-01 00:00:00 and 2020-09-01 00:00:00\n",
      "../data/partitions/2020-8\n",
      "Partitions Orders Count = 6047\n",
      "----\n",
      "Dates between 2020-09-01 00:00:00 and 2020-10-01 00:00:00\n",
      "../data/partitions/2020-9\n",
      "Partitions Orders Count = 5760\n",
      "----\n",
      "Dates between 2020-10-01 00:00:00 and 2020-11-01 00:00:00\n",
      "../data/partitions/2020-10\n",
      "Partitions Orders Count = 6051\n",
      "----\n",
      "Dates between 2020-11-01 00:00:00 and 2020-12-01 00:00:00\n",
      "../data/partitions/2020-11\n",
      "Partitions Orders Count = 5723\n",
      "----\n",
      "Dates between 2020-12-01 00:00:00 and 2021-01-01 00:00:00\n",
      "../data/partitions/2020-12\n",
      "Partitions Orders Count = 6099\n",
      "----\n",
      "Dates between 2021-01-01 00:00:00 and 2021-02-01 00:00:00\n",
      "../data/partitions/2021-1\n",
      "Partitions Orders Count = 5960\n",
      "----\n",
      "Dates between 2021-02-01 00:00:00 and 2021-03-01 00:00:00\n",
      "../data/partitions/2021-2\n",
      "Partitions Orders Count = 5529\n",
      "----\n",
      "Dates between 2021-03-01 00:00:00 and 2021-04-01 00:00:00\n",
      "../data/partitions/2021-3\n",
      "Partitions Orders Count = 5798\n",
      "----\n",
      "Dates between 2021-04-01 00:00:00 and 2021-05-01 00:00:00\n",
      "../data/partitions/2021-4\n",
      "Partitions Orders Count = 5756\n",
      "----\n",
      "Dates between 2021-05-01 00:00:00 and 2021-06-01 00:00:00\n",
      "../data/partitions/2021-5\n",
      "Partitions Orders Count = 6045\n",
      "----\n"
     ]
    }
   ],
   "source": [
    "import os\n",
    "from datetime import datetime\n",
    "from dateutil.relativedelta import relativedelta\n",
    "\n",
    "print(f'Total Orders Count = {orders_df.shape[0]}') \n",
    "partitions_path = '../data/partitions'\n",
    "start_date_str = '2020-01-01 00:00:00'\n",
    "end_date_str = '2021-06-01 00:00:01'\n",
    "date_format = '%Y-%m-%d %H:%M:%S'\n",
    "start_date = datetime.strptime(start_date_str, date_format)\n",
    "print(f'start_date = {start_date}')\n",
    "end_date = datetime.strptime(end_date_str, date_format)\n",
    "print(f'end_date = {end_date}')\n",
    "a_month = relativedelta(months=1)\n",
    "print(f'a_month = {a_month}')\n",
    "current_start_date = start_date\n",
    "print(f'current_start_date = {current_start_date}')\n",
    "current_end_date = start_date + a_month\n",
    "print(f'current_end_date = {current_end_date}')\n",
    "print(f'----')\n",
    "if not os.path.exists(partitions_path):\n",
    "    os.makedirs(partitions_path)\n",
    "\n",
    "while current_end_date <= end_date:\n",
    "    print(f'Dates between {current_start_date} and {current_end_date}')\n",
    "    partitions_df = orders_df[orders_df['purchased_on'].between(current_start_date, current_end_date)].copy()\n",
    "    partitions_df.drop('purchased_on', axis=1, inplace=True)\n",
    "    partition = f'{current_start_date.strftime(\"%Y\")}-{int(current_start_date.strftime(\"%m\"))}'    \n",
    "    current_partitions_path = f'{partitions_path}/{partition}'\n",
    "    print(current_partitions_path)\n",
    "    if not os.path.exists(current_partitions_path):\n",
    "        os.makedirs(current_partitions_path)\n",
    "    print(f'Partitions Orders Count = {partitions_df.shape[0]}')\n",
    "    partitions_df.to_csv(f'{current_partitions_path}/partition.csv', index=False)\n",
    "    partitions_df.iloc[0:0]\n",
    "    current_start_date = current_end_date\n",
    "    current_end_date = current_start_date + a_month\n",
    "    print(f'----')"
   ]
  },
  {
   "cell_type": "code",
   "execution_count": 64,
   "id": "85262e85-2758-4b47-bae3-8dc2e07ce2ab",
   "metadata": {
    "tags": []
   },
   "outputs": [],
   "source": [
    "orders_df.drop('purchased_on', axis=1, inplace=True)"
   ]
  },
  {
   "cell_type": "code",
   "execution_count": 65,
   "id": "379e43db-8cf4-4b81-9ddc-76b2ede51c0e",
   "metadata": {
    "tags": []
   },
   "outputs": [
    {
     "data": {
      "text/html": [
       "<div>\n",
       "<style scoped>\n",
       "    .dataframe tbody tr th:only-of-type {\n",
       "        vertical-align: middle;\n",
       "    }\n",
       "\n",
       "    .dataframe tbody tr th {\n",
       "        vertical-align: top;\n",
       "    }\n",
       "\n",
       "    .dataframe thead th {\n",
       "        text-align: right;\n",
       "    }\n",
       "</style>\n",
       "<table border=\"1\" class=\"dataframe\">\n",
       "  <thead>\n",
       "    <tr style=\"text-align: right;\">\n",
       "      <th></th>\n",
       "      <th>order_id</th>\n",
       "      <th>customer_id</th>\n",
       "      <th>product_id</th>\n",
       "      <th>purchase_amount</th>\n",
       "      <th>is_reordered</th>\n",
       "      <th>event_time</th>\n",
       "      <th>n_days_since_last_purchase</th>\n",
       "    </tr>\n",
       "  </thead>\n",
       "  <tbody>\n",
       "    <tr>\n",
       "      <th>0</th>\n",
       "      <td>O1</td>\n",
       "      <td>C3541</td>\n",
       "      <td>P12802</td>\n",
       "      <td>0.663168</td>\n",
       "      <td>1</td>\n",
       "      <td>2023-05-22T12:07:44.825Z</td>\n",
       "      <td>0.494186</td>\n",
       "    </tr>\n",
       "    <tr>\n",
       "      <th>1</th>\n",
       "      <td>O2</td>\n",
       "      <td>C7402</td>\n",
       "      <td>P8320</td>\n",
       "      <td>0.629604</td>\n",
       "      <td>1</td>\n",
       "      <td>2023-05-22T12:07:44.825Z</td>\n",
       "      <td>0.631783</td>\n",
       "    </tr>\n",
       "    <tr>\n",
       "      <th>2</th>\n",
       "      <td>O3</td>\n",
       "      <td>C7356</td>\n",
       "      <td>P5165</td>\n",
       "      <td>0.618911</td>\n",
       "      <td>0</td>\n",
       "      <td>2023-05-22T12:07:44.825Z</td>\n",
       "      <td>0.527132</td>\n",
       "    </tr>\n",
       "    <tr>\n",
       "      <th>3</th>\n",
       "      <td>O4</td>\n",
       "      <td>C5806</td>\n",
       "      <td>P12940</td>\n",
       "      <td>0.053168</td>\n",
       "      <td>1</td>\n",
       "      <td>2023-05-22T12:07:44.825Z</td>\n",
       "      <td>0.397287</td>\n",
       "    </tr>\n",
       "    <tr>\n",
       "      <th>4</th>\n",
       "      <td>O5</td>\n",
       "      <td>C1570</td>\n",
       "      <td>P8025</td>\n",
       "      <td>0.563168</td>\n",
       "      <td>1</td>\n",
       "      <td>2023-05-22T12:07:44.825Z</td>\n",
       "      <td>0.098837</td>\n",
       "    </tr>\n",
       "  </tbody>\n",
       "</table>\n",
       "</div>"
      ],
      "text/plain": [
       "  order_id customer_id product_id  purchase_amount  is_reordered  \\\n",
       "0       O1       C3541     P12802         0.663168             1   \n",
       "1       O2       C7402      P8320         0.629604             1   \n",
       "2       O3       C7356      P5165         0.618911             0   \n",
       "3       O4       C5806     P12940         0.053168             1   \n",
       "4       O5       C1570      P8025         0.563168             1   \n",
       "\n",
       "                 event_time  n_days_since_last_purchase  \n",
       "0  2023-05-22T12:07:44.825Z                    0.494186  \n",
       "1  2023-05-22T12:07:44.825Z                    0.631783  \n",
       "2  2023-05-22T12:07:44.825Z                    0.527132  \n",
       "3  2023-05-22T12:07:44.825Z                    0.397287  \n",
       "4  2023-05-22T12:07:44.825Z                    0.098837  "
      ]
     },
     "execution_count": 65,
     "metadata": {},
     "output_type": "execute_result"
    }
   ],
   "source": [
    "orders_df.head(5)"
   ]
  },
  {
   "cell_type": "code",
   "execution_count": 66,
   "id": "03f1e3c1-7879-49af-9cf1-78b7332c3e06",
   "metadata": {
    "tags": []
   },
   "outputs": [],
   "source": [
    "orders_df.to_csv('../data/transformed/orders.csv', index=False)"
   ]
  }
 ],
 "metadata": {
  "availableInstances": [
   {
    "_defaultOrder": 0,
    "_isFastLaunch": true,
    "category": "General purpose",
    "gpuNum": 0,
    "hideHardwareSpecs": false,
    "memoryGiB": 4,
    "name": "ml.t3.medium",
    "vcpuNum": 2
   },
   {
    "_defaultOrder": 1,
    "_isFastLaunch": false,
    "category": "General purpose",
    "gpuNum": 0,
    "hideHardwareSpecs": false,
    "memoryGiB": 8,
    "name": "ml.t3.large",
    "vcpuNum": 2
   },
   {
    "_defaultOrder": 2,
    "_isFastLaunch": false,
    "category": "General purpose",
    "gpuNum": 0,
    "hideHardwareSpecs": false,
    "memoryGiB": 16,
    "name": "ml.t3.xlarge",
    "vcpuNum": 4
   },
   {
    "_defaultOrder": 3,
    "_isFastLaunch": false,
    "category": "General purpose",
    "gpuNum": 0,
    "hideHardwareSpecs": false,
    "memoryGiB": 32,
    "name": "ml.t3.2xlarge",
    "vcpuNum": 8
   },
   {
    "_defaultOrder": 4,
    "_isFastLaunch": true,
    "category": "General purpose",
    "gpuNum": 0,
    "hideHardwareSpecs": false,
    "memoryGiB": 8,
    "name": "ml.m5.large",
    "vcpuNum": 2
   },
   {
    "_defaultOrder": 5,
    "_isFastLaunch": false,
    "category": "General purpose",
    "gpuNum": 0,
    "hideHardwareSpecs": false,
    "memoryGiB": 16,
    "name": "ml.m5.xlarge",
    "vcpuNum": 4
   },
   {
    "_defaultOrder": 6,
    "_isFastLaunch": false,
    "category": "General purpose",
    "gpuNum": 0,
    "hideHardwareSpecs": false,
    "memoryGiB": 32,
    "name": "ml.m5.2xlarge",
    "vcpuNum": 8
   },
   {
    "_defaultOrder": 7,
    "_isFastLaunch": false,
    "category": "General purpose",
    "gpuNum": 0,
    "hideHardwareSpecs": false,
    "memoryGiB": 64,
    "name": "ml.m5.4xlarge",
    "vcpuNum": 16
   },
   {
    "_defaultOrder": 8,
    "_isFastLaunch": false,
    "category": "General purpose",
    "gpuNum": 0,
    "hideHardwareSpecs": false,
    "memoryGiB": 128,
    "name": "ml.m5.8xlarge",
    "vcpuNum": 32
   },
   {
    "_defaultOrder": 9,
    "_isFastLaunch": false,
    "category": "General purpose",
    "gpuNum": 0,
    "hideHardwareSpecs": false,
    "memoryGiB": 192,
    "name": "ml.m5.12xlarge",
    "vcpuNum": 48
   },
   {
    "_defaultOrder": 10,
    "_isFastLaunch": false,
    "category": "General purpose",
    "gpuNum": 0,
    "hideHardwareSpecs": false,
    "memoryGiB": 256,
    "name": "ml.m5.16xlarge",
    "vcpuNum": 64
   },
   {
    "_defaultOrder": 11,
    "_isFastLaunch": false,
    "category": "General purpose",
    "gpuNum": 0,
    "hideHardwareSpecs": false,
    "memoryGiB": 384,
    "name": "ml.m5.24xlarge",
    "vcpuNum": 96
   },
   {
    "_defaultOrder": 12,
    "_isFastLaunch": false,
    "category": "General purpose",
    "gpuNum": 0,
    "hideHardwareSpecs": false,
    "memoryGiB": 8,
    "name": "ml.m5d.large",
    "vcpuNum": 2
   },
   {
    "_defaultOrder": 13,
    "_isFastLaunch": false,
    "category": "General purpose",
    "gpuNum": 0,
    "hideHardwareSpecs": false,
    "memoryGiB": 16,
    "name": "ml.m5d.xlarge",
    "vcpuNum": 4
   },
   {
    "_defaultOrder": 14,
    "_isFastLaunch": false,
    "category": "General purpose",
    "gpuNum": 0,
    "hideHardwareSpecs": false,
    "memoryGiB": 32,
    "name": "ml.m5d.2xlarge",
    "vcpuNum": 8
   },
   {
    "_defaultOrder": 15,
    "_isFastLaunch": false,
    "category": "General purpose",
    "gpuNum": 0,
    "hideHardwareSpecs": false,
    "memoryGiB": 64,
    "name": "ml.m5d.4xlarge",
    "vcpuNum": 16
   },
   {
    "_defaultOrder": 16,
    "_isFastLaunch": false,
    "category": "General purpose",
    "gpuNum": 0,
    "hideHardwareSpecs": false,
    "memoryGiB": 128,
    "name": "ml.m5d.8xlarge",
    "vcpuNum": 32
   },
   {
    "_defaultOrder": 17,
    "_isFastLaunch": false,
    "category": "General purpose",
    "gpuNum": 0,
    "hideHardwareSpecs": false,
    "memoryGiB": 192,
    "name": "ml.m5d.12xlarge",
    "vcpuNum": 48
   },
   {
    "_defaultOrder": 18,
    "_isFastLaunch": false,
    "category": "General purpose",
    "gpuNum": 0,
    "hideHardwareSpecs": false,
    "memoryGiB": 256,
    "name": "ml.m5d.16xlarge",
    "vcpuNum": 64
   },
   {
    "_defaultOrder": 19,
    "_isFastLaunch": false,
    "category": "General purpose",
    "gpuNum": 0,
    "hideHardwareSpecs": false,
    "memoryGiB": 384,
    "name": "ml.m5d.24xlarge",
    "vcpuNum": 96
   },
   {
    "_defaultOrder": 20,
    "_isFastLaunch": false,
    "category": "General purpose",
    "gpuNum": 0,
    "hideHardwareSpecs": true,
    "memoryGiB": 0,
    "name": "ml.geospatial.interactive",
    "supportedImageNames": [
     "sagemaker-geospatial-v1-0"
    ],
    "vcpuNum": 0
   },
   {
    "_defaultOrder": 21,
    "_isFastLaunch": true,
    "category": "Compute optimized",
    "gpuNum": 0,
    "hideHardwareSpecs": false,
    "memoryGiB": 4,
    "name": "ml.c5.large",
    "vcpuNum": 2
   },
   {
    "_defaultOrder": 22,
    "_isFastLaunch": false,
    "category": "Compute optimized",
    "gpuNum": 0,
    "hideHardwareSpecs": false,
    "memoryGiB": 8,
    "name": "ml.c5.xlarge",
    "vcpuNum": 4
   },
   {
    "_defaultOrder": 23,
    "_isFastLaunch": false,
    "category": "Compute optimized",
    "gpuNum": 0,
    "hideHardwareSpecs": false,
    "memoryGiB": 16,
    "name": "ml.c5.2xlarge",
    "vcpuNum": 8
   },
   {
    "_defaultOrder": 24,
    "_isFastLaunch": false,
    "category": "Compute optimized",
    "gpuNum": 0,
    "hideHardwareSpecs": false,
    "memoryGiB": 32,
    "name": "ml.c5.4xlarge",
    "vcpuNum": 16
   },
   {
    "_defaultOrder": 25,
    "_isFastLaunch": false,
    "category": "Compute optimized",
    "gpuNum": 0,
    "hideHardwareSpecs": false,
    "memoryGiB": 72,
    "name": "ml.c5.9xlarge",
    "vcpuNum": 36
   },
   {
    "_defaultOrder": 26,
    "_isFastLaunch": false,
    "category": "Compute optimized",
    "gpuNum": 0,
    "hideHardwareSpecs": false,
    "memoryGiB": 96,
    "name": "ml.c5.12xlarge",
    "vcpuNum": 48
   },
   {
    "_defaultOrder": 27,
    "_isFastLaunch": false,
    "category": "Compute optimized",
    "gpuNum": 0,
    "hideHardwareSpecs": false,
    "memoryGiB": 144,
    "name": "ml.c5.18xlarge",
    "vcpuNum": 72
   },
   {
    "_defaultOrder": 28,
    "_isFastLaunch": false,
    "category": "Compute optimized",
    "gpuNum": 0,
    "hideHardwareSpecs": false,
    "memoryGiB": 192,
    "name": "ml.c5.24xlarge",
    "vcpuNum": 96
   },
   {
    "_defaultOrder": 29,
    "_isFastLaunch": true,
    "category": "Accelerated computing",
    "gpuNum": 1,
    "hideHardwareSpecs": false,
    "memoryGiB": 16,
    "name": "ml.g4dn.xlarge",
    "vcpuNum": 4
   },
   {
    "_defaultOrder": 30,
    "_isFastLaunch": false,
    "category": "Accelerated computing",
    "gpuNum": 1,
    "hideHardwareSpecs": false,
    "memoryGiB": 32,
    "name": "ml.g4dn.2xlarge",
    "vcpuNum": 8
   },
   {
    "_defaultOrder": 31,
    "_isFastLaunch": false,
    "category": "Accelerated computing",
    "gpuNum": 1,
    "hideHardwareSpecs": false,
    "memoryGiB": 64,
    "name": "ml.g4dn.4xlarge",
    "vcpuNum": 16
   },
   {
    "_defaultOrder": 32,
    "_isFastLaunch": false,
    "category": "Accelerated computing",
    "gpuNum": 1,
    "hideHardwareSpecs": false,
    "memoryGiB": 128,
    "name": "ml.g4dn.8xlarge",
    "vcpuNum": 32
   },
   {
    "_defaultOrder": 33,
    "_isFastLaunch": false,
    "category": "Accelerated computing",
    "gpuNum": 4,
    "hideHardwareSpecs": false,
    "memoryGiB": 192,
    "name": "ml.g4dn.12xlarge",
    "vcpuNum": 48
   },
   {
    "_defaultOrder": 34,
    "_isFastLaunch": false,
    "category": "Accelerated computing",
    "gpuNum": 1,
    "hideHardwareSpecs": false,
    "memoryGiB": 256,
    "name": "ml.g4dn.16xlarge",
    "vcpuNum": 64
   },
   {
    "_defaultOrder": 35,
    "_isFastLaunch": false,
    "category": "Accelerated computing",
    "gpuNum": 1,
    "hideHardwareSpecs": false,
    "memoryGiB": 61,
    "name": "ml.p3.2xlarge",
    "vcpuNum": 8
   },
   {
    "_defaultOrder": 36,
    "_isFastLaunch": false,
    "category": "Accelerated computing",
    "gpuNum": 4,
    "hideHardwareSpecs": false,
    "memoryGiB": 244,
    "name": "ml.p3.8xlarge",
    "vcpuNum": 32
   },
   {
    "_defaultOrder": 37,
    "_isFastLaunch": false,
    "category": "Accelerated computing",
    "gpuNum": 8,
    "hideHardwareSpecs": false,
    "memoryGiB": 488,
    "name": "ml.p3.16xlarge",
    "vcpuNum": 64
   },
   {
    "_defaultOrder": 38,
    "_isFastLaunch": false,
    "category": "Accelerated computing",
    "gpuNum": 8,
    "hideHardwareSpecs": false,
    "memoryGiB": 768,
    "name": "ml.p3dn.24xlarge",
    "vcpuNum": 96
   },
   {
    "_defaultOrder": 39,
    "_isFastLaunch": false,
    "category": "Memory Optimized",
    "gpuNum": 0,
    "hideHardwareSpecs": false,
    "memoryGiB": 16,
    "name": "ml.r5.large",
    "vcpuNum": 2
   },
   {
    "_defaultOrder": 40,
    "_isFastLaunch": false,
    "category": "Memory Optimized",
    "gpuNum": 0,
    "hideHardwareSpecs": false,
    "memoryGiB": 32,
    "name": "ml.r5.xlarge",
    "vcpuNum": 4
   },
   {
    "_defaultOrder": 41,
    "_isFastLaunch": false,
    "category": "Memory Optimized",
    "gpuNum": 0,
    "hideHardwareSpecs": false,
    "memoryGiB": 64,
    "name": "ml.r5.2xlarge",
    "vcpuNum": 8
   },
   {
    "_defaultOrder": 42,
    "_isFastLaunch": false,
    "category": "Memory Optimized",
    "gpuNum": 0,
    "hideHardwareSpecs": false,
    "memoryGiB": 128,
    "name": "ml.r5.4xlarge",
    "vcpuNum": 16
   },
   {
    "_defaultOrder": 43,
    "_isFastLaunch": false,
    "category": "Memory Optimized",
    "gpuNum": 0,
    "hideHardwareSpecs": false,
    "memoryGiB": 256,
    "name": "ml.r5.8xlarge",
    "vcpuNum": 32
   },
   {
    "_defaultOrder": 44,
    "_isFastLaunch": false,
    "category": "Memory Optimized",
    "gpuNum": 0,
    "hideHardwareSpecs": false,
    "memoryGiB": 384,
    "name": "ml.r5.12xlarge",
    "vcpuNum": 48
   },
   {
    "_defaultOrder": 45,
    "_isFastLaunch": false,
    "category": "Memory Optimized",
    "gpuNum": 0,
    "hideHardwareSpecs": false,
    "memoryGiB": 512,
    "name": "ml.r5.16xlarge",
    "vcpuNum": 64
   },
   {
    "_defaultOrder": 46,
    "_isFastLaunch": false,
    "category": "Memory Optimized",
    "gpuNum": 0,
    "hideHardwareSpecs": false,
    "memoryGiB": 768,
    "name": "ml.r5.24xlarge",
    "vcpuNum": 96
   },
   {
    "_defaultOrder": 47,
    "_isFastLaunch": false,
    "category": "Accelerated computing",
    "gpuNum": 1,
    "hideHardwareSpecs": false,
    "memoryGiB": 16,
    "name": "ml.g5.xlarge",
    "vcpuNum": 4
   },
   {
    "_defaultOrder": 48,
    "_isFastLaunch": false,
    "category": "Accelerated computing",
    "gpuNum": 1,
    "hideHardwareSpecs": false,
    "memoryGiB": 32,
    "name": "ml.g5.2xlarge",
    "vcpuNum": 8
   },
   {
    "_defaultOrder": 49,
    "_isFastLaunch": false,
    "category": "Accelerated computing",
    "gpuNum": 1,
    "hideHardwareSpecs": false,
    "memoryGiB": 64,
    "name": "ml.g5.4xlarge",
    "vcpuNum": 16
   },
   {
    "_defaultOrder": 50,
    "_isFastLaunch": false,
    "category": "Accelerated computing",
    "gpuNum": 1,
    "hideHardwareSpecs": false,
    "memoryGiB": 128,
    "name": "ml.g5.8xlarge",
    "vcpuNum": 32
   },
   {
    "_defaultOrder": 51,
    "_isFastLaunch": false,
    "category": "Accelerated computing",
    "gpuNum": 1,
    "hideHardwareSpecs": false,
    "memoryGiB": 256,
    "name": "ml.g5.16xlarge",
    "vcpuNum": 64
   },
   {
    "_defaultOrder": 52,
    "_isFastLaunch": false,
    "category": "Accelerated computing",
    "gpuNum": 4,
    "hideHardwareSpecs": false,
    "memoryGiB": 192,
    "name": "ml.g5.12xlarge",
    "vcpuNum": 48
   },
   {
    "_defaultOrder": 53,
    "_isFastLaunch": false,
    "category": "Accelerated computing",
    "gpuNum": 4,
    "hideHardwareSpecs": false,
    "memoryGiB": 384,
    "name": "ml.g5.24xlarge",
    "vcpuNum": 96
   },
   {
    "_defaultOrder": 54,
    "_isFastLaunch": false,
    "category": "Accelerated computing",
    "gpuNum": 8,
    "hideHardwareSpecs": false,
    "memoryGiB": 768,
    "name": "ml.g5.48xlarge",
    "vcpuNum": 192
   },
   {
    "_defaultOrder": 55,
    "_isFastLaunch": false,
    "category": "Accelerated computing",
    "gpuNum": 8,
    "hideHardwareSpecs": false,
    "memoryGiB": 1152,
    "name": "ml.p4d.24xlarge",
    "vcpuNum": 96
   },
   {
    "_defaultOrder": 56,
    "_isFastLaunch": false,
    "category": "Accelerated computing",
    "gpuNum": 8,
    "hideHardwareSpecs": false,
    "memoryGiB": 1152,
    "name": "ml.p4de.24xlarge",
    "vcpuNum": 96
   }
  ],
  "instance_type": "ml.t3.medium",
  "kernelspec": {
   "display_name": "Python 3 (Data Science)",
   "language": "python",
   "name": "python3__SAGEMAKER_INTERNAL__arn:aws:sagemaker:eu-west-1:470317259841:image/datascience-1.0"
  },
  "language_info": {
   "codemirror_mode": {
    "name": "ipython",
    "version": 3
   },
   "file_extension": ".py",
   "mimetype": "text/x-python",
   "name": "python",
   "nbconvert_exporter": "python",
   "pygments_lexer": "ipython3",
   "version": "3.7.10"
  }
 },
 "nbformat": 4,
 "nbformat_minor": 5
}
