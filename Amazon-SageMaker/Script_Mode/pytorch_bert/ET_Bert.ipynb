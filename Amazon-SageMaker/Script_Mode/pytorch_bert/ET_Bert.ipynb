{
 "cells": [
  {
   "cell_type": "markdown",
   "id": "9f324af1-2036-4f42-bbf7-5e7d279d8581",
   "metadata": {},
   "source": [
    "# Host a Pretrained Model on SageMaker\n",
    "---"
   ]
  },
  {
   "cell_type": "code",
   "execution_count": 5,
   "id": "f2d0b106-7df6-4016-b231-d2cd0896da45",
   "metadata": {
    "tags": []
   },
   "outputs": [
    {
     "name": "stdout",
     "output_type": "stream",
     "text": [
      "\u001b[33mWARNING: Running pip as the 'root' user can result in broken permissions and conflicting behaviour with the system package manager. It is recommended to use a virtual environment instead: https://pip.pypa.io/warnings/venv\u001b[0m\u001b[33m\n",
      "\u001b[0mRequirement already satisfied: tensorflow in /opt/conda/lib/python3.7/site-packages (2.11.0)\n",
      "Requirement already satisfied: absl-py>=1.0.0 in /opt/conda/lib/python3.7/site-packages (from tensorflow) (1.4.0)\n",
      "Requirement already satisfied: astunparse>=1.6.0 in /opt/conda/lib/python3.7/site-packages (from tensorflow) (1.6.3)\n",
      "Requirement already satisfied: flatbuffers>=2.0 in /opt/conda/lib/python3.7/site-packages (from tensorflow) (23.5.9)\n",
      "Requirement already satisfied: gast<=0.4.0,>=0.2.1 in /opt/conda/lib/python3.7/site-packages (from tensorflow) (0.4.0)\n",
      "Requirement already satisfied: google-pasta>=0.1.1 in /opt/conda/lib/python3.7/site-packages (from tensorflow) (0.2.0)\n",
      "Requirement already satisfied: grpcio<2.0,>=1.24.3 in /opt/conda/lib/python3.7/site-packages (from tensorflow) (1.55.0)\n",
      "Requirement already satisfied: h5py>=2.9.0 in /opt/conda/lib/python3.7/site-packages (from tensorflow) (2.10.0)\n",
      "Requirement already satisfied: keras<2.12,>=2.11.0 in /opt/conda/lib/python3.7/site-packages (from tensorflow) (2.11.0)\n",
      "Requirement already satisfied: libclang>=13.0.0 in /opt/conda/lib/python3.7/site-packages (from tensorflow) (16.0.0)\n",
      "Requirement already satisfied: numpy>=1.20 in /opt/conda/lib/python3.7/site-packages (from tensorflow) (1.21.6)\n",
      "Requirement already satisfied: opt-einsum>=2.3.2 in /opt/conda/lib/python3.7/site-packages (from tensorflow) (3.3.0)\n",
      "Requirement already satisfied: packaging in /opt/conda/lib/python3.7/site-packages (from tensorflow) (20.1)\n",
      "Requirement already satisfied: protobuf<3.20,>=3.9.2 in /opt/conda/lib/python3.7/site-packages (from tensorflow) (3.19.6)\n",
      "Requirement already satisfied: setuptools in /opt/conda/lib/python3.7/site-packages (from tensorflow) (45.2.0.post20200210)\n",
      "Requirement already satisfied: six>=1.12.0 in /opt/conda/lib/python3.7/site-packages (from tensorflow) (1.14.0)\n",
      "Requirement already satisfied: tensorboard<2.12,>=2.11 in /opt/conda/lib/python3.7/site-packages (from tensorflow) (2.11.2)\n",
      "Requirement already satisfied: tensorflow-estimator<2.12,>=2.11.0 in /opt/conda/lib/python3.7/site-packages (from tensorflow) (2.11.0)\n",
      "Requirement already satisfied: termcolor>=1.1.0 in /opt/conda/lib/python3.7/site-packages (from tensorflow) (2.3.0)\n",
      "Requirement already satisfied: typing-extensions>=3.6.6 in /opt/conda/lib/python3.7/site-packages (from tensorflow) (4.5.0)\n",
      "Requirement already satisfied: wrapt>=1.11.0 in /opt/conda/lib/python3.7/site-packages (from tensorflow) (1.11.2)\n",
      "Requirement already satisfied: tensorflow-io-gcs-filesystem>=0.23.1 in /opt/conda/lib/python3.7/site-packages (from tensorflow) (0.32.0)\n",
      "Requirement already satisfied: wheel<1.0,>=0.23.0 in /opt/conda/lib/python3.7/site-packages (from astunparse>=1.6.0->tensorflow) (0.40.0)\n",
      "Requirement already satisfied: google-auth<3,>=1.6.3 in /opt/conda/lib/python3.7/site-packages (from tensorboard<2.12,>=2.11->tensorflow) (2.18.1)\n",
      "Requirement already satisfied: google-auth-oauthlib<0.5,>=0.4.1 in /opt/conda/lib/python3.7/site-packages (from tensorboard<2.12,>=2.11->tensorflow) (0.4.6)\n",
      "Requirement already satisfied: markdown>=2.6.8 in /opt/conda/lib/python3.7/site-packages (from tensorboard<2.12,>=2.11->tensorflow) (3.4.3)\n",
      "Requirement already satisfied: requests<3,>=2.21.0 in /opt/conda/lib/python3.7/site-packages (from tensorboard<2.12,>=2.11->tensorflow) (2.28.2)\n",
      "Requirement already satisfied: tensorboard-data-server<0.7.0,>=0.6.0 in /opt/conda/lib/python3.7/site-packages (from tensorboard<2.12,>=2.11->tensorflow) (0.6.1)\n",
      "Requirement already satisfied: tensorboard-plugin-wit>=1.6.0 in /opt/conda/lib/python3.7/site-packages (from tensorboard<2.12,>=2.11->tensorflow) (1.8.1)\n",
      "Requirement already satisfied: werkzeug>=1.0.1 in /opt/conda/lib/python3.7/site-packages (from tensorboard<2.12,>=2.11->tensorflow) (2.2.3)\n",
      "Requirement already satisfied: pyparsing>=2.0.2 in /opt/conda/lib/python3.7/site-packages (from packaging->tensorflow) (2.4.6)\n",
      "Requirement already satisfied: cachetools<6.0,>=2.0.0 in /opt/conda/lib/python3.7/site-packages (from google-auth<3,>=1.6.3->tensorboard<2.12,>=2.11->tensorflow) (5.3.0)\n",
      "Requirement already satisfied: pyasn1-modules>=0.2.1 in /opt/conda/lib/python3.7/site-packages (from google-auth<3,>=1.6.3->tensorboard<2.12,>=2.11->tensorflow) (0.3.0)\n",
      "Requirement already satisfied: urllib3<2.0 in /opt/conda/lib/python3.7/site-packages (from google-auth<3,>=1.6.3->tensorboard<2.12,>=2.11->tensorflow) (1.26.15)\n",
      "Requirement already satisfied: rsa<5,>=3.1.4 in /opt/conda/lib/python3.7/site-packages (from google-auth<3,>=1.6.3->tensorboard<2.12,>=2.11->tensorflow) (4.9)\n",
      "Requirement already satisfied: requests-oauthlib>=0.7.0 in /opt/conda/lib/python3.7/site-packages (from google-auth-oauthlib<0.5,>=0.4.1->tensorboard<2.12,>=2.11->tensorflow) (1.3.1)\n",
      "Requirement already satisfied: importlib-metadata>=4.4 in /opt/conda/lib/python3.7/site-packages (from markdown>=2.6.8->tensorboard<2.12,>=2.11->tensorflow) (6.3.0)\n",
      "Requirement already satisfied: charset-normalizer<4,>=2 in /opt/conda/lib/python3.7/site-packages (from requests<3,>=2.21.0->tensorboard<2.12,>=2.11->tensorflow) (2.0.4)\n",
      "Requirement already satisfied: idna<4,>=2.5 in /opt/conda/lib/python3.7/site-packages (from requests<3,>=2.21.0->tensorboard<2.12,>=2.11->tensorflow) (2.8)\n",
      "Requirement already satisfied: certifi>=2017.4.17 in /opt/conda/lib/python3.7/site-packages (from requests<3,>=2.21.0->tensorboard<2.12,>=2.11->tensorflow) (2022.12.7)\n",
      "Requirement already satisfied: MarkupSafe>=2.1.1 in /opt/conda/lib/python3.7/site-packages (from werkzeug>=1.0.1->tensorboard<2.12,>=2.11->tensorflow) (2.1.2)\n",
      "Requirement already satisfied: zipp>=0.5 in /opt/conda/lib/python3.7/site-packages (from importlib-metadata>=4.4->markdown>=2.6.8->tensorboard<2.12,>=2.11->tensorflow) (2.2.0)\n",
      "Requirement already satisfied: pyasn1<0.6.0,>=0.4.6 in /opt/conda/lib/python3.7/site-packages (from pyasn1-modules>=0.2.1->google-auth<3,>=1.6.3->tensorboard<2.12,>=2.11->tensorflow) (0.4.8)\n",
      "Requirement already satisfied: oauthlib>=3.0.0 in /opt/conda/lib/python3.7/site-packages (from requests-oauthlib>=0.7.0->google-auth-oauthlib<0.5,>=0.4.1->tensorboard<2.12,>=2.11->tensorflow) (3.2.2)\n",
      "\u001b[33mWARNING: Running pip as the 'root' user can result in broken permissions and conflicting behaviour with the system package manager. It is recommended to use a virtual environment instead: https://pip.pypa.io/warnings/venv\u001b[0m\u001b[33m\n",
      "\u001b[0mCollecting torch\n",
      "  Downloading torch-1.13.1-cp37-cp37m-manylinux1_x86_64.whl (887.5 MB)\n",
      "\u001b[2K     \u001b[90m━━━━━━━━━━━━━━━━━━━━━━━━━━━━━━━━━━━━━\u001b[0m \u001b[32m887.5/887.5 MB\u001b[0m \u001b[31m995.2 kB/s\u001b[0m eta \u001b[36m0:00:00\u001b[0m00:01\u001b[0m00:01\u001b[0m\n",
      "\u001b[?25hRequirement already satisfied: typing-extensions in /opt/conda/lib/python3.7/site-packages (from torch) (4.5.0)\n",
      "Collecting nvidia-cuda-runtime-cu11==11.7.99 (from torch)\n",
      "  Downloading nvidia_cuda_runtime_cu11-11.7.99-py3-none-manylinux1_x86_64.whl (849 kB)\n",
      "\u001b[2K     \u001b[90m━━━━━━━━━━━━━━━━━━━━━━━━━━━━━━━━━━━━━━\u001b[0m \u001b[32m849.3/849.3 kB\u001b[0m \u001b[31m13.3 MB/s\u001b[0m eta \u001b[36m0:00:00\u001b[0m00:01\u001b[0m\n",
      "\u001b[?25hCollecting nvidia-cudnn-cu11==8.5.0.96 (from torch)\n",
      "  Downloading nvidia_cudnn_cu11-8.5.0.96-2-py3-none-manylinux1_x86_64.whl (557.1 MB)\n",
      "\u001b[2K     \u001b[90m━━━━━━━━━━━━━━━━━━━━━━━━━━━━━━━━━━━━━━━\u001b[0m \u001b[32m557.1/557.1 MB\u001b[0m \u001b[31m1.6 MB/s\u001b[0m eta \u001b[36m0:00:00\u001b[0m00:01\u001b[0m00:01\u001b[0m\n",
      "\u001b[?25hCollecting nvidia-cublas-cu11==11.10.3.66 (from torch)\n",
      "  Downloading nvidia_cublas_cu11-11.10.3.66-py3-none-manylinux1_x86_64.whl (317.1 MB)\n",
      "\u001b[2K     \u001b[90m━━━━━━━━━━━━━━━━━━━━━━━━━━━━━━━━━━━━━━━\u001b[0m \u001b[32m317.1/317.1 MB\u001b[0m \u001b[31m2.8 MB/s\u001b[0m eta \u001b[36m0:00:00\u001b[0m00:01\u001b[0m00:01\u001b[0m\n",
      "\u001b[?25hCollecting nvidia-cuda-nvrtc-cu11==11.7.99 (from torch)\n",
      "  Downloading nvidia_cuda_nvrtc_cu11-11.7.99-2-py3-none-manylinux1_x86_64.whl (21.0 MB)\n",
      "\u001b[2K     \u001b[90m━━━━━━━━━━━━━━━━━━━━━━━━━━━━━━━━━━━━━━━━\u001b[0m \u001b[32m21.0/21.0 MB\u001b[0m \u001b[31m37.3 MB/s\u001b[0m eta \u001b[36m0:00:00\u001b[0m00:01\u001b[0m00:01\u001b[0m\n",
      "\u001b[?25hRequirement already satisfied: setuptools in /opt/conda/lib/python3.7/site-packages (from nvidia-cublas-cu11==11.10.3.66->torch) (45.2.0.post20200210)\n",
      "Requirement already satisfied: wheel in /opt/conda/lib/python3.7/site-packages (from nvidia-cublas-cu11==11.10.3.66->torch) (0.40.0)\n",
      "Installing collected packages: nvidia-cuda-runtime-cu11, nvidia-cuda-nvrtc-cu11, nvidia-cublas-cu11, nvidia-cudnn-cu11, torch\n",
      "Successfully installed nvidia-cublas-cu11-11.10.3.66 nvidia-cuda-nvrtc-cu11-11.7.99 nvidia-cuda-runtime-cu11-11.7.99 nvidia-cudnn-cu11-8.5.0.96 torch-1.13.1\n",
      "\u001b[33mWARNING: Running pip as the 'root' user can result in broken permissions and conflicting behaviour with the system package manager. It is recommended to use a virtual environment instead: https://pip.pypa.io/warnings/venv\u001b[0m\u001b[33m\n",
      "\u001b[0m"
     ]
    }
   ],
   "source": [
    "!pip install transformers==3.3.1 sagemaker==2.15.0 --quiet\n",
    "!pip install tensorflow\n",
    "!pip install torch"
   ]
  },
  {
   "cell_type": "code",
   "execution_count": 3,
   "id": "c4681a00-ebf4-4402-be9d-f60035378c36",
   "metadata": {
    "tags": []
   },
   "outputs": [],
   "source": [
    "# !pip install --upgrade pip"
   ]
  },
  {
   "cell_type": "code",
   "execution_count": 8,
   "id": "a51f161a-a40b-48b0-82ae-cdc5babe2442",
   "metadata": {
    "tags": []
   },
   "outputs": [
    {
     "data": {
      "text/plain": [
       "('model/vocab.txt', 'model/special_tokens_map.json', 'model/added_tokens.json')"
      ]
     },
     "execution_count": 8,
     "metadata": {},
     "output_type": "execute_result"
    }
   ],
   "source": [
    "import os\n",
    "from transformers import BertTokenizer\n",
    "from transformers.modeling_bert import BertModel\n",
    "\n",
    "\n",
    "tokenizer = BertTokenizer.from_pretrained(\"bert-base-uncased\")\n",
    "model = BertModel.from_pretrained(\"bert-base-uncased\")\n",
    "\n",
    "model_path = \"model/\"\n",
    "code_path = \"code/\"\n",
    "\n",
    "if not os.path.exists(model_path):\n",
    "    os.mkdir(model_path)\n",
    "\n",
    "model.save_pretrained(save_directory=model_path)\n",
    "tokenizer.save_pretrained(save_directory=model_path)"
   ]
  },
  {
   "cell_type": "code",
   "execution_count": 9,
   "id": "3fda962c-fd33-4698-9cf6-398b0012f9fd",
   "metadata": {
    "tags": []
   },
   "outputs": [
    {
     "name": "stdout",
     "output_type": "stream",
     "text": [
      "\u001b[34mimport\u001b[39;49;00m \u001b[04m\u001b[36mos\u001b[39;49;00m\u001b[37m\u001b[39;49;00m\n",
      "\u001b[34mimport\u001b[39;49;00m \u001b[04m\u001b[36mjson\u001b[39;49;00m\u001b[37m\u001b[39;49;00m\n",
      "\u001b[34mfrom\u001b[39;49;00m \u001b[04m\u001b[36mtransformers\u001b[39;49;00m \u001b[34mimport\u001b[39;49;00m BertTokenizer, BertModel\u001b[37m\u001b[39;49;00m\n",
      "\u001b[37m\u001b[39;49;00m\n",
      "\u001b[34mdef\u001b[39;49;00m \u001b[32mmodel_fn\u001b[39;49;00m(model_dir):\u001b[37m\u001b[39;49;00m\n",
      "\u001b[37m    \u001b[39;49;00m\u001b[33m\"\"\"\u001b[39;49;00m\n",
      "\u001b[33m    Load the model for inference\u001b[39;49;00m\n",
      "\u001b[33m    \"\"\"\u001b[39;49;00m\u001b[37m\u001b[39;49;00m\n",
      "\u001b[37m\u001b[39;49;00m\n",
      "    model_path = os.path.join(model_dir, \u001b[33m'\u001b[39;49;00m\u001b[33mmodel/\u001b[39;49;00m\u001b[33m'\u001b[39;49;00m)\u001b[37m\u001b[39;49;00m\n",
      "    \u001b[37m\u001b[39;49;00m\n",
      "    \u001b[37m# Load BERT tokenizer from disk.\u001b[39;49;00m\u001b[37m\u001b[39;49;00m\n",
      "    tokenizer = BertTokenizer.from_pretrained(model_path)\u001b[37m\u001b[39;49;00m\n",
      "\u001b[37m\u001b[39;49;00m\n",
      "    \u001b[37m# Load BERT model from disk.\u001b[39;49;00m\u001b[37m\u001b[39;49;00m\n",
      "    model = BertModel.from_pretrained(model_path)\u001b[37m\u001b[39;49;00m\n",
      "\u001b[37m\u001b[39;49;00m\n",
      "    model_dict = {\u001b[33m'\u001b[39;49;00m\u001b[33mmodel\u001b[39;49;00m\u001b[33m'\u001b[39;49;00m: model, \u001b[33m'\u001b[39;49;00m\u001b[33mtokenizer\u001b[39;49;00m\u001b[33m'\u001b[39;49;00m:tokenizer}\u001b[37m\u001b[39;49;00m\n",
      "    \u001b[37m\u001b[39;49;00m\n",
      "    \u001b[34mreturn\u001b[39;49;00m model_dict\u001b[37m\u001b[39;49;00m\n",
      "\u001b[37m\u001b[39;49;00m\n",
      "\u001b[34mdef\u001b[39;49;00m \u001b[32mpredict_fn\u001b[39;49;00m(input_data, model):\u001b[37m\u001b[39;49;00m\n",
      "\u001b[37m    \u001b[39;49;00m\u001b[33m\"\"\"\u001b[39;49;00m\n",
      "\u001b[33m    Apply model to the incoming request\u001b[39;49;00m\n",
      "\u001b[33m    \"\"\"\u001b[39;49;00m\u001b[37m\u001b[39;49;00m\n",
      "    \u001b[37m\u001b[39;49;00m\n",
      "    tokenizer = model[\u001b[33m'\u001b[39;49;00m\u001b[33mtokenizer\u001b[39;49;00m\u001b[33m'\u001b[39;49;00m]\u001b[37m\u001b[39;49;00m\n",
      "    bert_model = model[\u001b[33m'\u001b[39;49;00m\u001b[33mmodel\u001b[39;49;00m\u001b[33m'\u001b[39;49;00m]\u001b[37m\u001b[39;49;00m\n",
      "    \u001b[37m\u001b[39;49;00m\n",
      "    encoded_input = tokenizer(input_data, return_tensors=\u001b[33m'\u001b[39;49;00m\u001b[33mpt\u001b[39;49;00m\u001b[33m'\u001b[39;49;00m)\u001b[37m\u001b[39;49;00m\n",
      "    \u001b[37m\u001b[39;49;00m\n",
      "    \u001b[34mreturn\u001b[39;49;00m bert_model(**encoded_input)\u001b[37m\u001b[39;49;00m\n",
      "\u001b[37m\u001b[39;49;00m\n",
      "\u001b[34mdef\u001b[39;49;00m \u001b[32minput_fn\u001b[39;49;00m(request_body, request_content_type):\u001b[37m\u001b[39;49;00m\n",
      "\u001b[37m    \u001b[39;49;00m\u001b[33m\"\"\"\u001b[39;49;00m\n",
      "\u001b[33m    Deserialize and prepare the prediction input\u001b[39;49;00m\n",
      "\u001b[33m    \"\"\"\u001b[39;49;00m\u001b[37m\u001b[39;49;00m\n",
      "    \u001b[37m\u001b[39;49;00m\n",
      "    \u001b[34mif\u001b[39;49;00m request_content_type == \u001b[33m\"\u001b[39;49;00m\u001b[33mapplication/json\u001b[39;49;00m\u001b[33m\"\u001b[39;49;00m:\u001b[37m\u001b[39;49;00m\n",
      "        request = json.loads(request_body)\u001b[37m\u001b[39;49;00m\n",
      "    \u001b[34melse\u001b[39;49;00m:\u001b[37m\u001b[39;49;00m\n",
      "        request = request_body\u001b[37m\u001b[39;49;00m\n",
      "\u001b[37m\u001b[39;49;00m\n",
      "    \u001b[34mreturn\u001b[39;49;00m request\u001b[37m\u001b[39;49;00m\n",
      "\u001b[37m\u001b[39;49;00m\n",
      "\u001b[34mdef\u001b[39;49;00m \u001b[32moutput_fn\u001b[39;49;00m(prediction, response_content_type):\u001b[37m\u001b[39;49;00m\n",
      "\u001b[37m    \u001b[39;49;00m\u001b[33m\"\"\"\u001b[39;49;00m\n",
      "\u001b[33m    Serialize and prepare the prediction output\u001b[39;49;00m\n",
      "\u001b[33m    \"\"\"\u001b[39;49;00m\u001b[37m\u001b[39;49;00m\n",
      "    \u001b[37m\u001b[39;49;00m\n",
      "    \u001b[34mif\u001b[39;49;00m response_content_type == \u001b[33m\"\u001b[39;49;00m\u001b[33mapplication/json\u001b[39;49;00m\u001b[33m\"\u001b[39;49;00m:\u001b[37m\u001b[39;49;00m\n",
      "        response = \u001b[36mstr\u001b[39;49;00m(prediction)\u001b[37m\u001b[39;49;00m\n",
      "    \u001b[34melse\u001b[39;49;00m:\u001b[37m\u001b[39;49;00m\n",
      "        response = \u001b[36mstr\u001b[39;49;00m(prediction)\u001b[37m\u001b[39;49;00m\n",
      "\u001b[37m\u001b[39;49;00m\n",
      "    \u001b[34mreturn\u001b[39;49;00m response\u001b[37m\u001b[39;49;00m\n"
     ]
    }
   ],
   "source": [
    "!pygmentize code/inference_code.py"
   ]
  },
  {
   "cell_type": "code",
   "execution_count": 11,
   "id": "6fea01d4-2ee5-42fe-818e-8f63fb81ba54",
   "metadata": {
    "tags": []
   },
   "outputs": [],
   "source": [
    "import tarfile\n",
    "\n",
    "zipped_model_path = os.path.join(model_path, \"model.tar.gz\")\n",
    "\n",
    "with tarfile.open(zipped_model_path, \"w:gz\") as tar:\n",
    "    tar.add(model_path)\n",
    "    tar.add(code_path)"
   ]
  },
  {
   "cell_type": "code",
   "execution_count": 12,
   "id": "2e3d93e7-1535-4fed-bcc7-4759b9f176f9",
   "metadata": {
    "tags": []
   },
   "outputs": [
    {
     "name": "stdout",
     "output_type": "stream",
     "text": [
      "-----!"
     ]
    }
   ],
   "source": [
    "from sagemaker.pytorch import PyTorchModel\n",
    "from sagemaker import get_execution_role\n",
    "import time\n",
    "\n",
    "endpoint_name = \"bert-base-\" + time.strftime(\"%Y-%m-%d-%H-%M-%S\", time.gmtime())\n",
    "\n",
    "model = PyTorchModel(\n",
    "    entry_point=\"inference_code.py\",\n",
    "    model_data=zipped_model_path,\n",
    "    role=get_execution_role(),\n",
    "    framework_version=\"1.5\",\n",
    "    py_version=\"py3\",\n",
    ")\n",
    "\n",
    "predictor = model.deploy(\n",
    "    initial_instance_count=1, \n",
    "    instance_type=\"ml.m5.xlarge\",\n",
    "    endpoint_name=endpoint_name\n",
    ")"
   ]
  },
  {
   "cell_type": "code",
   "execution_count": 14,
   "id": "58f10764-0cdd-4a1e-af2d-e9d0c3383471",
   "metadata": {
    "tags": []
   },
   "outputs": [
    {
     "data": {
      "text/plain": [
       "b'(tensor([[[-0.2462, -0.0988,  0.1747,  ..., -0.4059,  0.0966,  0.6564],\\n         [-0.1352, -0.5824, -0.0728,  ..., -0.1726,  0.5765,  0.1273],\\n         [-0.1491, -0.4218,  0.2821,  ...,  0.1332,  0.5053, -0.2813],\\n         ...,\\n         [-0.8054, -0.3126,  0.6776,  ..., -0.0572,  0.0806, -0.0318],\\n         [ 0.7608,  0.1367, -0.2650,  ...,  0.1246, -0.5977, -0.2397],\\n         [ 0.4660,  0.2762,  0.0636,  ...,  0.1112, -0.5502, -0.2997]]],\\n       grad_fn=<NativeLayerNormBackward>), tensor([[-7.0429e-01, -4.2229e-01, -9.7203e-01,  6.3414e-01,  8.6010e-01,\\n         -3.5008e-01,  3.8001e-02,  2.2652e-01, -8.5239e-01, -9.9980e-01,\\n         -6.4649e-01,  8.4232e-01,  8.9319e-01,  6.2476e-01,  4.8914e-01,\\n         -3.7195e-01,  1.0597e-01, -5.0569e-01,  3.3702e-01,  7.3767e-01,\\n          6.0322e-01,  1.0000e+00, -3.2281e-01,  4.7648e-01,  4.4296e-01,\\n          9.4813e-01, -6.6813e-01,  7.4915e-01,  8.2229e-01,  6.3062e-01,\\n         -1.4025e-01,  2.2783e-01, -9.6329e-01, -2.0670e-01, -9.7215e-01,\\n         -9.3046e-01,  5.0601e-01, -4.7677e-01,  1.6829e-01, -2.7723e-02,\\n         -7.4092e-01,  3.3085e-01,  9.9991e-01, -6.8587e-01,  7.2314e-01,\\n         -1.7280e-01, -1.0000e+00,  2.7953e-01, -6.6518e-01,  9.3125e-01,\\n          8.8504e-01,  9.0542e-01,  2.4233e-01,  4.6617e-01,  4.7114e-01,\\n         -5.9370e-01, -2.0038e-01,  2.7291e-02, -2.8522e-01, -5.5561e-01,\\n         -6.1984e-01,  4.2931e-01, -8.7690e-01, -7.1666e-01,  8.7416e-01,\\n          9.3529e-01, -1.6623e-01, -2.3902e-01, -1.9703e-01, -4.2381e-02,\\n          6.0962e-01,  1.7582e-01, -3.2225e-01, -7.3443e-01,  7.5766e-01,\\n          2.8546e-01, -6.3455e-01,  1.0000e+00, -1.5006e-01, -8.9906e-01,\\n          9.4594e-01,  8.2220e-01,  5.8257e-01, -6.1727e-01,  7.2892e-01,\\n         -1.0000e+00,  5.9967e-01, -1.9553e-01, -9.5505e-01,  2.8234e-01,\\n          6.5812e-01, -3.3026e-01,  9.2597e-01,  7.0949e-01, -6.0489e-01,\\n         -6.2557e-01, -2.1836e-01, -9.4475e-01, -3.5476e-01, -6.5299e-01,\\n          2.4002e-01, -2.9925e-01, -3.6173e-01, -3.2079e-01,  4.4673e-01,\\n         -4.7877e-01,  3.8068e-03,  6.1428e-01,  3.1495e-01,  5.5661e-01,\\n          5.4409e-01, -4.0993e-01,  3.5277e-01, -7.7047e-01,  4.9286e-01,\\n         -3.3508e-01, -9.6048e-01, -6.4067e-01, -9.5352e-01,  4.8227e-01,\\n         -2.5500e-01, -2.7310e-01,  6.2703e-01, -6.0067e-01,  4.3773e-01,\\n         -1.3204e-01, -8.9876e-01, -1.0000e+00, -5.7486e-01, -5.8367e-01,\\n         -3.7799e-02, -3.1076e-01, -9.2927e-01, -8.9301e-01,  5.7826e-01,\\n          8.9921e-01,  3.2762e-01,  9.9950e-01, -2.9299e-01,  7.4470e-01,\\n         -2.8432e-01, -6.9845e-01,  6.4370e-01, -4.0474e-01,  8.6064e-01,\\n         -4.2865e-01, -8.4202e-02,  1.9170e-01, -4.9307e-01,  2.4258e-01,\\n         -7.5579e-01, -1.5230e-01, -8.7137e-01, -7.5294e-01, -3.9612e-01,\\n          7.5623e-01, -7.2463e-01, -9.5676e-01, -2.1992e-01, -7.2245e-03,\\n         -4.2903e-01,  7.3310e-01,  7.8768e-01,  1.8995e-01, -4.1924e-01,\\n          3.3158e-01,  3.7686e-03,  4.9328e-01, -5.4632e-01, -2.5544e-01,\\n          4.2792e-01, -3.4765e-01, -9.5505e-01, -9.1659e-01, -2.7968e-01,\\n          3.3616e-01,  9.3921e-01,  3.2194e-01,  4.4059e-01,  7.8101e-01,\\n         -4.1404e-01,  5.6999e-01, -8.9867e-01,  9.4501e-01, -1.2916e-01,\\n          2.3877e-01, -8.0565e-01,  5.4742e-01, -6.9169e-01,  3.2258e-01,\\n          4.6589e-01, -8.1670e-01, -5.5204e-01, -1.2755e-01, -5.7002e-01,\\n         -4.8809e-01, -8.5480e-01,  3.7383e-01, -2.6327e-01, -4.4017e-01,\\n         -1.7042e-01,  7.8240e-01,  6.5593e-01,  3.9682e-01,  6.1350e-01,\\n          6.6910e-01, -5.8099e-01, -1.2729e-01,  1.3087e-01,  2.4979e-01,\\n          9.0463e-02,  9.5573e-01, -8.7745e-01, -5.3944e-02, -7.9538e-01,\\n         -9.0020e-01, -1.0429e-02, -6.3410e-01, -2.6991e-01, -6.7839e-01,\\n          6.8991e-01, -8.5664e-01,  5.4074e-01,  2.5057e-01, -1.9840e-01,\\n         -5.3468e-01,  2.5042e-01, -5.3122e-01,  4.8517e-01, -2.3039e-01,\\n          9.8263e-01,  9.5669e-01, -6.2871e-01, -3.7287e-01,  9.1808e-01,\\n         -9.5680e-01, -7.3054e-01, -2.0423e-01, -3.7704e-01,  5.3158e-01,\\n         -5.5107e-01,  9.4410e-01,  8.8621e-01,  6.5910e-01, -5.9173e-01,\\n         -8.7734e-01, -4.4452e-01, -6.2441e-01,  1.8345e-02,  2.6674e-01,\\n          9.1898e-01,  7.0334e-01,  4.5215e-01,  1.5477e-01, -3.2292e-01,\\n          6.3614e-01, -9.8578e-01, -8.6722e-01, -9.2116e-01, -2.0438e-01,\\n         -9.5635e-01,  9.1029e-01,  3.3865e-01,  8.6891e-01, -4.8682e-01,\\n         -5.6545e-01, -8.4585e-01,  4.1545e-01,  1.4697e-01,  7.4499e-01,\\n         -7.4186e-01, -4.1167e-01, -6.3849e-01, -7.9425e-01, -7.1474e-02,\\n         -1.6725e-01, -6.2415e-01, -7.7895e-02, -7.4305e-01,  5.2787e-01,\\n          4.8245e-01,  4.6977e-01, -9.3221e-01,  9.6142e-01,  1.0000e+00,\\n          8.7032e-01,  6.2576e-01,  2.6043e-01, -9.9998e-01, -9.3788e-01,\\n          9.9995e-01, -9.8948e-01, -1.0000e+00, -7.3993e-01, -5.3754e-01,\\n          6.8563e-02, -1.0000e+00, -3.0134e-01,  1.0993e-01, -5.8069e-01,\\n          7.9011e-01,  8.6519e-01,  6.6334e-01, -1.0000e+00,  5.5531e-01,\\n          7.9444e-01, -6.8273e-01,  8.9153e-01, -5.4783e-01,  8.5564e-01,\\n          5.5771e-01,  6.9861e-01, -1.2855e-01,  3.9747e-01, -9.7520e-01,\\n         -5.9382e-01, -7.9269e-01, -8.9581e-01,  9.9980e-01,  9.9248e-02,\\n         -7.1784e-01, -5.3887e-01,  7.9213e-01,  7.2667e-03,  1.0741e-01,\\n         -8.6744e-01, -3.0254e-01,  5.2122e-01,  5.6968e-01,  3.0697e-01,\\n          2.7829e-01, -1.3250e-01,  3.7797e-01,  3.5936e-01,  8.6241e-02,\\n          6.5188e-01, -7.8581e-01, -2.3990e-02,  3.9677e-01,  2.9169e-01,\\n         -7.4401e-01, -9.3657e-01,  7.7300e-01, -2.3792e-01,  7.5010e-01,\\n          1.0000e+00,  7.2673e-01, -4.1205e-01,  5.5583e-01,  3.0370e-01,\\n         -5.8846e-01,  1.0000e+00,  7.9738e-01, -9.0979e-01, -6.6592e-01,\\n          7.6298e-01, -6.2132e-01, -7.7240e-01,  9.9498e-01, -3.7270e-01,\\n         -8.7361e-01, -5.2872e-01,  9.4385e-01, -9.5239e-01,  9.9918e-01,\\n         -4.5485e-01, -8.8839e-01,  8.3818e-01,  7.8258e-01, -5.8362e-01,\\n         -5.2211e-01,  2.8821e-02, -7.6797e-01,  3.9479e-01, -4.3449e-01,\\n          4.8557e-01,  1.9137e-01, -4.4436e-03,  6.8384e-01,  1.6296e-01,\\n         -6.7678e-01,  2.0941e-01, -7.0660e-01, -1.5576e-01,  9.6065e-01,\\n          4.1788e-01, -2.0698e-01, -8.8920e-02, -2.7851e-01, -8.6436e-01,\\n         -9.0030e-01,  7.6115e-01,  1.0000e+00, -4.2347e-02,  9.2810e-01,\\n         -3.2609e-01, -1.1601e-01,  7.6556e-02,  6.2215e-01,  5.5409e-01,\\n         -1.5557e-01, -5.8778e-01,  8.2372e-01, -4.4559e-01, -9.5695e-01,\\n          2.3920e-01,  1.5621e-01, -1.8932e-01,  9.9992e-01,  3.4455e-01,\\n          2.7785e-01,  4.8869e-01,  9.7985e-01,  1.2123e-02,  1.5760e-01,\\n          9.4338e-01,  9.5431e-01, -2.4670e-01,  7.1301e-01,  1.6395e-01,\\n         -9.1902e-01, -2.9367e-01, -5.6091e-01,  8.2864e-02, -8.6072e-01,\\n          1.0045e-01, -8.1766e-01,  8.9445e-01,  9.5519e-01,  3.7974e-01,\\n          1.6428e-01,  8.3312e-01,  1.0000e+00, -9.8540e-01,  2.2744e-01,\\n          7.9729e-01, -2.7107e-01, -9.9997e-01, -1.5196e-04, -3.6338e-01,\\n         -1.2888e-01, -8.9895e-01, -3.9675e-01,  9.5275e-02, -8.7694e-01,\\n          8.7259e-01,  7.3736e-01, -6.3866e-01, -8.7836e-01, -5.3952e-01,\\n          3.8029e-01,  8.2281e-02, -9.9608e-01, -4.7665e-01, -2.8731e-01,\\n          5.5651e-01, -3.8107e-01, -6.4363e-01, -4.2192e-01, -3.5137e-01,\\n          4.1607e-01, -1.9183e-01,  6.2999e-01,  9.2827e-01,  7.2474e-01,\\n         -9.6024e-01, -4.7600e-01, -5.6839e-02, -4.2833e-01,  6.1923e-01,\\n         -6.5076e-01, -9.5072e-01, -2.0124e-01,  1.0000e+00, -1.1769e-01,\\n          9.5465e-01,  3.3081e-01,  2.7900e-01, -2.0819e-01,  3.1738e-01,\\n          9.7415e-01,  2.8186e-01, -7.6092e-01, -8.6825e-01,  8.0483e-01,\\n         -5.0071e-01,  5.8275e-01,  9.0219e-01,  8.0464e-01,  4.3357e-01,\\n          9.1644e-01,  1.8520e-01, -1.0470e-02, -6.6955e-02,  9.1749e-01,\\n         -5.6698e-02, -3.6595e-01, -3.5708e-01, -1.4219e-01, -3.1479e-01,\\n          6.1602e-01,  1.0000e+00,  2.6784e-01,  7.7581e-01, -9.4108e-01,\\n         -8.7218e-01, -6.6301e-01,  1.0000e+00,  7.0394e-01, -3.7093e-01,\\n          4.4596e-01,  4.6609e-01, -1.6196e-01,  1.2609e-01, -2.2340e-01,\\n         -3.2369e-01,  2.7568e-01,  1.4218e-01,  7.8667e-01, -4.8022e-01,\\n         -9.3212e-01, -5.9068e-01,  3.4132e-01, -8.4641e-01,  9.9999e-01,\\n         -5.8762e-01, -2.4817e-01, -2.1803e-01, -5.9153e-01, -9.0153e-01,\\n         -6.2096e-02, -8.9386e-01, -1.8735e-01,  2.5682e-01,  7.9349e-01,\\n          3.8490e-01, -6.3735e-01, -6.9540e-01,  8.3634e-01,  7.3290e-01,\\n         -9.4176e-01, -7.7765e-01,  8.1436e-01, -8.3566e-01,  6.4903e-01,\\n          1.0000e+00,  4.8774e-01,  4.4023e-01,  7.5930e-02, -3.2230e-01,\\n          4.4445e-01, -7.9360e-01,  3.6513e-01, -8.2476e-01, -4.4221e-01,\\n         -1.9913e-01,  3.4394e-01, -1.6068e-01, -8.4861e-01,  7.5981e-02,\\n          3.2635e-01, -6.2073e-01, -5.6273e-01, -1.3778e-02,  4.4581e-01,\\n          5.4840e-01, -2.7247e-01, -1.6441e-01,  2.3364e-01,  9.0320e-02,\\n         -4.4573e-01, -4.7720e-01, -5.1088e-01, -1.0000e+00,  3.9913e-01,\\n         -1.0000e+00,  6.3140e-01,  2.6997e-01, -2.0522e-01,  6.4446e-01,\\n          8.9535e-01,  7.9128e-01, -4.2473e-01, -9.2832e-01,  2.9445e-01,\\n          3.8726e-01, -3.5147e-01, -1.4712e-01, -2.4331e-01,  3.6506e-01,\\n         -1.1074e-01,  3.0147e-01, -7.7704e-01,  7.1269e-01, -3.0761e-01,\\n          1.0000e+00,  2.4892e-01, -4.2761e-01, -3.6417e-01,  2.5862e-01,\\n         -2.9382e-01,  1.0000e+00, -9.3798e-02, -8.9436e-01,  3.7350e-01,\\n         -7.8972e-01, -6.0232e-01,  4.7087e-01,  1.4877e-01, -7.0357e-01,\\n         -9.5183e-01,  3.7305e-01,  4.8407e-01, -7.1330e-01,  7.6172e-01,\\n         -3.5378e-01, -4.6132e-01,  8.5328e-02,  9.6855e-01,  9.3842e-01,\\n          6.7007e-01,  4.5927e-01, -8.5576e-01, -5.3646e-01,  8.9675e-01,\\n          2.9143e-01, -4.8709e-01,  1.4774e-01,  1.0000e+00,  4.4341e-01,\\n         -7.8597e-01,  2.6452e-01, -8.2354e-01, -1.3105e-01, -8.2840e-01,\\n          2.9209e-01,  2.1272e-01,  7.6796e-01, -3.4143e-01,  7.3560e-01,\\n         -9.2232e-01,  1.2953e-01, -5.1920e-01, -7.0030e-01,  3.0870e-01,\\n         -7.3938e-01, -9.0843e-01, -9.0789e-01,  6.8067e-01, -2.9995e-01,\\n         -1.3688e-01,  2.9807e-01,  8.8721e-02,  3.8320e-01,  3.7907e-01,\\n         -1.0000e+00,  8.2361e-01,  4.3105e-01,  9.0323e-01,  8.4777e-01,\\n          8.2425e-01,  7.7038e-01,  3.4351e-01, -9.0495e-01, -3.7316e-01,\\n         -3.1706e-01, -3.1218e-01,  5.0647e-01,  6.8359e-01,  6.0040e-01,\\n          1.9903e-01, -5.0796e-01, -7.0890e-01, -8.1465e-01, -9.7855e-01,\\n         -9.6754e-01,  5.1544e-01, -6.5849e-01, -1.4164e-01,  8.9444e-01,\\n         -5.0000e-02, -1.5493e-01, -3.1448e-01, -9.0064e-01,  2.2260e-01,\\n          4.0317e-01, -1.3909e-01,  5.7329e-02,  4.0753e-01,  5.2156e-01,\\n          6.5553e-01,  8.6643e-01, -9.3422e-01,  5.5153e-01, -8.4335e-01,\\n          4.4102e-01,  9.5761e-01, -8.9940e-01,  9.5909e-02,  7.6769e-01,\\n         -2.1159e-01,  3.0813e-01, -2.8968e-01, -2.6445e-01,  7.9634e-01,\\n         -3.5189e-01,  4.6153e-01, -4.2751e-01,  1.2668e-01, -4.3487e-01,\\n         -2.4559e-01, -5.0632e-01, -4.1360e-01,  6.0186e-01, -3.0505e-03,\\n          6.6026e-01,  9.3351e-01, -1.3465e-01, -5.1754e-01, -4.5243e-02,\\n         -8.0939e-01, -7.9774e-01,  4.0735e-01,  3.8867e-02, -2.8360e-01,\\n          8.6788e-01, -6.6490e-02,  9.7830e-01,  4.7661e-01, -3.3393e-01,\\n         -3.7814e-01, -4.2969e-01,  5.3066e-01, -7.7054e-01, -5.9246e-01,\\n         -4.6809e-01,  6.0525e-01,  2.5718e-01,  1.0000e+00, -8.7896e-01,\\n         -9.1013e-01, -7.4345e-01, -3.8568e-01,  4.0054e-01, -4.4582e-01,\\n         -1.0000e+00,  3.2784e-01, -6.4760e-01,  8.0087e-01, -6.8343e-01,\\n          8.9602e-01, -5.9155e-01, -7.5991e-01, -4.8572e-01,  8.6559e-01,\\n          8.8322e-01, -5.0129e-01, -4.9732e-01,  5.2962e-01, -3.4280e-01,\\n          9.8162e-01,  5.7197e-01, -4.3897e-01, -1.5350e-01,  7.1398e-01,\\n         -9.1926e-01, -6.2192e-01,  5.4504e-01]], grad_fn=<TanhBackward>))'"
      ]
     },
     "execution_count": 14,
     "metadata": {},
     "output_type": "execute_result"
    }
   ],
   "source": [
    "import sagemaker\n",
    "\n",
    "sm = sagemaker.Session().sagemaker_runtime_client\n",
    "\n",
    "prompt = \"The best part of Amazon SageMaker is that it makes machine learning easy.\"\n",
    "\n",
    "response = sm.invoke_endpoint(\n",
    "    EndpointName=endpoint_name,\n",
    "    Body=prompt.encode(encoding=\"UTF-8\"),\n",
    "    ContentType=\"text/csv\"\n",
    ")\n",
    "\n",
    "response[\"Body\"].read()"
   ]
  },
  {
   "cell_type": "code",
   "execution_count": 15,
   "id": "2821a3e6-ab37-4215-a8cf-2ef9f629ef74",
   "metadata": {
    "tags": []
   },
   "outputs": [],
   "source": [
    "predictor.delete_model()\n",
    "predictor.delete_endpoint()"
   ]
  }
 ],
 "metadata": {
  "availableInstances": [
   {
    "_defaultOrder": 0,
    "_isFastLaunch": true,
    "category": "General purpose",
    "gpuNum": 0,
    "hideHardwareSpecs": false,
    "memoryGiB": 4,
    "name": "ml.t3.medium",
    "vcpuNum": 2
   },
   {
    "_defaultOrder": 1,
    "_isFastLaunch": false,
    "category": "General purpose",
    "gpuNum": 0,
    "hideHardwareSpecs": false,
    "memoryGiB": 8,
    "name": "ml.t3.large",
    "vcpuNum": 2
   },
   {
    "_defaultOrder": 2,
    "_isFastLaunch": false,
    "category": "General purpose",
    "gpuNum": 0,
    "hideHardwareSpecs": false,
    "memoryGiB": 16,
    "name": "ml.t3.xlarge",
    "vcpuNum": 4
   },
   {
    "_defaultOrder": 3,
    "_isFastLaunch": false,
    "category": "General purpose",
    "gpuNum": 0,
    "hideHardwareSpecs": false,
    "memoryGiB": 32,
    "name": "ml.t3.2xlarge",
    "vcpuNum": 8
   },
   {
    "_defaultOrder": 4,
    "_isFastLaunch": true,
    "category": "General purpose",
    "gpuNum": 0,
    "hideHardwareSpecs": false,
    "memoryGiB": 8,
    "name": "ml.m5.large",
    "vcpuNum": 2
   },
   {
    "_defaultOrder": 5,
    "_isFastLaunch": false,
    "category": "General purpose",
    "gpuNum": 0,
    "hideHardwareSpecs": false,
    "memoryGiB": 16,
    "name": "ml.m5.xlarge",
    "vcpuNum": 4
   },
   {
    "_defaultOrder": 6,
    "_isFastLaunch": false,
    "category": "General purpose",
    "gpuNum": 0,
    "hideHardwareSpecs": false,
    "memoryGiB": 32,
    "name": "ml.m5.2xlarge",
    "vcpuNum": 8
   },
   {
    "_defaultOrder": 7,
    "_isFastLaunch": false,
    "category": "General purpose",
    "gpuNum": 0,
    "hideHardwareSpecs": false,
    "memoryGiB": 64,
    "name": "ml.m5.4xlarge",
    "vcpuNum": 16
   },
   {
    "_defaultOrder": 8,
    "_isFastLaunch": false,
    "category": "General purpose",
    "gpuNum": 0,
    "hideHardwareSpecs": false,
    "memoryGiB": 128,
    "name": "ml.m5.8xlarge",
    "vcpuNum": 32
   },
   {
    "_defaultOrder": 9,
    "_isFastLaunch": false,
    "category": "General purpose",
    "gpuNum": 0,
    "hideHardwareSpecs": false,
    "memoryGiB": 192,
    "name": "ml.m5.12xlarge",
    "vcpuNum": 48
   },
   {
    "_defaultOrder": 10,
    "_isFastLaunch": false,
    "category": "General purpose",
    "gpuNum": 0,
    "hideHardwareSpecs": false,
    "memoryGiB": 256,
    "name": "ml.m5.16xlarge",
    "vcpuNum": 64
   },
   {
    "_defaultOrder": 11,
    "_isFastLaunch": false,
    "category": "General purpose",
    "gpuNum": 0,
    "hideHardwareSpecs": false,
    "memoryGiB": 384,
    "name": "ml.m5.24xlarge",
    "vcpuNum": 96
   },
   {
    "_defaultOrder": 12,
    "_isFastLaunch": false,
    "category": "General purpose",
    "gpuNum": 0,
    "hideHardwareSpecs": false,
    "memoryGiB": 8,
    "name": "ml.m5d.large",
    "vcpuNum": 2
   },
   {
    "_defaultOrder": 13,
    "_isFastLaunch": false,
    "category": "General purpose",
    "gpuNum": 0,
    "hideHardwareSpecs": false,
    "memoryGiB": 16,
    "name": "ml.m5d.xlarge",
    "vcpuNum": 4
   },
   {
    "_defaultOrder": 14,
    "_isFastLaunch": false,
    "category": "General purpose",
    "gpuNum": 0,
    "hideHardwareSpecs": false,
    "memoryGiB": 32,
    "name": "ml.m5d.2xlarge",
    "vcpuNum": 8
   },
   {
    "_defaultOrder": 15,
    "_isFastLaunch": false,
    "category": "General purpose",
    "gpuNum": 0,
    "hideHardwareSpecs": false,
    "memoryGiB": 64,
    "name": "ml.m5d.4xlarge",
    "vcpuNum": 16
   },
   {
    "_defaultOrder": 16,
    "_isFastLaunch": false,
    "category": "General purpose",
    "gpuNum": 0,
    "hideHardwareSpecs": false,
    "memoryGiB": 128,
    "name": "ml.m5d.8xlarge",
    "vcpuNum": 32
   },
   {
    "_defaultOrder": 17,
    "_isFastLaunch": false,
    "category": "General purpose",
    "gpuNum": 0,
    "hideHardwareSpecs": false,
    "memoryGiB": 192,
    "name": "ml.m5d.12xlarge",
    "vcpuNum": 48
   },
   {
    "_defaultOrder": 18,
    "_isFastLaunch": false,
    "category": "General purpose",
    "gpuNum": 0,
    "hideHardwareSpecs": false,
    "memoryGiB": 256,
    "name": "ml.m5d.16xlarge",
    "vcpuNum": 64
   },
   {
    "_defaultOrder": 19,
    "_isFastLaunch": false,
    "category": "General purpose",
    "gpuNum": 0,
    "hideHardwareSpecs": false,
    "memoryGiB": 384,
    "name": "ml.m5d.24xlarge",
    "vcpuNum": 96
   },
   {
    "_defaultOrder": 20,
    "_isFastLaunch": false,
    "category": "General purpose",
    "gpuNum": 0,
    "hideHardwareSpecs": true,
    "memoryGiB": 0,
    "name": "ml.geospatial.interactive",
    "supportedImageNames": [
     "sagemaker-geospatial-v1-0"
    ],
    "vcpuNum": 0
   },
   {
    "_defaultOrder": 21,
    "_isFastLaunch": true,
    "category": "Compute optimized",
    "gpuNum": 0,
    "hideHardwareSpecs": false,
    "memoryGiB": 4,
    "name": "ml.c5.large",
    "vcpuNum": 2
   },
   {
    "_defaultOrder": 22,
    "_isFastLaunch": false,
    "category": "Compute optimized",
    "gpuNum": 0,
    "hideHardwareSpecs": false,
    "memoryGiB": 8,
    "name": "ml.c5.xlarge",
    "vcpuNum": 4
   },
   {
    "_defaultOrder": 23,
    "_isFastLaunch": false,
    "category": "Compute optimized",
    "gpuNum": 0,
    "hideHardwareSpecs": false,
    "memoryGiB": 16,
    "name": "ml.c5.2xlarge",
    "vcpuNum": 8
   },
   {
    "_defaultOrder": 24,
    "_isFastLaunch": false,
    "category": "Compute optimized",
    "gpuNum": 0,
    "hideHardwareSpecs": false,
    "memoryGiB": 32,
    "name": "ml.c5.4xlarge",
    "vcpuNum": 16
   },
   {
    "_defaultOrder": 25,
    "_isFastLaunch": false,
    "category": "Compute optimized",
    "gpuNum": 0,
    "hideHardwareSpecs": false,
    "memoryGiB": 72,
    "name": "ml.c5.9xlarge",
    "vcpuNum": 36
   },
   {
    "_defaultOrder": 26,
    "_isFastLaunch": false,
    "category": "Compute optimized",
    "gpuNum": 0,
    "hideHardwareSpecs": false,
    "memoryGiB": 96,
    "name": "ml.c5.12xlarge",
    "vcpuNum": 48
   },
   {
    "_defaultOrder": 27,
    "_isFastLaunch": false,
    "category": "Compute optimized",
    "gpuNum": 0,
    "hideHardwareSpecs": false,
    "memoryGiB": 144,
    "name": "ml.c5.18xlarge",
    "vcpuNum": 72
   },
   {
    "_defaultOrder": 28,
    "_isFastLaunch": false,
    "category": "Compute optimized",
    "gpuNum": 0,
    "hideHardwareSpecs": false,
    "memoryGiB": 192,
    "name": "ml.c5.24xlarge",
    "vcpuNum": 96
   },
   {
    "_defaultOrder": 29,
    "_isFastLaunch": true,
    "category": "Accelerated computing",
    "gpuNum": 1,
    "hideHardwareSpecs": false,
    "memoryGiB": 16,
    "name": "ml.g4dn.xlarge",
    "vcpuNum": 4
   },
   {
    "_defaultOrder": 30,
    "_isFastLaunch": false,
    "category": "Accelerated computing",
    "gpuNum": 1,
    "hideHardwareSpecs": false,
    "memoryGiB": 32,
    "name": "ml.g4dn.2xlarge",
    "vcpuNum": 8
   },
   {
    "_defaultOrder": 31,
    "_isFastLaunch": false,
    "category": "Accelerated computing",
    "gpuNum": 1,
    "hideHardwareSpecs": false,
    "memoryGiB": 64,
    "name": "ml.g4dn.4xlarge",
    "vcpuNum": 16
   },
   {
    "_defaultOrder": 32,
    "_isFastLaunch": false,
    "category": "Accelerated computing",
    "gpuNum": 1,
    "hideHardwareSpecs": false,
    "memoryGiB": 128,
    "name": "ml.g4dn.8xlarge",
    "vcpuNum": 32
   },
   {
    "_defaultOrder": 33,
    "_isFastLaunch": false,
    "category": "Accelerated computing",
    "gpuNum": 4,
    "hideHardwareSpecs": false,
    "memoryGiB": 192,
    "name": "ml.g4dn.12xlarge",
    "vcpuNum": 48
   },
   {
    "_defaultOrder": 34,
    "_isFastLaunch": false,
    "category": "Accelerated computing",
    "gpuNum": 1,
    "hideHardwareSpecs": false,
    "memoryGiB": 256,
    "name": "ml.g4dn.16xlarge",
    "vcpuNum": 64
   },
   {
    "_defaultOrder": 35,
    "_isFastLaunch": false,
    "category": "Accelerated computing",
    "gpuNum": 1,
    "hideHardwareSpecs": false,
    "memoryGiB": 61,
    "name": "ml.p3.2xlarge",
    "vcpuNum": 8
   },
   {
    "_defaultOrder": 36,
    "_isFastLaunch": false,
    "category": "Accelerated computing",
    "gpuNum": 4,
    "hideHardwareSpecs": false,
    "memoryGiB": 244,
    "name": "ml.p3.8xlarge",
    "vcpuNum": 32
   },
   {
    "_defaultOrder": 37,
    "_isFastLaunch": false,
    "category": "Accelerated computing",
    "gpuNum": 8,
    "hideHardwareSpecs": false,
    "memoryGiB": 488,
    "name": "ml.p3.16xlarge",
    "vcpuNum": 64
   },
   {
    "_defaultOrder": 38,
    "_isFastLaunch": false,
    "category": "Accelerated computing",
    "gpuNum": 8,
    "hideHardwareSpecs": false,
    "memoryGiB": 768,
    "name": "ml.p3dn.24xlarge",
    "vcpuNum": 96
   },
   {
    "_defaultOrder": 39,
    "_isFastLaunch": false,
    "category": "Memory Optimized",
    "gpuNum": 0,
    "hideHardwareSpecs": false,
    "memoryGiB": 16,
    "name": "ml.r5.large",
    "vcpuNum": 2
   },
   {
    "_defaultOrder": 40,
    "_isFastLaunch": false,
    "category": "Memory Optimized",
    "gpuNum": 0,
    "hideHardwareSpecs": false,
    "memoryGiB": 32,
    "name": "ml.r5.xlarge",
    "vcpuNum": 4
   },
   {
    "_defaultOrder": 41,
    "_isFastLaunch": false,
    "category": "Memory Optimized",
    "gpuNum": 0,
    "hideHardwareSpecs": false,
    "memoryGiB": 64,
    "name": "ml.r5.2xlarge",
    "vcpuNum": 8
   },
   {
    "_defaultOrder": 42,
    "_isFastLaunch": false,
    "category": "Memory Optimized",
    "gpuNum": 0,
    "hideHardwareSpecs": false,
    "memoryGiB": 128,
    "name": "ml.r5.4xlarge",
    "vcpuNum": 16
   },
   {
    "_defaultOrder": 43,
    "_isFastLaunch": false,
    "category": "Memory Optimized",
    "gpuNum": 0,
    "hideHardwareSpecs": false,
    "memoryGiB": 256,
    "name": "ml.r5.8xlarge",
    "vcpuNum": 32
   },
   {
    "_defaultOrder": 44,
    "_isFastLaunch": false,
    "category": "Memory Optimized",
    "gpuNum": 0,
    "hideHardwareSpecs": false,
    "memoryGiB": 384,
    "name": "ml.r5.12xlarge",
    "vcpuNum": 48
   },
   {
    "_defaultOrder": 45,
    "_isFastLaunch": false,
    "category": "Memory Optimized",
    "gpuNum": 0,
    "hideHardwareSpecs": false,
    "memoryGiB": 512,
    "name": "ml.r5.16xlarge",
    "vcpuNum": 64
   },
   {
    "_defaultOrder": 46,
    "_isFastLaunch": false,
    "category": "Memory Optimized",
    "gpuNum": 0,
    "hideHardwareSpecs": false,
    "memoryGiB": 768,
    "name": "ml.r5.24xlarge",
    "vcpuNum": 96
   },
   {
    "_defaultOrder": 47,
    "_isFastLaunch": false,
    "category": "Accelerated computing",
    "gpuNum": 1,
    "hideHardwareSpecs": false,
    "memoryGiB": 16,
    "name": "ml.g5.xlarge",
    "vcpuNum": 4
   },
   {
    "_defaultOrder": 48,
    "_isFastLaunch": false,
    "category": "Accelerated computing",
    "gpuNum": 1,
    "hideHardwareSpecs": false,
    "memoryGiB": 32,
    "name": "ml.g5.2xlarge",
    "vcpuNum": 8
   },
   {
    "_defaultOrder": 49,
    "_isFastLaunch": false,
    "category": "Accelerated computing",
    "gpuNum": 1,
    "hideHardwareSpecs": false,
    "memoryGiB": 64,
    "name": "ml.g5.4xlarge",
    "vcpuNum": 16
   },
   {
    "_defaultOrder": 50,
    "_isFastLaunch": false,
    "category": "Accelerated computing",
    "gpuNum": 1,
    "hideHardwareSpecs": false,
    "memoryGiB": 128,
    "name": "ml.g5.8xlarge",
    "vcpuNum": 32
   },
   {
    "_defaultOrder": 51,
    "_isFastLaunch": false,
    "category": "Accelerated computing",
    "gpuNum": 1,
    "hideHardwareSpecs": false,
    "memoryGiB": 256,
    "name": "ml.g5.16xlarge",
    "vcpuNum": 64
   },
   {
    "_defaultOrder": 52,
    "_isFastLaunch": false,
    "category": "Accelerated computing",
    "gpuNum": 4,
    "hideHardwareSpecs": false,
    "memoryGiB": 192,
    "name": "ml.g5.12xlarge",
    "vcpuNum": 48
   },
   {
    "_defaultOrder": 53,
    "_isFastLaunch": false,
    "category": "Accelerated computing",
    "gpuNum": 4,
    "hideHardwareSpecs": false,
    "memoryGiB": 384,
    "name": "ml.g5.24xlarge",
    "vcpuNum": 96
   },
   {
    "_defaultOrder": 54,
    "_isFastLaunch": false,
    "category": "Accelerated computing",
    "gpuNum": 8,
    "hideHardwareSpecs": false,
    "memoryGiB": 768,
    "name": "ml.g5.48xlarge",
    "vcpuNum": 192
   },
   {
    "_defaultOrder": 55,
    "_isFastLaunch": false,
    "category": "Accelerated computing",
    "gpuNum": 8,
    "hideHardwareSpecs": false,
    "memoryGiB": 1152,
    "name": "ml.p4d.24xlarge",
    "vcpuNum": 96
   },
   {
    "_defaultOrder": 56,
    "_isFastLaunch": false,
    "category": "Accelerated computing",
    "gpuNum": 8,
    "hideHardwareSpecs": false,
    "memoryGiB": 1152,
    "name": "ml.p4de.24xlarge",
    "vcpuNum": 96
   }
  ],
  "instance_type": "ml.t3.medium",
  "kernelspec": {
   "display_name": "Python 3 (Data Science)",
   "language": "python",
   "name": "python3__SAGEMAKER_INTERNAL__arn:aws:sagemaker:eu-west-1:470317259841:image/datascience-1.0"
  },
  "language_info": {
   "codemirror_mode": {
    "name": "ipython",
    "version": 3
   },
   "file_extension": ".py",
   "mimetype": "text/x-python",
   "name": "python",
   "nbconvert_exporter": "python",
   "pygments_lexer": "ipython3",
   "version": "3.7.10"
  }
 },
 "nbformat": 4,
 "nbformat_minor": 5
}
