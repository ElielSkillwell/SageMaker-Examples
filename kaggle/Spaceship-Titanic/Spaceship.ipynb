{
 "cells": [
  {
   "cell_type": "markdown",
   "id": "370ac00e-d7c8-4f4a-a84c-5620b7ac0426",
   "metadata": {},
   "source": [
    "# Spaceship Titanic\n",
    "\n",
    "- [Link to Source](https://www.kaggle.com/competitions/spaceship-titanic/overview)\n",
    "\n",
    "---"
   ]
  },
  {
   "cell_type": "code",
   "execution_count": 3,
   "id": "b9c38715-fafb-4405-93ef-03e5601da72b",
   "metadata": {
    "tags": []
   },
   "outputs": [
    {
     "name": "stdout",
     "output_type": "stream",
     "text": [
      "\u001b[33mWARNING: Running pip as the 'root' user can result in broken permissions and conflicting behaviour with the system package manager. It is recommended to use a virtual environment instead: https://pip.pypa.io/warnings/venv\u001b[0m\u001b[33m\n",
      "\u001b[0m\n",
      "\u001b[1m[\u001b[0m\u001b[34;49mnotice\u001b[0m\u001b[1;39;49m]\u001b[0m\u001b[39;49m A new release of pip is available: \u001b[0m\u001b[31;49m23.0.1\u001b[0m\u001b[39;49m -> \u001b[0m\u001b[32;49m23.1.2\u001b[0m\n",
      "\u001b[1m[\u001b[0m\u001b[34;49mnotice\u001b[0m\u001b[1;39;49m]\u001b[0m\u001b[39;49m To update, run: \u001b[0m\u001b[32;49mpip install --upgrade pip\u001b[0m\n",
      "\u001b[33mWARNING: Running pip as the 'root' user can result in broken permissions and conflicting behaviour with the system package manager. It is recommended to use a virtual environment instead: https://pip.pypa.io/warnings/venv\u001b[0m\u001b[33m\n",
      "\u001b[0m\n",
      "\u001b[1m[\u001b[0m\u001b[34;49mnotice\u001b[0m\u001b[1;39;49m]\u001b[0m\u001b[39;49m A new release of pip is available: \u001b[0m\u001b[31;49m23.0.1\u001b[0m\u001b[39;49m -> \u001b[0m\u001b[32;49m23.1.2\u001b[0m\n",
      "\u001b[1m[\u001b[0m\u001b[34;49mnotice\u001b[0m\u001b[1;39;49m]\u001b[0m\u001b[39;49m To update, run: \u001b[0m\u001b[32;49mpip install --upgrade pip\u001b[0m\n"
     ]
    }
   ],
   "source": [
    "import sys\n",
    "\n",
    "!{sys.executable} -m pip install hyperopt --quiet\n",
    "!{sys.executable} -m pip install xgboost --quiet"
   ]
  },
  {
   "cell_type": "code",
   "execution_count": 50,
   "id": "f33fd054-c931-4d25-85eb-f659b52e7537",
   "metadata": {},
   "outputs": [],
   "source": [
    "import os\n",
    "import time\n",
    "\n",
    "import sagemaker\n",
    "import time\n",
    "import boto3\n",
    "import numpy as np\n",
    "import pandas as pd\n",
    "from numpy import array\n",
    "import xgboost as xgb\n",
    "\n",
    "from sklearn.metrics import accuracy_score\n",
    "from hyperopt import STATUS_OK, Trials, fmin, hp, tpe\n",
    "from sklearn.preprocessing import LabelEncoder\n",
    "from sklearn.preprocessing import OneHotEncoder"
   ]
  },
  {
   "cell_type": "code",
   "execution_count": 51,
   "id": "b0205d96-16bb-4929-beb2-90e534959d25",
   "metadata": {
    "tags": []
   },
   "outputs": [],
   "source": [
    "sess = sagemaker.Session()\n",
    "role = sagemaker.get_execution_role()\n",
    "region = sess.boto_region_name\n",
    "\n",
    "bucket = \"test-sagemaker-examples-1357942113492\"\n",
    "prefix = \"DEMO_Spaceship\""
   ]
  },
  {
   "cell_type": "code",
   "execution_count": 52,
   "id": "673f58db-17f2-4ab8-be84-87059d03c07f",
   "metadata": {
    "tags": []
   },
   "outputs": [],
   "source": [
    "train = pd.read_csv(f's3://{bucket}/{prefix}/train.csv')\n",
    "test = pd.read_csv(f's3://{bucket}/{prefix}/test.csv')"
   ]
  },
  {
   "cell_type": "code",
   "execution_count": 53,
   "id": "6b1ce711-b82d-4d91-a39f-f0baa46bc4d5",
   "metadata": {
    "tags": []
   },
   "outputs": [
    {
     "data": {
      "text/html": [
       "<div>\n",
       "<style scoped>\n",
       "    .dataframe tbody tr th:only-of-type {\n",
       "        vertical-align: middle;\n",
       "    }\n",
       "\n",
       "    .dataframe tbody tr th {\n",
       "        vertical-align: top;\n",
       "    }\n",
       "\n",
       "    .dataframe thead th {\n",
       "        text-align: right;\n",
       "    }\n",
       "</style>\n",
       "<table border=\"1\" class=\"dataframe\">\n",
       "  <thead>\n",
       "    <tr style=\"text-align: right;\">\n",
       "      <th></th>\n",
       "      <th>PassengerId</th>\n",
       "      <th>HomePlanet</th>\n",
       "      <th>CryoSleep</th>\n",
       "      <th>Cabin</th>\n",
       "      <th>Destination</th>\n",
       "      <th>Age</th>\n",
       "      <th>VIP</th>\n",
       "      <th>RoomService</th>\n",
       "      <th>FoodCourt</th>\n",
       "      <th>ShoppingMall</th>\n",
       "      <th>Spa</th>\n",
       "      <th>VRDeck</th>\n",
       "      <th>Name</th>\n",
       "      <th>Transported</th>\n",
       "    </tr>\n",
       "  </thead>\n",
       "  <tbody>\n",
       "    <tr>\n",
       "      <th>0</th>\n",
       "      <td>0001_01</td>\n",
       "      <td>Europa</td>\n",
       "      <td>False</td>\n",
       "      <td>B/0/P</td>\n",
       "      <td>TRAPPIST-1e</td>\n",
       "      <td>39.0</td>\n",
       "      <td>False</td>\n",
       "      <td>0.0</td>\n",
       "      <td>0.0</td>\n",
       "      <td>0.0</td>\n",
       "      <td>0.0</td>\n",
       "      <td>0.0</td>\n",
       "      <td>Maham Ofracculy</td>\n",
       "      <td>False</td>\n",
       "    </tr>\n",
       "    <tr>\n",
       "      <th>1</th>\n",
       "      <td>0002_01</td>\n",
       "      <td>Earth</td>\n",
       "      <td>False</td>\n",
       "      <td>F/0/S</td>\n",
       "      <td>TRAPPIST-1e</td>\n",
       "      <td>24.0</td>\n",
       "      <td>False</td>\n",
       "      <td>109.0</td>\n",
       "      <td>9.0</td>\n",
       "      <td>25.0</td>\n",
       "      <td>549.0</td>\n",
       "      <td>44.0</td>\n",
       "      <td>Juanna Vines</td>\n",
       "      <td>True</td>\n",
       "    </tr>\n",
       "    <tr>\n",
       "      <th>2</th>\n",
       "      <td>0003_01</td>\n",
       "      <td>Europa</td>\n",
       "      <td>False</td>\n",
       "      <td>A/0/S</td>\n",
       "      <td>TRAPPIST-1e</td>\n",
       "      <td>58.0</td>\n",
       "      <td>True</td>\n",
       "      <td>43.0</td>\n",
       "      <td>3576.0</td>\n",
       "      <td>0.0</td>\n",
       "      <td>6715.0</td>\n",
       "      <td>49.0</td>\n",
       "      <td>Altark Susent</td>\n",
       "      <td>False</td>\n",
       "    </tr>\n",
       "    <tr>\n",
       "      <th>3</th>\n",
       "      <td>0003_02</td>\n",
       "      <td>Europa</td>\n",
       "      <td>False</td>\n",
       "      <td>A/0/S</td>\n",
       "      <td>TRAPPIST-1e</td>\n",
       "      <td>33.0</td>\n",
       "      <td>False</td>\n",
       "      <td>0.0</td>\n",
       "      <td>1283.0</td>\n",
       "      <td>371.0</td>\n",
       "      <td>3329.0</td>\n",
       "      <td>193.0</td>\n",
       "      <td>Solam Susent</td>\n",
       "      <td>False</td>\n",
       "    </tr>\n",
       "    <tr>\n",
       "      <th>4</th>\n",
       "      <td>0004_01</td>\n",
       "      <td>Earth</td>\n",
       "      <td>False</td>\n",
       "      <td>F/1/S</td>\n",
       "      <td>TRAPPIST-1e</td>\n",
       "      <td>16.0</td>\n",
       "      <td>False</td>\n",
       "      <td>303.0</td>\n",
       "      <td>70.0</td>\n",
       "      <td>151.0</td>\n",
       "      <td>565.0</td>\n",
       "      <td>2.0</td>\n",
       "      <td>Willy Santantines</td>\n",
       "      <td>True</td>\n",
       "    </tr>\n",
       "  </tbody>\n",
       "</table>\n",
       "</div>"
      ],
      "text/plain": [
       "  PassengerId HomePlanet CryoSleep  Cabin  Destination   Age    VIP  \\\n",
       "0     0001_01     Europa     False  B/0/P  TRAPPIST-1e  39.0  False   \n",
       "1     0002_01      Earth     False  F/0/S  TRAPPIST-1e  24.0  False   \n",
       "2     0003_01     Europa     False  A/0/S  TRAPPIST-1e  58.0   True   \n",
       "3     0003_02     Europa     False  A/0/S  TRAPPIST-1e  33.0  False   \n",
       "4     0004_01      Earth     False  F/1/S  TRAPPIST-1e  16.0  False   \n",
       "\n",
       "   RoomService  FoodCourt  ShoppingMall     Spa  VRDeck               Name  \\\n",
       "0          0.0        0.0           0.0     0.0     0.0    Maham Ofracculy   \n",
       "1        109.0        9.0          25.0   549.0    44.0       Juanna Vines   \n",
       "2         43.0     3576.0           0.0  6715.0    49.0      Altark Susent   \n",
       "3          0.0     1283.0         371.0  3329.0   193.0       Solam Susent   \n",
       "4        303.0       70.0         151.0   565.0     2.0  Willy Santantines   \n",
       "\n",
       "   Transported  \n",
       "0        False  \n",
       "1         True  \n",
       "2        False  \n",
       "3        False  \n",
       "4         True  "
      ]
     },
     "execution_count": 53,
     "metadata": {},
     "output_type": "execute_result"
    }
   ],
   "source": [
    "train.head()"
   ]
  },
  {
   "cell_type": "code",
   "execution_count": 54,
   "id": "30bdc218-2b13-4959-a50f-eaef6420e518",
   "metadata": {
    "tags": []
   },
   "outputs": [],
   "source": [
    "def scale_columns(df, column):\n",
    "    df[column] = df[column].fillna(df[column].mean())\n",
    "\n",
    "    df[column] = (df[column].astype(int)-df[column].min())/(df[column].max() - df[column].min())\n",
    "    return df[column]\n",
    "\n",
    "def change_to_int(column_data, nan_value):\n",
    "    column_data= column_data.fillna(nan_value)\n",
    "    column_data= column_data.astype(int)\n",
    "    return column_data\n",
    "\n",
    "def one_hot_encode(df, column):\n",
    "    df[column].fillna(df[column].value_counts().idxmax(), inplace=True)\n",
    "    \n",
    "    label_encoder = LabelEncoder()\n",
    "    integer_encoded = label_encoder.fit_transform(df[column])\n",
    "    num_unique_val = len(set(integer_encoded))\n",
    "    \n",
    "    hot_encoder = OneHotEncoder(sparse=False)\n",
    "    integer_encoded = integer_encoded.reshape(len(integer_encoded), 1)\n",
    "    hot_encoded = hot_encoder.fit_transform(integer_encoded)\n",
    "    return hot_encoded, num_unique_val"
   ]
  },
  {
   "cell_type": "code",
   "execution_count": 55,
   "id": "7263e127-2bd4-48b8-a0c0-532168be1e1e",
   "metadata": {
    "tags": []
   },
   "outputs": [],
   "source": [
    "def dataset_transform(df, split_target):\n",
    "    if \"Transported\" in df.columns:\n",
    "        first_col = df.pop('Transported').astype(int)\n",
    "        df.insert(0, 'Transported', first_col)\n",
    "    \n",
    "    passenger_id = df['PassengerId']\n",
    "       \n",
    "    df['VIP'] = change_to_int(df['VIP'], False)\n",
    "    df['CryoSleep'] = change_to_int(df['CryoSleep'], False)\n",
    "    \n",
    "    df.drop(['PassengerId', 'Cabin', 'Name'], axis=1, inplace=True)\n",
    "    \n",
    "    df['Cost'] = df['RoomService'] + df['FoodCourt'] + df['ShoppingMall'] + df['Spa'] + df['VRDeck']\n",
    "    \n",
    "    list_to_scale = ['Age', 'RoomService', 'FoodCourt', 'ShoppingMall', 'Spa', 'VRDeck', 'Cost']\n",
    "    for i in list_to_scale:\n",
    "        df[i] = scale_columns(df, i)\n",
    "        \n",
    "    list_to_hot_encode = ['HomePlanet', 'Destination']\n",
    "    for i in list_to_hot_encode:\n",
    "        hot_encoded, unique_val_count = one_hot_encode(df, i)\n",
    "        new_columns = []\n",
    "        for j in range(unique_val_count):\n",
    "            new_columns.append(f'{i}-{j}')\n",
    "        df[new_columns] = hot_encoded    \n",
    "    df.drop([\"HomePlanet\", \"Destination\"], axis=1, inplace=True)\n",
    "    \n",
    "    if not split_target:\n",
    "        return df, passenger_id\n",
    "    \n",
    "    target = df[\"Transported\"]\n",
    "    df_temp = df.drop(\"Transported\", axis=1)\n",
    "    \n",
    "    return df_temp, target, passenger_id"
   ]
  },
  {
   "cell_type": "code",
   "execution_count": 56,
   "id": "760f1a56-83d0-4340-ae55-366abea44759",
   "metadata": {
    "tags": []
   },
   "outputs": [],
   "source": [
    "train_modified, train_pass = dataset_transform(train, False)\n",
    "test_modified, test_pass = dataset_transform(test, False)"
   ]
  },
  {
   "cell_type": "code",
   "execution_count": 57,
   "id": "383fe54d-3f41-4bbc-9fc4-eb107792b943",
   "metadata": {
    "tags": []
   },
   "outputs": [
    {
     "data": {
      "text/html": [
       "<div>\n",
       "<style scoped>\n",
       "    .dataframe tbody tr th:only-of-type {\n",
       "        vertical-align: middle;\n",
       "    }\n",
       "\n",
       "    .dataframe tbody tr th {\n",
       "        vertical-align: top;\n",
       "    }\n",
       "\n",
       "    .dataframe thead th {\n",
       "        text-align: right;\n",
       "    }\n",
       "</style>\n",
       "<table border=\"1\" class=\"dataframe\">\n",
       "  <thead>\n",
       "    <tr style=\"text-align: right;\">\n",
       "      <th></th>\n",
       "      <th>Transported</th>\n",
       "      <th>CryoSleep</th>\n",
       "      <th>Age</th>\n",
       "      <th>VIP</th>\n",
       "      <th>RoomService</th>\n",
       "      <th>FoodCourt</th>\n",
       "      <th>ShoppingMall</th>\n",
       "      <th>Spa</th>\n",
       "      <th>VRDeck</th>\n",
       "      <th>Cost</th>\n",
       "      <th>HomePlanet-0</th>\n",
       "      <th>HomePlanet-1</th>\n",
       "      <th>HomePlanet-2</th>\n",
       "      <th>Destination-0</th>\n",
       "      <th>Destination-1</th>\n",
       "      <th>Destination-2</th>\n",
       "    </tr>\n",
       "  </thead>\n",
       "  <tbody>\n",
       "    <tr>\n",
       "      <th>0</th>\n",
       "      <td>0</td>\n",
       "      <td>0</td>\n",
       "      <td>0.493671</td>\n",
       "      <td>0</td>\n",
       "      <td>0.000000</td>\n",
       "      <td>0.000000</td>\n",
       "      <td>0.000000</td>\n",
       "      <td>0.000000</td>\n",
       "      <td>0.000000</td>\n",
       "      <td>0.000000</td>\n",
       "      <td>0.0</td>\n",
       "      <td>1.0</td>\n",
       "      <td>0.0</td>\n",
       "      <td>0.0</td>\n",
       "      <td>0.0</td>\n",
       "      <td>1.0</td>\n",
       "    </tr>\n",
       "    <tr>\n",
       "      <th>1</th>\n",
       "      <td>1</td>\n",
       "      <td>0</td>\n",
       "      <td>0.303797</td>\n",
       "      <td>0</td>\n",
       "      <td>0.007608</td>\n",
       "      <td>0.000302</td>\n",
       "      <td>0.001064</td>\n",
       "      <td>0.024500</td>\n",
       "      <td>0.001823</td>\n",
       "      <td>0.020452</td>\n",
       "      <td>1.0</td>\n",
       "      <td>0.0</td>\n",
       "      <td>0.0</td>\n",
       "      <td>0.0</td>\n",
       "      <td>0.0</td>\n",
       "      <td>1.0</td>\n",
       "    </tr>\n",
       "    <tr>\n",
       "      <th>2</th>\n",
       "      <td>0</td>\n",
       "      <td>0</td>\n",
       "      <td>0.734177</td>\n",
       "      <td>1</td>\n",
       "      <td>0.003001</td>\n",
       "      <td>0.119948</td>\n",
       "      <td>0.000000</td>\n",
       "      <td>0.299670</td>\n",
       "      <td>0.002030</td>\n",
       "      <td>0.288521</td>\n",
       "      <td>0.0</td>\n",
       "      <td>1.0</td>\n",
       "      <td>0.0</td>\n",
       "      <td>0.0</td>\n",
       "      <td>0.0</td>\n",
       "      <td>1.0</td>\n",
       "    </tr>\n",
       "    <tr>\n",
       "      <th>3</th>\n",
       "      <td>0</td>\n",
       "      <td>0</td>\n",
       "      <td>0.417722</td>\n",
       "      <td>0</td>\n",
       "      <td>0.000000</td>\n",
       "      <td>0.043035</td>\n",
       "      <td>0.015793</td>\n",
       "      <td>0.148563</td>\n",
       "      <td>0.007997</td>\n",
       "      <td>0.143830</td>\n",
       "      <td>0.0</td>\n",
       "      <td>1.0</td>\n",
       "      <td>0.0</td>\n",
       "      <td>0.0</td>\n",
       "      <td>0.0</td>\n",
       "      <td>1.0</td>\n",
       "    </tr>\n",
       "    <tr>\n",
       "      <th>4</th>\n",
       "      <td>1</td>\n",
       "      <td>0</td>\n",
       "      <td>0.202532</td>\n",
       "      <td>0</td>\n",
       "      <td>0.021149</td>\n",
       "      <td>0.002348</td>\n",
       "      <td>0.006428</td>\n",
       "      <td>0.025214</td>\n",
       "      <td>0.000083</td>\n",
       "      <td>0.030317</td>\n",
       "      <td>1.0</td>\n",
       "      <td>0.0</td>\n",
       "      <td>0.0</td>\n",
       "      <td>0.0</td>\n",
       "      <td>0.0</td>\n",
       "      <td>1.0</td>\n",
       "    </tr>\n",
       "  </tbody>\n",
       "</table>\n",
       "</div>"
      ],
      "text/plain": [
       "   Transported  CryoSleep       Age  VIP  RoomService  FoodCourt  \\\n",
       "0            0          0  0.493671    0     0.000000   0.000000   \n",
       "1            1          0  0.303797    0     0.007608   0.000302   \n",
       "2            0          0  0.734177    1     0.003001   0.119948   \n",
       "3            0          0  0.417722    0     0.000000   0.043035   \n",
       "4            1          0  0.202532    0     0.021149   0.002348   \n",
       "\n",
       "   ShoppingMall       Spa    VRDeck      Cost  HomePlanet-0  HomePlanet-1  \\\n",
       "0      0.000000  0.000000  0.000000  0.000000           0.0           1.0   \n",
       "1      0.001064  0.024500  0.001823  0.020452           1.0           0.0   \n",
       "2      0.000000  0.299670  0.002030  0.288521           0.0           1.0   \n",
       "3      0.015793  0.148563  0.007997  0.143830           0.0           1.0   \n",
       "4      0.006428  0.025214  0.000083  0.030317           1.0           0.0   \n",
       "\n",
       "   HomePlanet-2  Destination-0  Destination-1  Destination-2  \n",
       "0           0.0            0.0            0.0            1.0  \n",
       "1           0.0            0.0            0.0            1.0  \n",
       "2           0.0            0.0            0.0            1.0  \n",
       "3           0.0            0.0            0.0            1.0  \n",
       "4           0.0            0.0            0.0            1.0  "
      ]
     },
     "execution_count": 57,
     "metadata": {},
     "output_type": "execute_result"
    }
   ],
   "source": [
    "train_modified.head()"
   ]
  },
  {
   "cell_type": "code",
   "execution_count": 58,
   "id": "54d2b0f5-b16c-4bd9-99ef-a80848686e02",
   "metadata": {
    "tags": []
   },
   "outputs": [
    {
     "data": {
      "text/plain": [
       "0       0001_01\n",
       "1       0002_01\n",
       "2       0003_01\n",
       "3       0003_02\n",
       "4       0004_01\n",
       "         ...   \n",
       "8688    9276_01\n",
       "8689    9278_01\n",
       "8690    9279_01\n",
       "8691    9280_01\n",
       "8692    9280_02\n",
       "Name: PassengerId, Length: 8693, dtype: object"
      ]
     },
     "execution_count": 58,
     "metadata": {},
     "output_type": "execute_result"
    }
   ],
   "source": [
    "train_pass"
   ]
  },
  {
   "cell_type": "code",
   "execution_count": 59,
   "id": "1cc86698-4c91-4232-b7c3-5823b90010d0",
   "metadata": {
    "tags": []
   },
   "outputs": [
    {
     "data": {
      "text/html": [
       "<div>\n",
       "<style scoped>\n",
       "    .dataframe tbody tr th:only-of-type {\n",
       "        vertical-align: middle;\n",
       "    }\n",
       "\n",
       "    .dataframe tbody tr th {\n",
       "        vertical-align: top;\n",
       "    }\n",
       "\n",
       "    .dataframe thead th {\n",
       "        text-align: right;\n",
       "    }\n",
       "</style>\n",
       "<table border=\"1\" class=\"dataframe\">\n",
       "  <thead>\n",
       "    <tr style=\"text-align: right;\">\n",
       "      <th></th>\n",
       "      <th>CryoSleep</th>\n",
       "      <th>Age</th>\n",
       "      <th>VIP</th>\n",
       "      <th>RoomService</th>\n",
       "      <th>FoodCourt</th>\n",
       "      <th>ShoppingMall</th>\n",
       "      <th>Spa</th>\n",
       "      <th>VRDeck</th>\n",
       "      <th>Cost</th>\n",
       "      <th>HomePlanet-0</th>\n",
       "      <th>HomePlanet-1</th>\n",
       "      <th>HomePlanet-2</th>\n",
       "      <th>Destination-0</th>\n",
       "      <th>Destination-1</th>\n",
       "      <th>Destination-2</th>\n",
       "    </tr>\n",
       "  </thead>\n",
       "  <tbody>\n",
       "    <tr>\n",
       "      <th>0</th>\n",
       "      <td>1</td>\n",
       "      <td>0.341772</td>\n",
       "      <td>0</td>\n",
       "      <td>0.000000</td>\n",
       "      <td>0.000000</td>\n",
       "      <td>0.00000</td>\n",
       "      <td>0.000000</td>\n",
       "      <td>0.000000</td>\n",
       "      <td>0.000000</td>\n",
       "      <td>1.0</td>\n",
       "      <td>0.0</td>\n",
       "      <td>0.0</td>\n",
       "      <td>0.0</td>\n",
       "      <td>0.0</td>\n",
       "      <td>1.0</td>\n",
       "    </tr>\n",
       "    <tr>\n",
       "      <th>1</th>\n",
       "      <td>0</td>\n",
       "      <td>0.240506</td>\n",
       "      <td>0</td>\n",
       "      <td>0.000000</td>\n",
       "      <td>0.000356</td>\n",
       "      <td>0.00000</td>\n",
       "      <td>0.142260</td>\n",
       "      <td>0.000000</td>\n",
       "      <td>0.084120</td>\n",
       "      <td>1.0</td>\n",
       "      <td>0.0</td>\n",
       "      <td>0.0</td>\n",
       "      <td>0.0</td>\n",
       "      <td>0.0</td>\n",
       "      <td>1.0</td>\n",
       "    </tr>\n",
       "    <tr>\n",
       "      <th>2</th>\n",
       "      <td>1</td>\n",
       "      <td>0.392405</td>\n",
       "      <td>0</td>\n",
       "      <td>0.000000</td>\n",
       "      <td>0.000000</td>\n",
       "      <td>0.00000</td>\n",
       "      <td>0.000000</td>\n",
       "      <td>0.000000</td>\n",
       "      <td>0.000000</td>\n",
       "      <td>0.0</td>\n",
       "      <td>1.0</td>\n",
       "      <td>0.0</td>\n",
       "      <td>1.0</td>\n",
       "      <td>0.0</td>\n",
       "      <td>0.0</td>\n",
       "    </tr>\n",
       "    <tr>\n",
       "      <th>3</th>\n",
       "      <td>0</td>\n",
       "      <td>0.481013</td>\n",
       "      <td>0</td>\n",
       "      <td>0.000000</td>\n",
       "      <td>0.263206</td>\n",
       "      <td>0.00000</td>\n",
       "      <td>0.009121</td>\n",
       "      <td>0.026266</td>\n",
       "      <td>0.220341</td>\n",
       "      <td>0.0</td>\n",
       "      <td>1.0</td>\n",
       "      <td>0.0</td>\n",
       "      <td>0.0</td>\n",
       "      <td>0.0</td>\n",
       "      <td>1.0</td>\n",
       "    </tr>\n",
       "    <tr>\n",
       "      <th>4</th>\n",
       "      <td>0</td>\n",
       "      <td>0.253165</td>\n",
       "      <td>0</td>\n",
       "      <td>0.000865</td>\n",
       "      <td>0.000000</td>\n",
       "      <td>0.07658</td>\n",
       "      <td>0.000000</td>\n",
       "      <td>0.000000</td>\n",
       "      <td>0.019159</td>\n",
       "      <td>1.0</td>\n",
       "      <td>0.0</td>\n",
       "      <td>0.0</td>\n",
       "      <td>0.0</td>\n",
       "      <td>0.0</td>\n",
       "      <td>1.0</td>\n",
       "    </tr>\n",
       "  </tbody>\n",
       "</table>\n",
       "</div>"
      ],
      "text/plain": [
       "   CryoSleep       Age  VIP  RoomService  FoodCourt  ShoppingMall       Spa  \\\n",
       "0          1  0.341772    0     0.000000   0.000000       0.00000  0.000000   \n",
       "1          0  0.240506    0     0.000000   0.000356       0.00000  0.142260   \n",
       "2          1  0.392405    0     0.000000   0.000000       0.00000  0.000000   \n",
       "3          0  0.481013    0     0.000000   0.263206       0.00000  0.009121   \n",
       "4          0  0.253165    0     0.000865   0.000000       0.07658  0.000000   \n",
       "\n",
       "     VRDeck      Cost  HomePlanet-0  HomePlanet-1  HomePlanet-2  \\\n",
       "0  0.000000  0.000000           1.0           0.0           0.0   \n",
       "1  0.000000  0.084120           1.0           0.0           0.0   \n",
       "2  0.000000  0.000000           0.0           1.0           0.0   \n",
       "3  0.026266  0.220341           0.0           1.0           0.0   \n",
       "4  0.000000  0.019159           1.0           0.0           0.0   \n",
       "\n",
       "   Destination-0  Destination-1  Destination-2  \n",
       "0            0.0            0.0            1.0  \n",
       "1            0.0            0.0            1.0  \n",
       "2            1.0            0.0            0.0  \n",
       "3            0.0            0.0            1.0  \n",
       "4            0.0            0.0            1.0  "
      ]
     },
     "execution_count": 59,
     "metadata": {},
     "output_type": "execute_result"
    }
   ],
   "source": [
    "test_modified.head()"
   ]
  },
  {
   "cell_type": "code",
   "execution_count": 60,
   "id": "8572b60e-0ccc-417c-bbd2-00d67c5c07c9",
   "metadata": {
    "tags": []
   },
   "outputs": [],
   "source": [
    "train_file = \"train_modified.csv\"\n",
    "test_file = \"test_modified.csv\"\n",
    "train_modified.to_csv(f'./{train_file}', index=False, header=False)\n",
    "test_modified.to_csv(f'./{test_file}', index=False, header=False)\n",
    "\n",
    "boto3.Session().resource(\"s3\").Bucket(bucket).Object(os.path.join(prefix, f'train/{train_file}')).upload_file(train_file)\n",
    "boto3.Session().resource(\"s3\").Bucket(bucket).Object(os.path.join(prefix, f'test/{test_file}')).upload_file(test_file)\n"
   ]
  },
  {
   "cell_type": "code",
   "execution_count": 77,
   "id": "10311994-b162-4099-9038-fbaa954b29d9",
   "metadata": {
    "tags": []
   },
   "outputs": [],
   "source": [
    "from sklearn.model_selection import train_test_split\n",
    "\n",
    "train_temp = pd.read_csv(f's3://{bucket}/{prefix}/train.csv')\n",
    "\n",
    "hyper_train, hyper_target, hyper_passenger = dataset_transform(train_temp, True)\n",
    "\n",
    "h_train, h_test, h_train_target, h_test_target = train_test_split(hyper_train,\n",
    "                                                                  hyper_target,\n",
    "                                                                  test_size=0.3,\n",
    "                                                                  random_state=0)"
   ]
  },
  {
   "cell_type": "code",
   "execution_count": 65,
   "id": "8374e852-cfc3-4e45-bcee-66d8608c77e1",
   "metadata": {
    "tags": []
   },
   "outputs": [],
   "source": [
    "space = {\n",
    "    'max_depth': hp.quniform(\"max_depth\", 3, 18, 1),\n",
    "    'gamma': hp.uniform ('gamma', 0,9),\n",
    "    'reg_alpha' : hp.quniform('reg_alpha', 40,180,1),\n",
    "    'reg_lambda' : hp.uniform('reg_lambda', 0,1),\n",
    "    'colsample_bytree' : hp.uniform('colsample_bytree', 0.5,1),\n",
    "    'min_child_weight' : hp.quniform('min_child_weight', 0, 10, 1),\n",
    "    'n_estimators': 180,\n",
    "    'seed': 0\n",
    "}"
   ]
  },
  {
   "cell_type": "code",
   "execution_count": 78,
   "id": "0f27aff7-63cd-47a9-8129-81e07db7cf98",
   "metadata": {},
   "outputs": [],
   "source": [
    "def objective(space):\n",
    "    clf=xgb.XGBClassifier(\n",
    "        n_estimators =space['n_estimators'], \n",
    "        max_depth = int(space['max_depth']), \n",
    "        gamma = space['gamma'],\n",
    "        reg_alpha = int(space['reg_alpha']),\n",
    "        min_child_weight=int(space['min_child_weight']),\n",
    "        colsample_bytree=int(space['colsample_bytree']),\n",
    "        early_stopping_rounds=10,\n",
    "        eval_metric=\"auc\",\n",
    "        objective=\"binary:logistic\"\n",
    "    )\n",
    "    \n",
    "    evaluation = [(h_train, h_train_target), (h_test, h_test_target)]\n",
    "    \n",
    "    clf.fit(h_train, \n",
    "            h_train_target,\n",
    "            eval_set=evaluation, \n",
    "            verbose=False)\n",
    "    \n",
    "\n",
    "    pred = clf.predict(h_test)\n",
    "    accuracy = accuracy_score(h_test_target, pred>0.5)\n",
    "    print (\"SCORE:\", accuracy)\n",
    "    return {'loss': -accuracy, 'status': STATUS_OK }"
   ]
  },
  {
   "cell_type": "code",
   "execution_count": 79,
   "id": "2c89d072-14b8-4ce9-9a6d-af3c35fa4910",
   "metadata": {
    "tags": []
   },
   "outputs": [
    {
     "name": "stdout",
     "output_type": "stream",
     "text": [
      "  0%|          | 0/100 [00:00<?, ?trial/s, best loss=?]"
     ]
    },
    {
     "name": "stderr",
     "output_type": "stream",
     "text": [
      "INFO:hyperopt.tpe:build_posterior_wrapper took 0.003264 seconds\n",
      "INFO:hyperopt.tpe:TPE using 0 trials\n"
     ]
    },
    {
     "name": "stdout",
     "output_type": "stream",
     "text": [
      "SCORE:                                                 \n",
      "0.7335122699386503                                     \n",
      "  1%|          | 1/100 [00:00<01:31,  1.08trial/s, best loss: -0.7335122699386503]"
     ]
    },
    {
     "name": "stderr",
     "output_type": "stream",
     "text": [
      "INFO:hyperopt.tpe:build_posterior_wrapper took 0.010085 seconds\n",
      "INFO:hyperopt.tpe:TPE using 1/1 trials with best loss -0.733512\n"
     ]
    },
    {
     "name": "stdout",
     "output_type": "stream",
     "text": [
      "SCORE:                                                                            \n",
      "0.7266104294478528                                                                \n",
      "  2%|▏         | 2/100 [00:01<01:17,  1.26trial/s, best loss: -0.7335122699386503]"
     ]
    },
    {
     "name": "stderr",
     "output_type": "stream",
     "text": [
      "INFO:hyperopt.tpe:build_posterior_wrapper took 0.002178 seconds\n",
      "INFO:hyperopt.tpe:TPE using 2/2 trials with best loss -0.733512\n"
     ]
    },
    {
     "name": "stdout",
     "output_type": "stream",
     "text": [
      "SCORE:                                                                            \n",
      "0.7304447852760736                                                                \n",
      "  3%|▎         | 3/100 [00:01<01:04,  1.50trial/s, best loss: -0.7335122699386503]"
     ]
    },
    {
     "name": "stderr",
     "output_type": "stream",
     "text": [
      "INFO:hyperopt.tpe:build_posterior_wrapper took 0.002641 seconds\n",
      "INFO:hyperopt.tpe:TPE using 3/3 trials with best loss -0.733512\n"
     ]
    },
    {
     "name": "stdout",
     "output_type": "stream",
     "text": [
      "SCORE:                                                                            \n",
      "0.723542944785276                                                                 \n",
      "  4%|▍         | 4/100 [00:02<00:52,  1.84trial/s, best loss: -0.7335122699386503]"
     ]
    },
    {
     "name": "stderr",
     "output_type": "stream",
     "text": [
      "INFO:hyperopt.tpe:build_posterior_wrapper took 0.002829 seconds\n",
      "INFO:hyperopt.tpe:TPE using 4/4 trials with best loss -0.733512\n"
     ]
    },
    {
     "name": "stdout",
     "output_type": "stream",
     "text": [
      "SCORE:                                                                            \n",
      "0.7557515337423313                                                                \n",
      "  5%|▌         | 5/100 [00:02<01:01,  1.54trial/s, best loss: -0.7557515337423313]"
     ]
    },
    {
     "name": "stderr",
     "output_type": "stream",
     "text": [
      "INFO:hyperopt.tpe:build_posterior_wrapper took 0.002844 seconds\n",
      "INFO:hyperopt.tpe:TPE using 5/5 trials with best loss -0.755752\n"
     ]
    },
    {
     "name": "stdout",
     "output_type": "stream",
     "text": [
      "SCORE:                                                                            \n",
      "0.7315950920245399                                                                \n",
      "  6%|▌         | 6/100 [00:03<00:55,  1.70trial/s, best loss: -0.7557515337423313]"
     ]
    },
    {
     "name": "stderr",
     "output_type": "stream",
     "text": [
      "INFO:hyperopt.tpe:build_posterior_wrapper took 0.001854 seconds\n",
      "INFO:hyperopt.tpe:TPE using 6/6 trials with best loss -0.755752\n"
     ]
    },
    {
     "name": "stdout",
     "output_type": "stream",
     "text": [
      "SCORE:                                                                            \n",
      "0.7258435582822086                                                                \n",
      "  7%|▋         | 7/100 [00:03<00:48,  1.92trial/s, best loss: -0.7557515337423313]"
     ]
    },
    {
     "name": "stderr",
     "output_type": "stream",
     "text": [
      "INFO:hyperopt.tpe:build_posterior_wrapper took 0.001898 seconds\n",
      "INFO:hyperopt.tpe:TPE using 7/7 trials with best loss -0.755752\n"
     ]
    },
    {
     "name": "stdout",
     "output_type": "stream",
     "text": [
      "SCORE:                                                                            \n",
      "0.7315950920245399                                                                \n",
      "  8%|▊         | 8/100 [00:04<00:45,  2.01trial/s, best loss: -0.7557515337423313]"
     ]
    },
    {
     "name": "stderr",
     "output_type": "stream",
     "text": [
      "INFO:hyperopt.tpe:build_posterior_wrapper took 0.002434 seconds\n",
      "INFO:hyperopt.tpe:TPE using 8/8 trials with best loss -0.755752\n"
     ]
    },
    {
     "name": "stdout",
     "output_type": "stream",
     "text": [
      "SCORE:                                                                            \n",
      "0.7304447852760736                                                                \n",
      "  9%|▉         | 9/100 [00:04<00:42,  2.16trial/s, best loss: -0.7557515337423313]"
     ]
    },
    {
     "name": "stderr",
     "output_type": "stream",
     "text": [
      "INFO:hyperopt.tpe:build_posterior_wrapper took 0.002571 seconds\n",
      "INFO:hyperopt.tpe:TPE using 9/9 trials with best loss -0.755752\n"
     ]
    },
    {
     "name": "stdout",
     "output_type": "stream",
     "text": [
      "SCORE:                                                                            \n",
      "0.7319785276073619                                                                \n",
      " 10%|█         | 10/100 [00:04<00:40,  2.20trial/s, best loss: -0.7557515337423313]"
     ]
    },
    {
     "name": "stderr",
     "output_type": "stream",
     "text": [
      "INFO:hyperopt.tpe:build_posterior_wrapper took 0.002616 seconds\n",
      "INFO:hyperopt.tpe:TPE using 10/10 trials with best loss -0.755752\n"
     ]
    },
    {
     "name": "stdout",
     "output_type": "stream",
     "text": [
      "SCORE:                                                                             \n",
      "0.7258435582822086                                                                 \n",
      " 11%|█         | 11/100 [00:05<00:38,  2.33trial/s, best loss: -0.7557515337423313]"
     ]
    },
    {
     "name": "stderr",
     "output_type": "stream",
     "text": [
      "INFO:hyperopt.tpe:build_posterior_wrapper took 0.001953 seconds\n",
      "INFO:hyperopt.tpe:TPE using 11/11 trials with best loss -0.755752\n"
     ]
    },
    {
     "name": "stdout",
     "output_type": "stream",
     "text": [
      "SCORE:                                                                             \n",
      "0.7304447852760736                                                                 \n",
      " 12%|█▏        | 12/100 [00:05<00:35,  2.45trial/s, best loss: -0.7557515337423313]"
     ]
    },
    {
     "name": "stderr",
     "output_type": "stream",
     "text": [
      "INFO:hyperopt.tpe:build_posterior_wrapper took 0.002039 seconds\n",
      "INFO:hyperopt.tpe:TPE using 12/12 trials with best loss -0.755752\n"
     ]
    },
    {
     "name": "stdout",
     "output_type": "stream",
     "text": [
      "SCORE:                                                                             \n",
      "0.74079754601227                                                                   \n",
      " 13%|█▎        | 13/100 [00:06<00:36,  2.38trial/s, best loss: -0.7557515337423313]"
     ]
    },
    {
     "name": "stderr",
     "output_type": "stream",
     "text": [
      "INFO:hyperopt.tpe:build_posterior_wrapper took 0.002880 seconds\n",
      "INFO:hyperopt.tpe:TPE using 13/13 trials with best loss -0.755752\n"
     ]
    },
    {
     "name": "stdout",
     "output_type": "stream",
     "text": [
      "SCORE:                                                                             \n",
      "0.7258435582822086                                                                 \n",
      " 14%|█▍        | 14/100 [00:06<00:31,  2.72trial/s, best loss: -0.7557515337423313]"
     ]
    },
    {
     "name": "stderr",
     "output_type": "stream",
     "text": [
      "INFO:hyperopt.tpe:build_posterior_wrapper took 0.001829 seconds\n",
      "INFO:hyperopt.tpe:TPE using 14/14 trials with best loss -0.755752\n"
     ]
    },
    {
     "name": "stdout",
     "output_type": "stream",
     "text": [
      "SCORE:                                                                             \n",
      "0.7258435582822086                                                                 \n",
      " 15%|█▌        | 15/100 [00:06<00:31,  2.73trial/s, best loss: -0.7557515337423313]"
     ]
    },
    {
     "name": "stderr",
     "output_type": "stream",
     "text": [
      "INFO:hyperopt.tpe:build_posterior_wrapper took 0.002692 seconds\n",
      "INFO:hyperopt.tpe:TPE using 15/15 trials with best loss -0.755752\n"
     ]
    },
    {
     "name": "stdout",
     "output_type": "stream",
     "text": [
      "SCORE:                                                                             \n",
      "0.7358128834355828                                                                 \n",
      " 16%|█▌        | 16/100 [00:07<00:33,  2.50trial/s, best loss: -0.7557515337423313]"
     ]
    },
    {
     "name": "stderr",
     "output_type": "stream",
     "text": [
      "INFO:hyperopt.tpe:build_posterior_wrapper took 0.001857 seconds\n",
      "INFO:hyperopt.tpe:TPE using 16/16 trials with best loss -0.755752\n"
     ]
    },
    {
     "name": "stdout",
     "output_type": "stream",
     "text": [
      "SCORE:                                                                             \n",
      "0.7258435582822086                                                                 \n",
      " 17%|█▋        | 17/100 [00:07<00:32,  2.56trial/s, best loss: -0.7557515337423313]"
     ]
    },
    {
     "name": "stderr",
     "output_type": "stream",
     "text": [
      "INFO:hyperopt.tpe:build_posterior_wrapper took 0.002584 seconds\n",
      "INFO:hyperopt.tpe:TPE using 17/17 trials with best loss -0.755752\n"
     ]
    },
    {
     "name": "stdout",
     "output_type": "stream",
     "text": [
      "SCORE:                                                                             \n",
      "0.723542944785276                                                                  \n",
      " 18%|█▊        | 18/100 [00:07<00:27,  2.94trial/s, best loss: -0.7557515337423313]"
     ]
    },
    {
     "name": "stderr",
     "output_type": "stream",
     "text": [
      "INFO:hyperopt.tpe:build_posterior_wrapper took 0.001807 seconds\n",
      "INFO:hyperopt.tpe:TPE using 18/18 trials with best loss -0.755752\n"
     ]
    },
    {
     "name": "stdout",
     "output_type": "stream",
     "text": [
      "SCORE:                                                                             \n",
      "0.7254601226993865                                                                 \n",
      " 19%|█▉        | 19/100 [00:08<00:28,  2.85trial/s, best loss: -0.7557515337423313]"
     ]
    },
    {
     "name": "stderr",
     "output_type": "stream",
     "text": [
      "INFO:hyperopt.tpe:build_posterior_wrapper took 0.001852 seconds\n",
      "INFO:hyperopt.tpe:TPE using 19/19 trials with best loss -0.755752\n"
     ]
    },
    {
     "name": "stdout",
     "output_type": "stream",
     "text": [
      "SCORE:                                                                             \n",
      "0.7258435582822086                                                                 \n",
      " 20%|██        | 20/100 [00:08<00:28,  2.83trial/s, best loss: -0.7557515337423313]"
     ]
    },
    {
     "name": "stderr",
     "output_type": "stream",
     "text": [
      "INFO:hyperopt.tpe:build_posterior_wrapper took 0.002636 seconds\n",
      "INFO:hyperopt.tpe:TPE using 20/20 trials with best loss -0.755752\n"
     ]
    },
    {
     "name": "stdout",
     "output_type": "stream",
     "text": [
      "SCORE:                                                                             \n",
      "0.7603527607361963                                                                 \n",
      " 21%|██        | 21/100 [00:09<00:39,  1.98trial/s, best loss: -0.7603527607361963]"
     ]
    },
    {
     "name": "stderr",
     "output_type": "stream",
     "text": [
      "INFO:hyperopt.tpe:build_posterior_wrapper took 0.002579 seconds\n",
      "INFO:hyperopt.tpe:TPE using 21/21 trials with best loss -0.760353\n"
     ]
    },
    {
     "name": "stdout",
     "output_type": "stream",
     "text": [
      "SCORE:                                                                             \n",
      "0.7611196319018405                                                                 \n",
      " 22%|██▏       | 22/100 [00:10<00:47,  1.64trial/s, best loss: -0.7611196319018405]"
     ]
    },
    {
     "name": "stderr",
     "output_type": "stream",
     "text": [
      "INFO:hyperopt.tpe:build_posterior_wrapper took 0.003296 seconds\n",
      "INFO:hyperopt.tpe:TPE using 22/22 trials with best loss -0.761120\n"
     ]
    },
    {
     "name": "stdout",
     "output_type": "stream",
     "text": [
      "SCORE:                                                                             \n",
      "0.7595858895705522                                                                 \n",
      " 23%|██▎       | 23/100 [00:11<00:53,  1.45trial/s, best loss: -0.7611196319018405]"
     ]
    },
    {
     "name": "stderr",
     "output_type": "stream",
     "text": [
      "INFO:hyperopt.tpe:build_posterior_wrapper took 0.002995 seconds\n",
      "INFO:hyperopt.tpe:TPE using 23/23 trials with best loss -0.761120\n"
     ]
    },
    {
     "name": "stdout",
     "output_type": "stream",
     "text": [
      "SCORE:                                                                             \n",
      "0.7480828220858896                                                                 \n",
      " 24%|██▍       | 24/100 [00:12<00:56,  1.35trial/s, best loss: -0.7611196319018405]"
     ]
    },
    {
     "name": "stderr",
     "output_type": "stream",
     "text": [
      "INFO:hyperopt.tpe:build_posterior_wrapper took 0.002594 seconds\n",
      "INFO:hyperopt.tpe:TPE using 24/24 trials with best loss -0.761120\n"
     ]
    },
    {
     "name": "stdout",
     "output_type": "stream",
     "text": [
      "SCORE:                                                                             \n",
      "0.7269938650306749                                                                 \n",
      " 25%|██▌       | 25/100 [00:12<00:50,  1.50trial/s, best loss: -0.7611196319018405]"
     ]
    },
    {
     "name": "stderr",
     "output_type": "stream",
     "text": [
      "INFO:hyperopt.tpe:build_posterior_wrapper took 0.001907 seconds\n",
      "INFO:hyperopt.tpe:TPE using 25/25 trials with best loss -0.761120\n"
     ]
    },
    {
     "name": "stdout",
     "output_type": "stream",
     "text": [
      "SCORE:                                                                             \n",
      "0.7415644171779141                                                                 \n",
      " 26%|██▌       | 26/100 [00:13<00:45,  1.63trial/s, best loss: -0.7611196319018405]"
     ]
    },
    {
     "name": "stderr",
     "output_type": "stream",
     "text": [
      "INFO:hyperopt.tpe:build_posterior_wrapper took 0.001866 seconds\n",
      "INFO:hyperopt.tpe:TPE using 26/26 trials with best loss -0.761120\n"
     ]
    },
    {
     "name": "stdout",
     "output_type": "stream",
     "text": [
      "SCORE:                                                                             \n",
      "0.7323619631901841                                                                 \n",
      " 27%|██▋       | 27/100 [00:13<00:41,  1.76trial/s, best loss: -0.7611196319018405]"
     ]
    },
    {
     "name": "stderr",
     "output_type": "stream",
     "text": [
      "INFO:hyperopt.tpe:build_posterior_wrapper took 0.001820 seconds\n",
      "INFO:hyperopt.tpe:TPE using 27/27 trials with best loss -0.761120\n"
     ]
    },
    {
     "name": "stdout",
     "output_type": "stream",
     "text": [
      "SCORE:                                                                             \n",
      "0.7312116564417178                                                                 \n",
      " 28%|██▊       | 28/100 [00:13<00:36,  1.96trial/s, best loss: -0.7611196319018405]"
     ]
    },
    {
     "name": "stderr",
     "output_type": "stream",
     "text": [
      "INFO:hyperopt.tpe:build_posterior_wrapper took 0.002296 seconds\n",
      "INFO:hyperopt.tpe:TPE using 28/28 trials with best loss -0.761120\n"
     ]
    },
    {
     "name": "stdout",
     "output_type": "stream",
     "text": [
      "SCORE:                                                                             \n",
      "0.7561349693251533                                                                 \n",
      " 29%|██▉       | 29/100 [00:14<00:43,  1.62trial/s, best loss: -0.7611196319018405]"
     ]
    },
    {
     "name": "stderr",
     "output_type": "stream",
     "text": [
      "INFO:hyperopt.tpe:build_posterior_wrapper took 0.001879 seconds\n",
      "INFO:hyperopt.tpe:TPE using 29/29 trials with best loss -0.761120\n"
     ]
    },
    {
     "name": "stdout",
     "output_type": "stream",
     "text": [
      "SCORE:                                                                             \n",
      "0.7331288343558282                                                                 \n",
      " 30%|███       | 30/100 [00:15<00:39,  1.75trial/s, best loss: -0.7611196319018405]"
     ]
    },
    {
     "name": "stderr",
     "output_type": "stream",
     "text": [
      "INFO:hyperopt.tpe:build_posterior_wrapper took 0.002983 seconds\n",
      "INFO:hyperopt.tpe:TPE using 30/30 trials with best loss -0.761120\n"
     ]
    },
    {
     "name": "stdout",
     "output_type": "stream",
     "text": [
      "SCORE:                                                                             \n",
      "0.7304447852760736                                                                 \n",
      " 31%|███       | 31/100 [00:15<00:36,  1.88trial/s, best loss: -0.7611196319018405]"
     ]
    },
    {
     "name": "stderr",
     "output_type": "stream",
     "text": [
      "INFO:hyperopt.tpe:build_posterior_wrapper took 0.001897 seconds\n",
      "INFO:hyperopt.tpe:TPE using 31/31 trials with best loss -0.761120\n"
     ]
    },
    {
     "name": "stdout",
     "output_type": "stream",
     "text": [
      "SCORE:                                                                             \n",
      "0.7289110429447853                                                                 \n",
      " 32%|███▏      | 32/100 [00:16<00:34,  1.97trial/s, best loss: -0.7611196319018405]"
     ]
    },
    {
     "name": "stderr",
     "output_type": "stream",
     "text": [
      "INFO:hyperopt.tpe:build_posterior_wrapper took 0.002708 seconds\n",
      "INFO:hyperopt.tpe:TPE using 32/32 trials with best loss -0.761120\n"
     ]
    },
    {
     "name": "stdout",
     "output_type": "stream",
     "text": [
      "SCORE:                                                                             \n",
      "0.7377300613496932                                                                 \n",
      " 33%|███▎      | 33/100 [00:16<00:33,  2.03trial/s, best loss: -0.7611196319018405]"
     ]
    },
    {
     "name": "stderr",
     "output_type": "stream",
     "text": [
      "INFO:hyperopt.tpe:build_posterior_wrapper took 0.002220 seconds\n",
      "INFO:hyperopt.tpe:TPE using 33/33 trials with best loss -0.761120\n"
     ]
    },
    {
     "name": "stdout",
     "output_type": "stream",
     "text": [
      "SCORE:                                                                             \n",
      "0.7296779141104295                                                                 \n",
      " 34%|███▍      | 34/100 [00:17<00:31,  2.06trial/s, best loss: -0.7611196319018405]"
     ]
    },
    {
     "name": "stderr",
     "output_type": "stream",
     "text": [
      "INFO:hyperopt.tpe:build_posterior_wrapper took 0.003307 seconds\n",
      "INFO:hyperopt.tpe:TPE using 34/34 trials with best loss -0.761120\n"
     ]
    },
    {
     "name": "stdout",
     "output_type": "stream",
     "text": [
      "SCORE:                                                                             \n",
      "0.7519171779141104                                                                 \n",
      " 35%|███▌      | 35/100 [00:17<00:38,  1.67trial/s, best loss: -0.7611196319018405]"
     ]
    },
    {
     "name": "stderr",
     "output_type": "stream",
     "text": [
      "INFO:hyperopt.tpe:build_posterior_wrapper took 0.003093 seconds\n",
      "INFO:hyperopt.tpe:TPE using 35/35 trials with best loss -0.761120\n"
     ]
    },
    {
     "name": "stdout",
     "output_type": "stream",
     "text": [
      "SCORE:                                                                             \n",
      "0.7289110429447853                                                                 \n",
      " 36%|███▌      | 36/100 [00:18<00:35,  1.80trial/s, best loss: -0.7611196319018405]"
     ]
    },
    {
     "name": "stderr",
     "output_type": "stream",
     "text": [
      "INFO:hyperopt.tpe:build_posterior_wrapper took 0.002815 seconds\n",
      "INFO:hyperopt.tpe:TPE using 36/36 trials with best loss -0.761120\n"
     ]
    },
    {
     "name": "stdout",
     "output_type": "stream",
     "text": [
      "SCORE:                                                                             \n",
      "0.7350460122699386                                                                 \n",
      " 37%|███▋      | 37/100 [00:18<00:33,  1.91trial/s, best loss: -0.7611196319018405]"
     ]
    },
    {
     "name": "stderr",
     "output_type": "stream",
     "text": [
      "INFO:hyperopt.tpe:build_posterior_wrapper took 0.003047 seconds\n",
      "INFO:hyperopt.tpe:TPE using 37/37 trials with best loss -0.761120\n"
     ]
    },
    {
     "name": "stdout",
     "output_type": "stream",
     "text": [
      "SCORE:                                                                             \n",
      "0.7304447852760736                                                                 \n",
      " 38%|███▊      | 38/100 [00:19<00:31,  1.99trial/s, best loss: -0.7611196319018405]"
     ]
    },
    {
     "name": "stderr",
     "output_type": "stream",
     "text": [
      "INFO:hyperopt.tpe:build_posterior_wrapper took 0.003334 seconds\n",
      "INFO:hyperopt.tpe:TPE using 38/38 trials with best loss -0.761120\n"
     ]
    },
    {
     "name": "stdout",
     "output_type": "stream",
     "text": [
      "SCORE:                                                                             \n",
      "0.7438650306748467                                                                 \n",
      " 39%|███▉      | 39/100 [00:20<00:36,  1.66trial/s, best loss: -0.7611196319018405]"
     ]
    },
    {
     "name": "stderr",
     "output_type": "stream",
     "text": [
      "INFO:hyperopt.tpe:build_posterior_wrapper took 0.002947 seconds\n",
      "INFO:hyperopt.tpe:TPE using 39/39 trials with best loss -0.761120\n"
     ]
    },
    {
     "name": "stdout",
     "output_type": "stream",
     "text": [
      "SCORE:                                                                             \n",
      "0.7262269938650306                                                                 \n",
      " 40%|████      | 40/100 [00:20<00:32,  1.86trial/s, best loss: -0.7611196319018405]"
     ]
    },
    {
     "name": "stderr",
     "output_type": "stream",
     "text": [
      "INFO:hyperopt.tpe:build_posterior_wrapper took 0.002895 seconds\n",
      "INFO:hyperopt.tpe:TPE using 40/40 trials with best loss -0.761120\n"
     ]
    },
    {
     "name": "stdout",
     "output_type": "stream",
     "text": [
      "SCORE:                                                                             \n",
      "0.7304447852760736                                                                 \n",
      " 41%|████      | 41/100 [00:20<00:30,  1.96trial/s, best loss: -0.7611196319018405]"
     ]
    },
    {
     "name": "stderr",
     "output_type": "stream",
     "text": [
      "INFO:hyperopt.tpe:build_posterior_wrapper took 0.003017 seconds\n",
      "INFO:hyperopt.tpe:TPE using 41/41 trials with best loss -0.761120\n"
     ]
    },
    {
     "name": "stdout",
     "output_type": "stream",
     "text": [
      "SCORE:                                                                             \n",
      "0.7415644171779141                                                                 \n",
      " 42%|████▏     | 42/100 [00:21<00:28,  2.02trial/s, best loss: -0.7611196319018405]"
     ]
    },
    {
     "name": "stderr",
     "output_type": "stream",
     "text": [
      "INFO:hyperopt.tpe:build_posterior_wrapper took 0.003001 seconds\n",
      "INFO:hyperopt.tpe:TPE using 42/42 trials with best loss -0.761120\n"
     ]
    },
    {
     "name": "stdout",
     "output_type": "stream",
     "text": [
      "SCORE:                                                                             \n",
      "0.7388803680981595                                                                 \n",
      " 43%|████▎     | 43/100 [00:21<00:27,  2.08trial/s, best loss: -0.7611196319018405]"
     ]
    },
    {
     "name": "stderr",
     "output_type": "stream",
     "text": [
      "INFO:hyperopt.tpe:build_posterior_wrapper took 0.003076 seconds\n",
      "INFO:hyperopt.tpe:TPE using 43/43 trials with best loss -0.761120\n"
     ]
    },
    {
     "name": "stdout",
     "output_type": "stream",
     "text": [
      "SCORE:                                                                             \n",
      "0.7296779141104295                                                                 \n",
      " 44%|████▍     | 44/100 [00:22<00:27,  2.05trial/s, best loss: -0.7611196319018405]"
     ]
    },
    {
     "name": "stderr",
     "output_type": "stream",
     "text": [
      "INFO:hyperopt.tpe:build_posterior_wrapper took 0.003009 seconds\n",
      "INFO:hyperopt.tpe:TPE using 44/44 trials with best loss -0.761120\n"
     ]
    },
    {
     "name": "stdout",
     "output_type": "stream",
     "text": [
      "SCORE:                                                                             \n",
      "0.7304447852760736                                                                 \n",
      " 45%|████▌     | 45/100 [00:22<00:25,  2.20trial/s, best loss: -0.7611196319018405]"
     ]
    },
    {
     "name": "stderr",
     "output_type": "stream",
     "text": [
      "INFO:hyperopt.tpe:build_posterior_wrapper took 0.003041 seconds\n",
      "INFO:hyperopt.tpe:TPE using 45/45 trials with best loss -0.761120\n"
     ]
    },
    {
     "name": "stdout",
     "output_type": "stream",
     "text": [
      "SCORE:                                                                             \n",
      "0.7258435582822086                                                                 \n",
      " 46%|████▌     | 46/100 [00:23<00:23,  2.31trial/s, best loss: -0.7611196319018405]"
     ]
    },
    {
     "name": "stderr",
     "output_type": "stream",
     "text": [
      "INFO:hyperopt.tpe:build_posterior_wrapper took 0.002676 seconds\n",
      "INFO:hyperopt.tpe:TPE using 46/46 trials with best loss -0.761120\n"
     ]
    },
    {
     "name": "stdout",
     "output_type": "stream",
     "text": [
      "SCORE:                                                                             \n",
      "0.7369631901840491                                                                 \n",
      " 47%|████▋     | 47/100 [00:23<00:23,  2.26trial/s, best loss: -0.7611196319018405]"
     ]
    },
    {
     "name": "stderr",
     "output_type": "stream",
     "text": [
      "INFO:hyperopt.tpe:build_posterior_wrapper took 0.002640 seconds\n",
      "INFO:hyperopt.tpe:TPE using 47/47 trials with best loss -0.761120\n"
     ]
    },
    {
     "name": "stdout",
     "output_type": "stream",
     "text": [
      "SCORE:                                                                             \n",
      "0.7315950920245399                                                                 \n",
      " 48%|████▊     | 48/100 [00:23<00:23,  2.25trial/s, best loss: -0.7611196319018405]"
     ]
    },
    {
     "name": "stderr",
     "output_type": "stream",
     "text": [
      "INFO:hyperopt.tpe:build_posterior_wrapper took 0.002828 seconds\n",
      "INFO:hyperopt.tpe:TPE using 48/48 trials with best loss -0.761120\n"
     ]
    },
    {
     "name": "stdout",
     "output_type": "stream",
     "text": [
      "SCORE:                                                                             \n",
      "0.7281441717791411                                                                 \n",
      " 49%|████▉     | 49/100 [00:24<00:23,  2.21trial/s, best loss: -0.7611196319018405]"
     ]
    },
    {
     "name": "stderr",
     "output_type": "stream",
     "text": [
      "INFO:hyperopt.tpe:build_posterior_wrapper took 0.001858 seconds\n",
      "INFO:hyperopt.tpe:TPE using 49/49 trials with best loss -0.761120\n"
     ]
    },
    {
     "name": "stdout",
     "output_type": "stream",
     "text": [
      "SCORE:                                                                             \n",
      "0.7258435582822086                                                                 \n",
      " 50%|█████     | 50/100 [00:24<00:21,  2.31trial/s, best loss: -0.7611196319018405]"
     ]
    },
    {
     "name": "stderr",
     "output_type": "stream",
     "text": [
      "INFO:hyperopt.tpe:build_posterior_wrapper took 0.001917 seconds\n",
      "INFO:hyperopt.tpe:TPE using 50/50 trials with best loss -0.761120\n"
     ]
    },
    {
     "name": "stdout",
     "output_type": "stream",
     "text": [
      "SCORE:                                                                             \n",
      "0.7258435582822086                                                                 \n",
      " 51%|█████     | 51/100 [00:25<00:20,  2.39trial/s, best loss: -0.7611196319018405]"
     ]
    },
    {
     "name": "stderr",
     "output_type": "stream",
     "text": [
      "INFO:hyperopt.tpe:build_posterior_wrapper took 0.002883 seconds\n",
      "INFO:hyperopt.tpe:TPE using 51/51 trials with best loss -0.761120\n"
     ]
    },
    {
     "name": "stdout",
     "output_type": "stream",
     "text": [
      "SCORE:                                                                             \n",
      "0.7327453987730062                                                                 \n",
      " 52%|█████▏    | 52/100 [00:25<00:20,  2.33trial/s, best loss: -0.7611196319018405]"
     ]
    },
    {
     "name": "stderr",
     "output_type": "stream",
     "text": [
      "INFO:hyperopt.tpe:build_posterior_wrapper took 0.002462 seconds\n",
      "INFO:hyperopt.tpe:TPE using 52/52 trials with best loss -0.761120\n"
     ]
    },
    {
     "name": "stdout",
     "output_type": "stream",
     "text": [
      "SCORE:                                                                             \n",
      "0.7315950920245399                                                                 \n",
      " 53%|█████▎    | 53/100 [00:26<00:20,  2.30trial/s, best loss: -0.7611196319018405]"
     ]
    },
    {
     "name": "stderr",
     "output_type": "stream",
     "text": [
      "INFO:hyperopt.tpe:build_posterior_wrapper took 0.002485 seconds\n",
      "INFO:hyperopt.tpe:TPE using 53/53 trials with best loss -0.761120\n"
     ]
    },
    {
     "name": "stdout",
     "output_type": "stream",
     "text": [
      "SCORE:                                                                             \n",
      "0.7304447852760736                                                                 \n",
      " 54%|█████▍    | 54/100 [00:26<00:20,  2.26trial/s, best loss: -0.7611196319018405]"
     ]
    },
    {
     "name": "stderr",
     "output_type": "stream",
     "text": [
      "INFO:hyperopt.tpe:build_posterior_wrapper took 0.002389 seconds\n",
      "INFO:hyperopt.tpe:TPE using 54/54 trials with best loss -0.761120\n"
     ]
    },
    {
     "name": "stdout",
     "output_type": "stream",
     "text": [
      "SCORE:                                                                             \n",
      "0.7300613496932515                                                                 \n",
      " 55%|█████▌    | 55/100 [00:27<00:20,  2.24trial/s, best loss: -0.7611196319018405]"
     ]
    },
    {
     "name": "stderr",
     "output_type": "stream",
     "text": [
      "INFO:hyperopt.tpe:build_posterior_wrapper took 0.002348 seconds\n",
      "INFO:hyperopt.tpe:TPE using 55/55 trials with best loss -0.761120\n"
     ]
    },
    {
     "name": "stdout",
     "output_type": "stream",
     "text": [
      "SCORE:                                                                             \n",
      "0.7576687116564417                                                                 \n",
      " 56%|█████▌    | 56/100 [00:27<00:25,  1.72trial/s, best loss: -0.7611196319018405]"
     ]
    },
    {
     "name": "stderr",
     "output_type": "stream",
     "text": [
      "INFO:hyperopt.tpe:build_posterior_wrapper took 0.002688 seconds\n",
      "INFO:hyperopt.tpe:TPE using 56/56 trials with best loss -0.761120\n"
     ]
    },
    {
     "name": "stdout",
     "output_type": "stream",
     "text": [
      "SCORE:                                                                             \n",
      "0.7254601226993865                                                                 \n",
      " 57%|█████▋    | 57/100 [00:28<00:22,  1.92trial/s, best loss: -0.7611196319018405]"
     ]
    },
    {
     "name": "stderr",
     "output_type": "stream",
     "text": [
      "INFO:hyperopt.tpe:build_posterior_wrapper took 0.007279 seconds\n",
      "INFO:hyperopt.tpe:TPE using 57/57 trials with best loss -0.761120\n"
     ]
    },
    {
     "name": "stdout",
     "output_type": "stream",
     "text": [
      "SCORE:                                                                             \n",
      "0.7331288343558282                                                                 \n",
      " 58%|█████▊    | 58/100 [00:28<00:21,  1.99trial/s, best loss: -0.7611196319018405]"
     ]
    },
    {
     "name": "stderr",
     "output_type": "stream",
     "text": [
      "INFO:hyperopt.tpe:build_posterior_wrapper took 0.002438 seconds\n",
      "INFO:hyperopt.tpe:TPE using 58/58 trials with best loss -0.761120\n"
     ]
    },
    {
     "name": "stdout",
     "output_type": "stream",
     "text": [
      "SCORE:                                                                             \n",
      "0.7258435582822086                                                                 \n",
      " 59%|█████▉    | 59/100 [00:29<00:19,  2.14trial/s, best loss: -0.7611196319018405]"
     ]
    },
    {
     "name": "stderr",
     "output_type": "stream",
     "text": [
      "INFO:hyperopt.tpe:build_posterior_wrapper took 0.002593 seconds\n",
      "INFO:hyperopt.tpe:TPE using 59/59 trials with best loss -0.761120\n"
     ]
    },
    {
     "name": "stdout",
     "output_type": "stream",
     "text": [
      "SCORE:                                                                             \n",
      "0.7258435582822086                                                                 \n",
      " 60%|██████    | 60/100 [00:29<00:17,  2.25trial/s, best loss: -0.7611196319018405]"
     ]
    },
    {
     "name": "stderr",
     "output_type": "stream",
     "text": [
      "INFO:hyperopt.tpe:build_posterior_wrapper took 0.002695 seconds\n",
      "INFO:hyperopt.tpe:TPE using 60/60 trials with best loss -0.761120\n"
     ]
    },
    {
     "name": "stdout",
     "output_type": "stream",
     "text": [
      "SCORE:                                                                             \n",
      "0.7312116564417178                                                                 \n",
      " 61%|██████    | 61/100 [00:29<00:16,  2.35trial/s, best loss: -0.7611196319018405]"
     ]
    },
    {
     "name": "stderr",
     "output_type": "stream",
     "text": [
      "INFO:hyperopt.tpe:build_posterior_wrapper took 0.002506 seconds\n",
      "INFO:hyperopt.tpe:TPE using 61/61 trials with best loss -0.761120\n"
     ]
    },
    {
     "name": "stdout",
     "output_type": "stream",
     "text": [
      "SCORE:                                                                             \n",
      "0.7300613496932515                                                                 \n",
      " 62%|██████▏   | 62/100 [00:30<00:16,  2.29trial/s, best loss: -0.7611196319018405]"
     ]
    },
    {
     "name": "stderr",
     "output_type": "stream",
     "text": [
      "INFO:hyperopt.tpe:build_posterior_wrapper took 0.002847 seconds\n",
      "INFO:hyperopt.tpe:TPE using 62/62 trials with best loss -0.761120\n"
     ]
    },
    {
     "name": "stdout",
     "output_type": "stream",
     "text": [
      "SCORE:                                                                             \n",
      "0.7584355828220859                                                                 \n",
      " 63%|██████▎   | 63/100 [00:31<00:21,  1.75trial/s, best loss: -0.7611196319018405]"
     ]
    },
    {
     "name": "stderr",
     "output_type": "stream",
     "text": [
      "INFO:hyperopt.tpe:build_posterior_wrapper took 0.003170 seconds\n",
      "INFO:hyperopt.tpe:TPE using 63/63 trials with best loss -0.761120\n"
     ]
    },
    {
     "name": "stdout",
     "output_type": "stream",
     "text": [
      "SCORE:                                                                             \n",
      "0.7373466257668712                                                                 \n",
      " 64%|██████▍   | 64/100 [00:31<00:19,  1.85trial/s, best loss: -0.7611196319018405]"
     ]
    },
    {
     "name": "stderr",
     "output_type": "stream",
     "text": [
      "INFO:hyperopt.tpe:build_posterior_wrapper took 0.002327 seconds\n",
      "INFO:hyperopt.tpe:TPE using 64/64 trials with best loss -0.761120\n"
     ]
    },
    {
     "name": "stdout",
     "output_type": "stream",
     "text": [
      "SCORE:                                                                             \n",
      "0.7315950920245399                                                                 \n",
      " 65%|██████▌   | 65/100 [00:32<00:18,  1.91trial/s, best loss: -0.7611196319018405]"
     ]
    },
    {
     "name": "stderr",
     "output_type": "stream",
     "text": [
      "INFO:hyperopt.tpe:build_posterior_wrapper took 0.003366 seconds\n",
      "INFO:hyperopt.tpe:TPE using 65/65 trials with best loss -0.761120\n"
     ]
    },
    {
     "name": "stdout",
     "output_type": "stream",
     "text": [
      "SCORE:                                                                             \n",
      "0.7607361963190185                                                                 \n",
      " 66%|██████▌   | 66/100 [00:33<00:21,  1.58trial/s, best loss: -0.7611196319018405]"
     ]
    },
    {
     "name": "stderr",
     "output_type": "stream",
     "text": [
      "INFO:hyperopt.tpe:build_posterior_wrapper took 0.001996 seconds\n",
      "INFO:hyperopt.tpe:TPE using 66/66 trials with best loss -0.761120\n"
     ]
    },
    {
     "name": "stdout",
     "output_type": "stream",
     "text": [
      "SCORE:                                                                             \n",
      "0.7415644171779141                                                                 \n",
      " 67%|██████▋   | 67/100 [00:33<00:19,  1.70trial/s, best loss: -0.7611196319018405]"
     ]
    },
    {
     "name": "stderr",
     "output_type": "stream",
     "text": [
      "INFO:hyperopt.tpe:build_posterior_wrapper took 0.001821 seconds\n",
      "INFO:hyperopt.tpe:TPE using 67/67 trials with best loss -0.761120\n"
     ]
    },
    {
     "name": "stdout",
     "output_type": "stream",
     "text": [
      "SCORE:                                                                             \n",
      "0.7323619631901841                                                                 \n",
      " 68%|██████▊   | 68/100 [00:34<00:17,  1.79trial/s, best loss: -0.7611196319018405]"
     ]
    },
    {
     "name": "stderr",
     "output_type": "stream",
     "text": [
      "INFO:hyperopt.tpe:build_posterior_wrapper took 0.002545 seconds\n",
      "INFO:hyperopt.tpe:TPE using 68/68 trials with best loss -0.761120\n"
     ]
    },
    {
     "name": "stdout",
     "output_type": "stream",
     "text": [
      "SCORE:                                                                             \n",
      "0.7572852760736196                                                                 \n",
      " 69%|██████▉   | 69/100 [00:34<00:20,  1.52trial/s, best loss: -0.7611196319018405]"
     ]
    },
    {
     "name": "stderr",
     "output_type": "stream",
     "text": [
      "INFO:hyperopt.tpe:build_posterior_wrapper took 0.002609 seconds\n",
      "INFO:hyperopt.tpe:TPE using 69/69 trials with best loss -0.761120\n"
     ]
    },
    {
     "name": "stdout",
     "output_type": "stream",
     "text": [
      "SCORE:                                                                             \n",
      "0.7415644171779141                                                                 \n",
      " 70%|███████   | 70/100 [00:35<00:18,  1.65trial/s, best loss: -0.7611196319018405]"
     ]
    },
    {
     "name": "stderr",
     "output_type": "stream",
     "text": [
      "INFO:hyperopt.tpe:build_posterior_wrapper took 0.002402 seconds\n",
      "INFO:hyperopt.tpe:TPE using 70/70 trials with best loss -0.761120\n"
     ]
    },
    {
     "name": "stdout",
     "output_type": "stream",
     "text": [
      "SCORE:                                                                             \n",
      "0.7388803680981595                                                                 \n",
      " 71%|███████   | 71/100 [00:35<00:16,  1.77trial/s, best loss: -0.7611196319018405]"
     ]
    },
    {
     "name": "stderr",
     "output_type": "stream",
     "text": [
      "INFO:hyperopt.tpe:build_posterior_wrapper took 0.002950 seconds\n",
      "INFO:hyperopt.tpe:TPE using 71/71 trials with best loss -0.761120\n"
     ]
    },
    {
     "name": "stdout",
     "output_type": "stream",
     "text": [
      "SCORE:                                                                             \n",
      "0.75920245398773                                                                   \n",
      " 72%|███████▏  | 72/100 [00:36<00:18,  1.52trial/s, best loss: -0.7611196319018405]"
     ]
    },
    {
     "name": "stderr",
     "output_type": "stream",
     "text": [
      "INFO:hyperopt.tpe:build_posterior_wrapper took 0.003270 seconds\n",
      "INFO:hyperopt.tpe:TPE using 72/72 trials with best loss -0.761120\n"
     ]
    },
    {
     "name": "stdout",
     "output_type": "stream",
     "text": [
      "SCORE:                                                                             \n",
      "0.74079754601227                                                                   \n",
      " 73%|███████▎  | 73/100 [00:37<00:19,  1.39trial/s, best loss: -0.7611196319018405]"
     ]
    },
    {
     "name": "stderr",
     "output_type": "stream",
     "text": [
      "INFO:hyperopt.tpe:build_posterior_wrapper took 0.001864 seconds\n",
      "INFO:hyperopt.tpe:TPE using 73/73 trials with best loss -0.761120\n"
     ]
    },
    {
     "name": "stdout",
     "output_type": "stream",
     "text": [
      "SCORE:                                                                             \n",
      "0.7335122699386503                                                                 \n",
      " 74%|███████▍  | 74/100 [00:38<00:16,  1.56trial/s, best loss: -0.7611196319018405]"
     ]
    },
    {
     "name": "stderr",
     "output_type": "stream",
     "text": [
      "INFO:hyperopt.tpe:build_posterior_wrapper took 0.002632 seconds\n",
      "INFO:hyperopt.tpe:TPE using 74/74 trials with best loss -0.761120\n"
     ]
    },
    {
     "name": "stdout",
     "output_type": "stream",
     "text": [
      "SCORE:                                                                             \n",
      "0.7296779141104295                                                                 \n",
      " 75%|███████▌  | 75/100 [00:38<00:14,  1.70trial/s, best loss: -0.7611196319018405]"
     ]
    },
    {
     "name": "stderr",
     "output_type": "stream",
     "text": [
      "INFO:hyperopt.tpe:build_posterior_wrapper took 0.002747 seconds\n",
      "INFO:hyperopt.tpe:TPE using 75/75 trials with best loss -0.761120\n"
     ]
    },
    {
     "name": "stdout",
     "output_type": "stream",
     "text": [
      "SCORE:                                                                             \n",
      "0.7319785276073619                                                                 \n",
      " 76%|███████▌  | 76/100 [00:39<00:13,  1.83trial/s, best loss: -0.7611196319018405]"
     ]
    },
    {
     "name": "stderr",
     "output_type": "stream",
     "text": [
      "INFO:hyperopt.tpe:build_posterior_wrapper took 0.002628 seconds\n",
      "INFO:hyperopt.tpe:TPE using 76/76 trials with best loss -0.761120\n"
     ]
    },
    {
     "name": "stdout",
     "output_type": "stream",
     "text": [
      "SCORE:                                                                             \n",
      "0.7572852760736196                                                                 \n",
      " 77%|███████▋  | 77/100 [00:39<00:14,  1.55trial/s, best loss: -0.7611196319018405]"
     ]
    },
    {
     "name": "stderr",
     "output_type": "stream",
     "text": [
      "INFO:hyperopt.tpe:build_posterior_wrapper took 0.002953 seconds\n",
      "INFO:hyperopt.tpe:TPE using 77/77 trials with best loss -0.761120\n"
     ]
    },
    {
     "name": "stdout",
     "output_type": "stream",
     "text": [
      "SCORE:                                                                             \n",
      "0.7304447852760736                                                                 \n",
      " 78%|███████▊  | 78/100 [00:40<00:12,  1.69trial/s, best loss: -0.7611196319018405]"
     ]
    },
    {
     "name": "stderr",
     "output_type": "stream",
     "text": [
      "INFO:hyperopt.tpe:build_posterior_wrapper took 0.002409 seconds\n",
      "INFO:hyperopt.tpe:TPE using 78/78 trials with best loss -0.761120\n"
     ]
    },
    {
     "name": "stdout",
     "output_type": "stream",
     "text": [
      "SCORE:                                                                             \n",
      "0.7312116564417178                                                                 \n",
      " 79%|███████▉  | 79/100 [00:40<00:11,  1.81trial/s, best loss: -0.7611196319018405]"
     ]
    },
    {
     "name": "stderr",
     "output_type": "stream",
     "text": [
      "INFO:hyperopt.tpe:build_posterior_wrapper took 0.002477 seconds\n",
      "INFO:hyperopt.tpe:TPE using 79/79 trials with best loss -0.761120\n"
     ]
    },
    {
     "name": "stdout",
     "output_type": "stream",
     "text": [
      "SCORE:                                                                             \n",
      "0.7312116564417178                                                                 \n",
      " 80%|████████  | 80/100 [00:41<00:10,  1.90trial/s, best loss: -0.7611196319018405]"
     ]
    },
    {
     "name": "stderr",
     "output_type": "stream",
     "text": [
      "INFO:hyperopt.tpe:build_posterior_wrapper took 0.001869 seconds\n",
      "INFO:hyperopt.tpe:TPE using 80/80 trials with best loss -0.761120\n"
     ]
    },
    {
     "name": "stdout",
     "output_type": "stream",
     "text": [
      "SCORE:                                                                             \n",
      "0.7607361963190185                                                                 \n",
      " 81%|████████  | 81/100 [00:42<00:12,  1.58trial/s, best loss: -0.7611196319018405]"
     ]
    },
    {
     "name": "stderr",
     "output_type": "stream",
     "text": [
      "INFO:hyperopt.tpe:build_posterior_wrapper took 0.001841 seconds\n",
      "INFO:hyperopt.tpe:TPE using 81/81 trials with best loss -0.761120\n"
     ]
    },
    {
     "name": "stdout",
     "output_type": "stream",
     "text": [
      "SCORE:                                                                             \n",
      "0.7388803680981595                                                                 \n",
      " 82%|████████▏ | 82/100 [00:42<00:10,  1.69trial/s, best loss: -0.7611196319018405]"
     ]
    },
    {
     "name": "stderr",
     "output_type": "stream",
     "text": [
      "INFO:hyperopt.tpe:build_posterior_wrapper took 0.002685 seconds\n",
      "INFO:hyperopt.tpe:TPE using 82/82 trials with best loss -0.761120\n"
     ]
    },
    {
     "name": "stdout",
     "output_type": "stream",
     "text": [
      "SCORE:                                                                             \n",
      "0.7258435582822086                                                                 \n",
      " 83%|████████▎ | 83/100 [00:43<00:09,  1.88trial/s, best loss: -0.7611196319018405]"
     ]
    },
    {
     "name": "stderr",
     "output_type": "stream",
     "text": [
      "INFO:hyperopt.tpe:build_posterior_wrapper took 0.003142 seconds\n",
      "INFO:hyperopt.tpe:TPE using 83/83 trials with best loss -0.761120\n"
     ]
    },
    {
     "name": "stdout",
     "output_type": "stream",
     "text": [
      "SCORE:                                                                             \n",
      "0.7319785276073619                                                                 \n",
      " 84%|████████▍ | 84/100 [00:43<00:08,  1.93trial/s, best loss: -0.7611196319018405]"
     ]
    },
    {
     "name": "stderr",
     "output_type": "stream",
     "text": [
      "INFO:hyperopt.tpe:build_posterior_wrapper took 0.002350 seconds\n",
      "INFO:hyperopt.tpe:TPE using 84/84 trials with best loss -0.761120\n"
     ]
    },
    {
     "name": "stdout",
     "output_type": "stream",
     "text": [
      "SCORE:                                                                             \n",
      "0.7404141104294478                                                                 \n",
      " 85%|████████▌ | 85/100 [00:44<00:07,  2.01trial/s, best loss: -0.7611196319018405]"
     ]
    },
    {
     "name": "stderr",
     "output_type": "stream",
     "text": [
      "INFO:hyperopt.tpe:build_posterior_wrapper took 0.001860 seconds\n",
      "INFO:hyperopt.tpe:TPE using 85/85 trials with best loss -0.761120\n"
     ]
    },
    {
     "name": "stdout",
     "output_type": "stream",
     "text": [
      "SCORE:                                                                             \n",
      "0.7281441717791411                                                                 \n",
      " 86%|████████▌ | 86/100 [00:44<00:06,  2.07trial/s, best loss: -0.7611196319018405]"
     ]
    },
    {
     "name": "stderr",
     "output_type": "stream",
     "text": [
      "INFO:hyperopt.tpe:build_posterior_wrapper took 0.002342 seconds\n",
      "INFO:hyperopt.tpe:TPE using 86/86 trials with best loss -0.761120\n"
     ]
    },
    {
     "name": "stdout",
     "output_type": "stream",
     "text": [
      "SCORE:                                                                             \n",
      "0.7358128834355828                                                                 \n",
      " 87%|████████▋ | 87/100 [00:44<00:06,  2.10trial/s, best loss: -0.7611196319018405]"
     ]
    },
    {
     "name": "stderr",
     "output_type": "stream",
     "text": [
      "INFO:hyperopt.tpe:build_posterior_wrapper took 0.001794 seconds\n",
      "INFO:hyperopt.tpe:TPE using 87/87 trials with best loss -0.761120\n"
     ]
    },
    {
     "name": "stdout",
     "output_type": "stream",
     "text": [
      "SCORE:                                                                             \n",
      "0.7415644171779141                                                                 \n",
      " 88%|████████▊ | 88/100 [00:45<00:05,  2.09trial/s, best loss: -0.7611196319018405]"
     ]
    },
    {
     "name": "stderr",
     "output_type": "stream",
     "text": [
      "INFO:hyperopt.tpe:build_posterior_wrapper took 0.214580 seconds\n",
      "INFO:hyperopt.tpe:TPE using 88/88 trials with best loss -0.761120\n"
     ]
    },
    {
     "name": "stdout",
     "output_type": "stream",
     "text": [
      "SCORE:                                                                             \n",
      "0.7258435582822086                                                                 \n",
      " 89%|████████▉ | 89/100 [00:46<00:05,  1.95trial/s, best loss: -0.7611196319018405]"
     ]
    },
    {
     "name": "stderr",
     "output_type": "stream",
     "text": [
      "INFO:hyperopt.tpe:build_posterior_wrapper took 0.002997 seconds\n",
      "INFO:hyperopt.tpe:TPE using 89/89 trials with best loss -0.761120\n"
     ]
    },
    {
     "name": "stdout",
     "output_type": "stream",
     "text": [
      "SCORE:                                                                             \n",
      "0.7450153374233128                                                                 \n",
      " 90%|█████████ | 90/100 [00:46<00:06,  1.61trial/s, best loss: -0.7611196319018405]"
     ]
    },
    {
     "name": "stderr",
     "output_type": "stream",
     "text": [
      "INFO:hyperopt.tpe:build_posterior_wrapper took 0.002462 seconds\n",
      "INFO:hyperopt.tpe:TPE using 90/90 trials with best loss -0.761120\n"
     ]
    },
    {
     "name": "stdout",
     "output_type": "stream",
     "text": [
      "SCORE:                                                                             \n",
      "0.7315950920245399                                                                 \n",
      " 91%|█████████ | 91/100 [00:47<00:05,  1.72trial/s, best loss: -0.7611196319018405]"
     ]
    },
    {
     "name": "stderr",
     "output_type": "stream",
     "text": [
      "INFO:hyperopt.tpe:build_posterior_wrapper took 0.002781 seconds\n",
      "INFO:hyperopt.tpe:TPE using 91/91 trials with best loss -0.761120\n"
     ]
    },
    {
     "name": "stdout",
     "output_type": "stream",
     "text": [
      "SCORE:                                                                             \n",
      "0.723542944785276                                                                  \n",
      " 92%|█████████▏| 92/100 [00:47<00:03,  2.06trial/s, best loss: -0.7611196319018405]"
     ]
    },
    {
     "name": "stderr",
     "output_type": "stream",
     "text": [
      "INFO:hyperopt.tpe:build_posterior_wrapper took 0.002816 seconds\n",
      "INFO:hyperopt.tpe:TPE using 92/92 trials with best loss -0.761120\n"
     ]
    },
    {
     "name": "stdout",
     "output_type": "stream",
     "text": [
      "SCORE:                                                                             \n",
      "0.7273773006134969                                                                 \n",
      " 93%|█████████▎| 93/100 [00:48<00:03,  2.20trial/s, best loss: -0.7611196319018405]"
     ]
    },
    {
     "name": "stderr",
     "output_type": "stream",
     "text": [
      "INFO:hyperopt.tpe:build_posterior_wrapper took 0.003057 seconds\n",
      "INFO:hyperopt.tpe:TPE using 93/93 trials with best loss -0.761120\n"
     ]
    },
    {
     "name": "stdout",
     "output_type": "stream",
     "text": [
      "SCORE:                                                                             \n",
      "0.7304447852760736                                                                 \n",
      " 94%|█████████▍| 94/100 [00:48<00:02,  2.30trial/s, best loss: -0.7611196319018405]"
     ]
    },
    {
     "name": "stderr",
     "output_type": "stream",
     "text": [
      "INFO:hyperopt.tpe:build_posterior_wrapper took 0.002522 seconds\n",
      "INFO:hyperopt.tpe:TPE using 94/94 trials with best loss -0.761120\n"
     ]
    },
    {
     "name": "stdout",
     "output_type": "stream",
     "text": [
      "SCORE:                                                                             \n",
      "0.7300613496932515                                                                 \n",
      " 95%|█████████▌| 95/100 [00:48<00:02,  2.26trial/s, best loss: -0.7611196319018405]"
     ]
    },
    {
     "name": "stderr",
     "output_type": "stream",
     "text": [
      "INFO:hyperopt.tpe:build_posterior_wrapper took 0.002532 seconds\n",
      "INFO:hyperopt.tpe:TPE using 95/95 trials with best loss -0.761120\n"
     ]
    },
    {
     "name": "stdout",
     "output_type": "stream",
     "text": [
      "SCORE:                                                                             \n",
      "0.7296779141104295                                                                 \n",
      " 96%|█████████▌| 96/100 [00:49<00:01,  2.23trial/s, best loss: -0.7611196319018405]"
     ]
    },
    {
     "name": "stderr",
     "output_type": "stream",
     "text": [
      "INFO:hyperopt.tpe:build_posterior_wrapper took 0.003566 seconds\n",
      "INFO:hyperopt.tpe:TPE using 96/96 trials with best loss -0.761120\n"
     ]
    },
    {
     "name": "stdout",
     "output_type": "stream",
     "text": [
      "SCORE:                                                                             \n",
      "0.7595858895705522                                                                 \n",
      " 97%|█████████▋| 97/100 [00:50<00:01,  1.71trial/s, best loss: -0.7611196319018405]"
     ]
    },
    {
     "name": "stderr",
     "output_type": "stream",
     "text": [
      "INFO:hyperopt.tpe:build_posterior_wrapper took 0.002801 seconds\n",
      "INFO:hyperopt.tpe:TPE using 97/97 trials with best loss -0.761120\n"
     ]
    },
    {
     "name": "stdout",
     "output_type": "stream",
     "text": [
      "SCORE:                                                                             \n",
      "0.7304447852760736                                                                 \n",
      " 98%|█████████▊| 98/100 [00:50<00:01,  1.81trial/s, best loss: -0.7611196319018405]"
     ]
    },
    {
     "name": "stderr",
     "output_type": "stream",
     "text": [
      "INFO:hyperopt.tpe:build_posterior_wrapper took 0.001842 seconds\n",
      "INFO:hyperopt.tpe:TPE using 98/98 trials with best loss -0.761120\n"
     ]
    },
    {
     "name": "stdout",
     "output_type": "stream",
     "text": [
      "SCORE:                                                                             \n",
      "0.7266104294478528                                                                 \n",
      " 99%|█████████▉| 99/100 [00:51<00:00,  1.91trial/s, best loss: -0.7611196319018405]"
     ]
    },
    {
     "name": "stderr",
     "output_type": "stream",
     "text": [
      "INFO:hyperopt.tpe:build_posterior_wrapper took 0.002003 seconds\n",
      "INFO:hyperopt.tpe:TPE using 99/99 trials with best loss -0.761120\n"
     ]
    },
    {
     "name": "stdout",
     "output_type": "stream",
     "text": [
      "SCORE:                                                                             \n",
      "0.7254601226993865                                                                 \n",
      "100%|██████████| 100/100 [00:51<00:00,  1.94trial/s, best loss: -0.7611196319018405]\n"
     ]
    }
   ],
   "source": [
    "trials = Trials()\n",
    "\n",
    "best_hyperparams = fmin(\n",
    "    fn = objective,\n",
    "    space = space,\n",
    "    algo = tpe.suggest,\n",
    "    max_evals = 100,\n",
    "    trials = trials\n",
    ")"
   ]
  },
  {
   "cell_type": "code",
   "execution_count": 80,
   "id": "9cfa7d83-b23a-4967-906b-baaa446d2537",
   "metadata": {
    "tags": []
   },
   "outputs": [
    {
     "name": "stdout",
     "output_type": "stream",
     "text": [
      "The best hyperparameters are :  \n",
      "\n",
      "{'colsample_bytree': 0.5884648549513093, 'gamma': 1.038630608684157, 'max_depth': 3, 'min_child_weight': 0.0, 'reg_alpha': 41.0, 'reg_lambda': 0.9837495930439122}\n"
     ]
    }
   ],
   "source": [
    "best_hyperparams['max_depth'] = best_hyperparams['max_depth'].astype(float).astype(int)\n",
    "\n",
    "print(\"The best hyperparameters are : \",\"\\n\")\n",
    "print(best_hyperparams)"
   ]
  },
  {
   "cell_type": "code",
   "execution_count": 81,
   "id": "f7856631-0307-4709-988a-0bdbf2c54158",
   "metadata": {
    "tags": []
   },
   "outputs": [
    {
     "name": "stderr",
     "output_type": "stream",
     "text": [
      "INFO:sagemaker.image_uris:Ignoring unnecessary instance type: None.\n"
     ]
    },
    {
     "name": "stdout",
     "output_type": "stream",
     "text": [
      "{'objective': 'binary:logistic', 'eval_metric': 'error', 'num_round': '100', 'colsample_bytree': 0.5884648549513093, 'gamma': 1.038630608684157, 'max_depth': 3, 'min_child_weight': 0.0, 'reg_alpha': 41.0, 'reg_lambda': 0.9837495930439122}\n"
     ]
    }
   ],
   "source": [
    "from sagemaker.inputs import TrainingInput\n",
    "\n",
    "input_train = TrainingInput(\n",
    "    s3_data=f's3://{bucket}/{prefix}/train/{train_file}',\n",
    "    content_type=\"csv\"\n",
    ")\n",
    "\n",
    "container = sagemaker.image_uris.retrieve(\"xgboost\", region, \"1.7-1\")\n",
    "\n",
    "hyperpar = {\n",
    "    'objective':'binary:logistic',\n",
    "    'eval_metric':'error',\n",
    "    'num_round':'100'\n",
    "}\n",
    "\n",
    "hyperpar.update(best_hyperparams)\n",
    "\n",
    "print(hyperpar)\n",
    "\n",
    "output_path = f's3://{bucket}/{prefix}/output'\n",
    "\n",
    "estimate = sagemaker.estimator.Estimator(\n",
    "    image_uri=container,\n",
    "    hyperparameters=hyperpar,\n",
    "    role=role,\n",
    "    instance_count=1,\n",
    "    instance_type=\"ml.m4.xlarge\",\n",
    "    output_path=output_path,\n",
    "    sagemaker_session=sess)"
   ]
  },
  {
   "cell_type": "code",
   "execution_count": 82,
   "id": "f18acfd0-58c8-46af-91bc-cce234aa7aa2",
   "metadata": {
    "tags": []
   },
   "outputs": [
    {
     "name": "stderr",
     "output_type": "stream",
     "text": [
      "INFO:sagemaker:Creating training-job with name: sagemaker-xgboost-2023-06-01-06-30-21-798\n"
     ]
    },
    {
     "name": "stdout",
     "output_type": "stream",
     "text": [
      "2023-06-01 06:30:22 Starting - Starting the training job...\n",
      "2023-06-01 06:30:47 Starting - Preparing the instances for training......\n",
      "2023-06-01 06:31:56 Downloading - Downloading input data...\n",
      "2023-06-01 06:32:15 Training - Downloading the training image......\n",
      "2023-06-01 06:33:32 Uploading - Uploading generated training model\n",
      "2023-06-01 06:33:32 Completed - Training job completed\n",
      "\u001b[34m[2023-06-01 06:33:16.213 ip-10-0-161-55.eu-west-1.compute.internal:7 INFO utils.py:28] RULE_JOB_STOP_SIGNAL_FILENAME: None\u001b[0m\n",
      "\u001b[34m[2023-06-01 06:33:16.287 ip-10-0-161-55.eu-west-1.compute.internal:7 INFO profiler_config_parser.py:111] User has disabled profiler.\u001b[0m\n",
      "\u001b[34m[2023-06-01:06:33:16:INFO] Imported framework sagemaker_xgboost_container.training\u001b[0m\n",
      "\u001b[34m[2023-06-01:06:33:16:INFO] Failed to parse hyperparameter eval_metric value error to Json.\u001b[0m\n",
      "\u001b[34mReturning the value itself\u001b[0m\n",
      "\u001b[34m[2023-06-01:06:33:16:INFO] Failed to parse hyperparameter objective value binary:logistic to Json.\u001b[0m\n",
      "\u001b[34mReturning the value itself\u001b[0m\n",
      "\u001b[34m[2023-06-01:06:33:16:INFO] No GPUs detected (normal if no gpus installed)\u001b[0m\n",
      "\u001b[34m[2023-06-01:06:33:16:INFO] Running XGBoost Sagemaker in algorithm mode\u001b[0m\n",
      "\u001b[34m[2023-06-01:06:33:16:INFO] Determined 0 GPU(s) available on the instance.\u001b[0m\n",
      "\u001b[34m[2023-06-01:06:33:16:INFO] Determined delimiter of CSV input is ','\u001b[0m\n",
      "\u001b[34m[2023-06-01:06:33:16:INFO] files path: /opt/ml/input/data/train\u001b[0m\n",
      "\u001b[34m[2023-06-01:06:33:16:INFO] Determined delimiter of CSV input is ','\u001b[0m\n",
      "\u001b[34m[2023-06-01:06:33:16:INFO] Single node training.\u001b[0m\n",
      "\u001b[34m[2023-06-01:06:33:16:INFO] Train matrix has 8693 rows and 15 columns\u001b[0m\n",
      "\u001b[34m[2023-06-01 06:33:16.736 ip-10-0-161-55.eu-west-1.compute.internal:7 INFO json_config.py:92] Creating hook from json_config at /opt/ml/input/config/debughookconfig.json.\u001b[0m\n",
      "\u001b[34m[2023-06-01 06:33:16.737 ip-10-0-161-55.eu-west-1.compute.internal:7 INFO hook.py:206] tensorboard_dir has not been set for the hook. SMDebug will not be exporting tensorboard summaries.\u001b[0m\n",
      "\u001b[34m[2023-06-01 06:33:16.737 ip-10-0-161-55.eu-west-1.compute.internal:7 INFO hook.py:259] Saving to /opt/ml/output/tensors\u001b[0m\n",
      "\u001b[34m[2023-06-01 06:33:16.738 ip-10-0-161-55.eu-west-1.compute.internal:7 INFO state_store.py:77] The checkpoint config file /opt/ml/input/config/checkpointconfig.json does not exist.\u001b[0m\n",
      "\u001b[34m[2023-06-01:06:33:16:INFO] Debug hook created from config\u001b[0m\n",
      "\u001b[34m[2023-06-01 06:33:16.782 ip-10-0-161-55.eu-west-1.compute.internal:7 INFO hook.py:427] Monitoring the collections: metrics\u001b[0m\n",
      "\u001b[34m[2023-06-01 06:33:16.786 ip-10-0-161-55.eu-west-1.compute.internal:7 INFO hook.py:491] Hook is writing from the hook with pid: 7\u001b[0m\n",
      "\u001b[34m[0]#011train-error:0.26504\u001b[0m\n",
      "\u001b[34m[1]#011train-error:0.26504\u001b[0m\n",
      "\u001b[34m[2]#011train-error:0.24387\u001b[0m\n",
      "\u001b[34m[3]#011train-error:0.24376\u001b[0m\n",
      "\u001b[34m[4]#011train-error:0.24157\u001b[0m\n",
      "\u001b[34m[5]#011train-error:0.24019\u001b[0m\n",
      "\u001b[34m[6]#011train-error:0.23939\u001b[0m\n",
      "\u001b[34m[7]#011train-error:0.22903\u001b[0m\n",
      "\u001b[34m[8]#011train-error:0.22938\u001b[0m\n",
      "\u001b[34m[9]#011train-error:0.22938\u001b[0m\n",
      "\u001b[34m[10]#011train-error:0.21983\u001b[0m\n",
      "\u001b[34m[11]#011train-error:0.21914\u001b[0m\n",
      "\u001b[34m[12]#011train-error:0.21684\u001b[0m\n",
      "\u001b[34m[13]#011train-error:0.21489\u001b[0m\n",
      "\u001b[34m[14]#011train-error:0.21431\u001b[0m\n",
      "\u001b[34m[15]#011train-error:0.21247\u001b[0m\n",
      "\u001b[34m[16]#011train-error:0.20936\u001b[0m\n",
      "\u001b[34m[17]#011train-error:0.21028\u001b[0m\n",
      "\u001b[34m[18]#011train-error:0.21040\u001b[0m\n",
      "\u001b[34m[19]#011train-error:0.20741\u001b[0m\n",
      "\u001b[34m[20]#011train-error:0.20775\u001b[0m\n",
      "\u001b[34m[21]#011train-error:0.20672\u001b[0m\n",
      "\u001b[34m[22]#011train-error:0.20683\u001b[0m\n",
      "\u001b[34m[23]#011train-error:0.20718\u001b[0m\n",
      "\u001b[34m[24]#011train-error:0.20683\u001b[0m\n",
      "\u001b[34m[25]#011train-error:0.20660\u001b[0m\n",
      "\u001b[34m[26]#011train-error:0.20637\u001b[0m\n",
      "\u001b[34m[27]#011train-error:0.20465\u001b[0m\n",
      "\u001b[34m[28]#011train-error:0.20396\u001b[0m\n",
      "\u001b[34m[29]#011train-error:0.20476\u001b[0m\n",
      "\u001b[34m[30]#011train-error:0.20465\u001b[0m\n",
      "\u001b[34m[31]#011train-error:0.20350\u001b[0m\n",
      "\u001b[34m[32]#011train-error:0.20338\u001b[0m\n",
      "\u001b[34m[33]#011train-error:0.20338\u001b[0m\n",
      "\u001b[34m[34]#011train-error:0.20373\u001b[0m\n",
      "\u001b[34m[35]#011train-error:0.20419\u001b[0m\n",
      "\u001b[34m[36]#011train-error:0.20442\u001b[0m\n",
      "\u001b[34m[37]#011train-error:0.20407\u001b[0m\n",
      "\u001b[34m[38]#011train-error:0.20430\u001b[0m\n",
      "\u001b[34m[39]#011train-error:0.20442\u001b[0m\n",
      "\u001b[34m[40]#011train-error:0.20453\u001b[0m\n",
      "\u001b[34m[41]#011train-error:0.20465\u001b[0m\n",
      "\u001b[34m[42]#011train-error:0.20465\u001b[0m\n",
      "\u001b[34m[43]#011train-error:0.20327\u001b[0m\n",
      "\u001b[34m[44]#011train-error:0.20258\u001b[0m\n",
      "\u001b[34m[45]#011train-error:0.20246\u001b[0m\n",
      "\u001b[34m[46]#011train-error:0.20235\u001b[0m\n",
      "\u001b[34m[47]#011train-error:0.20200\u001b[0m\n",
      "\u001b[34m[48]#011train-error:0.20074\u001b[0m\n",
      "\u001b[34m[49]#011train-error:0.20189\u001b[0m\n",
      "\u001b[34m[50]#011train-error:0.20189\u001b[0m\n",
      "\u001b[34m[51]#011train-error:0.20143\u001b[0m\n",
      "\u001b[34m[52]#011train-error:0.20097\u001b[0m\n",
      "\u001b[34m[53]#011train-error:0.20189\u001b[0m\n",
      "\u001b[34m[54]#011train-error:0.20097\u001b[0m\n",
      "\u001b[34m[55]#011train-error:0.20166\u001b[0m\n",
      "\u001b[34m[56]#011train-error:0.20120\u001b[0m\n",
      "\u001b[34m[57]#011train-error:0.20120\u001b[0m\n",
      "\u001b[34m[58]#011train-error:0.20120\u001b[0m\n",
      "\u001b[34m[59]#011train-error:0.20039\u001b[0m\n",
      "\u001b[34m[60]#011train-error:0.20108\u001b[0m\n",
      "\u001b[34m[61]#011train-error:0.20108\u001b[0m\n",
      "\u001b[34m[62]#011train-error:0.20108\u001b[0m\n",
      "\u001b[34m[63]#011train-error:0.20016\u001b[0m\n",
      "\u001b[34m[64]#011train-error:0.20016\u001b[0m\n",
      "\u001b[34m[65]#011train-error:0.20016\u001b[0m\n",
      "\u001b[34m[66]#011train-error:0.20005\u001b[0m\n",
      "\u001b[34m[67]#011train-error:0.19993\u001b[0m\n",
      "\u001b[34m[68]#011train-error:0.20039\u001b[0m\n",
      "\u001b[34m[69]#011train-error:0.20039\u001b[0m\n",
      "\u001b[34m[70]#011train-error:0.20039\u001b[0m\n",
      "\u001b[34m[71]#011train-error:0.20039\u001b[0m\n",
      "\u001b[34m[72]#011train-error:0.20039\u001b[0m\n",
      "\u001b[34m[73]#011train-error:0.20039\u001b[0m\n",
      "\u001b[34m[74]#011train-error:0.20039\u001b[0m\n",
      "\u001b[34m[75]#011train-error:0.20039\u001b[0m\n",
      "\u001b[34m[76]#011train-error:0.20039\u001b[0m\n",
      "\u001b[34m[77]#011train-error:0.20039\u001b[0m\n",
      "\u001b[34m[78]#011train-error:0.20039\u001b[0m\n",
      "\u001b[34m[79]#011train-error:0.20039\u001b[0m\n",
      "\u001b[34m[80]#011train-error:0.20039\u001b[0m\n",
      "\u001b[34m[81]#011train-error:0.20039\u001b[0m\n",
      "\u001b[34m[82]#011train-error:0.20039\u001b[0m\n",
      "\u001b[34m[83]#011train-error:0.20039\u001b[0m\n",
      "\u001b[34m[84]#011train-error:0.20039\u001b[0m\n",
      "\u001b[34m[85]#011train-error:0.20039\u001b[0m\n",
      "\u001b[34m[86]#011train-error:0.20039\u001b[0m\n",
      "\u001b[34m[87]#011train-error:0.20039\u001b[0m\n",
      "\u001b[34m[88]#011train-error:0.20039\u001b[0m\n",
      "\u001b[34m[89]#011train-error:0.20039\u001b[0m\n",
      "\u001b[34m[90]#011train-error:0.20039\u001b[0m\n",
      "\u001b[34m[91]#011train-error:0.20039\u001b[0m\n",
      "\u001b[34m[92]#011train-error:0.20039\u001b[0m\n",
      "\u001b[34m[93]#011train-error:0.20039\u001b[0m\n",
      "\u001b[34m[94]#011train-error:0.20039\u001b[0m\n",
      "\u001b[34m[95]#011train-error:0.20039\u001b[0m\n",
      "\u001b[34m[96]#011train-error:0.20039\u001b[0m\n",
      "\u001b[34m[97]#011train-error:0.20039\u001b[0m\n",
      "\u001b[34m[98]#011train-error:0.20039\u001b[0m\n",
      "\u001b[34m[99]#011train-error:0.20039\u001b[0m\n",
      "Training seconds: 102\n",
      "Billable seconds: 102\n"
     ]
    }
   ],
   "source": [
    "estimate.fit({\"train\": input_train})"
   ]
  },
  {
   "cell_type": "code",
   "execution_count": 83,
   "id": "4076b195-8a10-4648-af4c-66091be19722",
   "metadata": {
    "tags": []
   },
   "outputs": [
    {
     "name": "stderr",
     "output_type": "stream",
     "text": [
      "INFO:sagemaker:Creating model with name: sagemaker-xgboost-2023-06-01-06-35-04-212\n",
      "INFO:sagemaker:Creating transform job with name: sagemaker-xgboost-2023-06-01-06-35-05-003\n"
     ]
    },
    {
     "name": "stdout",
     "output_type": "stream",
     "text": [
      "...............................\u001b[34m[2023-06-01:06:40:14:INFO] No GPUs detected (normal if no gpus installed)\u001b[0m\n",
      "\u001b[34m[2023-06-01:06:40:14:INFO] No GPUs detected (normal if no gpus installed)\u001b[0m\n",
      "\u001b[34m[2023-06-01:06:40:14:INFO] nginx config: \u001b[0m\n",
      "\u001b[35m[2023-06-01:06:40:14:INFO] No GPUs detected (normal if no gpus installed)\u001b[0m\n",
      "\u001b[35m[2023-06-01:06:40:14:INFO] No GPUs detected (normal if no gpus installed)\u001b[0m\n",
      "\u001b[35m[2023-06-01:06:40:14:INFO] nginx config: \u001b[0m\n",
      "\u001b[34mworker_processes auto;\u001b[0m\n",
      "\u001b[34mdaemon off;\u001b[0m\n",
      "\u001b[34mpid /tmp/nginx.pid;\u001b[0m\n",
      "\u001b[34merror_log  /dev/stderr;\u001b[0m\n",
      "\u001b[34mworker_rlimit_nofile 4096;\u001b[0m\n",
      "\u001b[34mevents {\n",
      "  worker_connections 2048;\u001b[0m\n",
      "\u001b[34m}\u001b[0m\n",
      "\u001b[34mhttp {\n",
      "  include /etc/nginx/mime.types;\n",
      "  default_type application/octet-stream;\n",
      "  access_log /dev/stdout combined;\n",
      "  upstream gunicorn {\n",
      "    server unix:/tmp/gunicorn.sock;\n",
      "  }\n",
      "  server {\n",
      "    listen 8080 deferred;\n",
      "    client_max_body_size 0;\n",
      "    keepalive_timeout 3;\n",
      "    location ~ ^/(ping|invocations|execution-parameters) {\n",
      "      proxy_set_header X-Forwarded-For $proxy_add_x_forwarded_for;\n",
      "      proxy_set_header Host $http_host;\n",
      "      proxy_redirect off;\n",
      "      proxy_read_timeout 60s;\n",
      "      proxy_pass http://gunicorn;\n",
      "    }\n",
      "    location / {\n",
      "      return 404 \"{}\";\n",
      "    }\n",
      "  }\u001b[0m\n",
      "\u001b[35mworker_processes auto;\u001b[0m\n",
      "\u001b[35mdaemon off;\u001b[0m\n",
      "\u001b[35mpid /tmp/nginx.pid;\u001b[0m\n",
      "\u001b[35merror_log  /dev/stderr;\u001b[0m\n",
      "\u001b[35mworker_rlimit_nofile 4096;\u001b[0m\n",
      "\u001b[35mevents {\n",
      "  worker_connections 2048;\u001b[0m\n",
      "\u001b[35m}\u001b[0m\n",
      "\u001b[35mhttp {\n",
      "  include /etc/nginx/mime.types;\n",
      "  default_type application/octet-stream;\n",
      "  access_log /dev/stdout combined;\n",
      "  upstream gunicorn {\n",
      "    server unix:/tmp/gunicorn.sock;\n",
      "  }\n",
      "  server {\n",
      "    listen 8080 deferred;\n",
      "    client_max_body_size 0;\n",
      "    keepalive_timeout 3;\n",
      "    location ~ ^/(ping|invocations|execution-parameters) {\n",
      "      proxy_set_header X-Forwarded-For $proxy_add_x_forwarded_for;\n",
      "      proxy_set_header Host $http_host;\n",
      "      proxy_redirect off;\n",
      "      proxy_read_timeout 60s;\n",
      "      proxy_pass http://gunicorn;\n",
      "    }\n",
      "    location / {\n",
      "      return 404 \"{}\";\n",
      "    }\n",
      "  }\u001b[0m\n",
      "\u001b[34m}\u001b[0m\n",
      "\u001b[34m[2023-06-01 06:40:15 +0000] [20] [INFO] Starting gunicorn 19.10.0\u001b[0m\n",
      "\u001b[34m[2023-06-01 06:40:15 +0000] [20] [INFO] Listening at: unix:/tmp/gunicorn.sock (20)\u001b[0m\n",
      "\u001b[34m[2023-06-01 06:40:15 +0000] [20] [INFO] Using worker: gevent\u001b[0m\n",
      "\u001b[34m/miniconda3/lib/python3.8/os.py:1023: RuntimeWarning: line buffering (buffering=1) isn't supported in binary mode, the default buffer size will be used\n",
      "  return io.open(fd, *args, **kwargs)\u001b[0m\n",
      "\u001b[34m[2023-06-01 06:40:15 +0000] [26] [INFO] Booting worker with pid: 26\u001b[0m\n",
      "\u001b[34m[2023-06-01 06:40:15 +0000] [27] [INFO] Booting worker with pid: 27\u001b[0m\n",
      "\u001b[34m[2023-06-01 06:40:15 +0000] [28] [INFO] Booting worker with pid: 28\u001b[0m\n",
      "\u001b[34m[2023-06-01 06:40:15 +0000] [29] [INFO] Booting worker with pid: 29\u001b[0m\n",
      "\u001b[35m}\u001b[0m\n",
      "\u001b[35m[2023-06-01 06:40:15 +0000] [20] [INFO] Starting gunicorn 19.10.0\u001b[0m\n",
      "\u001b[35m[2023-06-01 06:40:15 +0000] [20] [INFO] Listening at: unix:/tmp/gunicorn.sock (20)\u001b[0m\n",
      "\u001b[35m[2023-06-01 06:40:15 +0000] [20] [INFO] Using worker: gevent\u001b[0m\n",
      "\u001b[35m/miniconda3/lib/python3.8/os.py:1023: RuntimeWarning: line buffering (buffering=1) isn't supported in binary mode, the default buffer size will be used\n",
      "  return io.open(fd, *args, **kwargs)\u001b[0m\n",
      "\u001b[35m[2023-06-01 06:40:15 +0000] [26] [INFO] Booting worker with pid: 26\u001b[0m\n",
      "\u001b[35m[2023-06-01 06:40:15 +0000] [27] [INFO] Booting worker with pid: 27\u001b[0m\n",
      "\u001b[35m[2023-06-01 06:40:15 +0000] [28] [INFO] Booting worker with pid: 28\u001b[0m\n",
      "\u001b[35m[2023-06-01 06:40:15 +0000] [29] [INFO] Booting worker with pid: 29\u001b[0m\n",
      "\u001b[34m[2023-06-01:06:40:16:INFO] No GPUs detected (normal if no gpus installed)\u001b[0m\n",
      "\u001b[35m[2023-06-01:06:40:16:INFO] No GPUs detected (normal if no gpus installed)\u001b[0m\n",
      "\u001b[34m[2023-06-01:06:40:17:INFO] Loading the model from /opt/ml/model/xgboost-model\u001b[0m\n",
      "\u001b[34m[2023-06-01:06:40:17:INFO] Model objective : binary:logistic\u001b[0m\n",
      "\u001b[34m[2023-06-01:06:40:17:INFO] No GPUs detected (normal if no gpus installed)\u001b[0m\n",
      "\u001b[34m[2023-06-01:06:40:17:INFO] Loading the model from /opt/ml/model/xgboost-model\u001b[0m\n",
      "\u001b[34m[2023-06-01:06:40:17:INFO] Model objective : binary:logistic\u001b[0m\n",
      "\u001b[34m[2023-06-01:06:40:17:INFO] No GPUs detected (normal if no gpus installed)\u001b[0m\n",
      "\u001b[34m[2023-06-01:06:40:17:INFO] Loading the model from /opt/ml/model/xgboost-model\u001b[0m\n",
      "\u001b[34m[2023-06-01:06:40:17:INFO] Model objective : binary:logistic\u001b[0m\n",
      "\u001b[34m[2023-06-01:06:40:17:INFO] No GPUs detected (normal if no gpus installed)\u001b[0m\n",
      "\u001b[34m[2023-06-01:06:40:17:INFO] Loading the model from /opt/ml/model/xgboost-model\u001b[0m\n",
      "\u001b[34m[2023-06-01:06:40:17:INFO] Model objective : binary:logistic\u001b[0m\n",
      "\u001b[35m[2023-06-01:06:40:17:INFO] Loading the model from /opt/ml/model/xgboost-model\u001b[0m\n",
      "\u001b[35m[2023-06-01:06:40:17:INFO] Model objective : binary:logistic\u001b[0m\n",
      "\u001b[35m[2023-06-01:06:40:17:INFO] No GPUs detected (normal if no gpus installed)\u001b[0m\n",
      "\u001b[35m[2023-06-01:06:40:17:INFO] Loading the model from /opt/ml/model/xgboost-model\u001b[0m\n",
      "\u001b[35m[2023-06-01:06:40:17:INFO] Model objective : binary:logistic\u001b[0m\n",
      "\u001b[35m[2023-06-01:06:40:17:INFO] No GPUs detected (normal if no gpus installed)\u001b[0m\n",
      "\u001b[35m[2023-06-01:06:40:17:INFO] Loading the model from /opt/ml/model/xgboost-model\u001b[0m\n",
      "\u001b[35m[2023-06-01:06:40:17:INFO] Model objective : binary:logistic\u001b[0m\n",
      "\u001b[35m[2023-06-01:06:40:17:INFO] No GPUs detected (normal if no gpus installed)\u001b[0m\n",
      "\u001b[35m[2023-06-01:06:40:17:INFO] Loading the model from /opt/ml/model/xgboost-model\u001b[0m\n",
      "\u001b[35m[2023-06-01:06:40:17:INFO] Model objective : binary:logistic\u001b[0m\n",
      "\u001b[34m[2023-06-01:06:40:21:INFO] No GPUs detected (normal if no gpus installed)\u001b[0m\n",
      "\u001b[34m169.254.255.130 - - [01/Jun/2023:06:40:21 +0000] \"GET /ping HTTP/1.1\" 200 0 \"-\" \"Go-http-client/1.1\"\u001b[0m\n",
      "\u001b[34m[2023-06-01:06:40:21:INFO] No GPUs detected (normal if no gpus installed)\u001b[0m\n",
      "\u001b[34m169.254.255.130 - - [01/Jun/2023:06:40:21 +0000] \"GET /execution-parameters HTTP/1.1\" 200 84 \"-\" \"Go-http-client/1.1\"\u001b[0m\n",
      "\u001b[35m[2023-06-01:06:40:21:INFO] No GPUs detected (normal if no gpus installed)\u001b[0m\n",
      "\u001b[35m169.254.255.130 - - [01/Jun/2023:06:40:21 +0000] \"GET /ping HTTP/1.1\" 200 0 \"-\" \"Go-http-client/1.1\"\u001b[0m\n",
      "\u001b[35m[2023-06-01:06:40:21:INFO] No GPUs detected (normal if no gpus installed)\u001b[0m\n",
      "\u001b[35m169.254.255.130 - - [01/Jun/2023:06:40:21 +0000] \"GET /execution-parameters HTTP/1.1\" 200 84 \"-\" \"Go-http-client/1.1\"\u001b[0m\n",
      "\u001b[34m[2023-06-01:06:40:21:INFO] No GPUs detected (normal if no gpus installed)\u001b[0m\n",
      "\u001b[35m[2023-06-01:06:40:21:INFO] No GPUs detected (normal if no gpus installed)\u001b[0m\n",
      "\u001b[34m[2023-06-01:06:40:21:INFO] Determined delimiter of CSV input is ','\u001b[0m\n",
      "\u001b[34m/miniconda3/lib/python3.8/site-packages/xgboost/core.py:122: UserWarning: ntree_limit is deprecated, use `iteration_range` or model slicing instead.\n",
      "  warnings.warn(\u001b[0m\n",
      "\u001b[34m169.254.255.130 - - [01/Jun/2023:06:40:21 +0000] \"POST /invocations HTTP/1.1\" 200 82405 \"-\" \"Go-http-client/1.1\"\u001b[0m\n",
      "\u001b[35m[2023-06-01:06:40:21:INFO] Determined delimiter of CSV input is ','\u001b[0m\n",
      "\u001b[35m/miniconda3/lib/python3.8/site-packages/xgboost/core.py:122: UserWarning: ntree_limit is deprecated, use `iteration_range` or model slicing instead.\n",
      "  warnings.warn(\u001b[0m\n",
      "\u001b[35m169.254.255.130 - - [01/Jun/2023:06:40:21 +0000] \"POST /invocations HTTP/1.1\" 200 82405 \"-\" \"Go-http-client/1.1\"\u001b[0m\n",
      "\u001b[32m2023-06-01T06:40:21.079:[sagemaker logs]: MaxConcurrentTransforms=4, MaxPayloadInMB=6, BatchStrategy=MULTI_RECORD\u001b[0m\n",
      "\n",
      "\u001b[34m[2023-06-01:06:40:14:INFO] No GPUs detected (normal if no gpus installed)\u001b[0m\n",
      "\u001b[34m[2023-06-01:06:40:14:INFO] No GPUs detected (normal if no gpus installed)\u001b[0m\n",
      "\u001b[34m[2023-06-01:06:40:14:INFO] nginx config: \u001b[0m\n",
      "\u001b[35m[2023-06-01:06:40:14:INFO] No GPUs detected (normal if no gpus installed)\u001b[0m\n",
      "\u001b[35m[2023-06-01:06:40:14:INFO] No GPUs detected (normal if no gpus installed)\u001b[0m\n",
      "\u001b[35m[2023-06-01:06:40:14:INFO] nginx config: \u001b[0m\n",
      "\u001b[34mworker_processes auto;\u001b[0m\n",
      "\u001b[34mdaemon off;\u001b[0m\n",
      "\u001b[34mpid /tmp/nginx.pid;\u001b[0m\n",
      "\u001b[34merror_log  /dev/stderr;\u001b[0m\n",
      "\u001b[34mworker_rlimit_nofile 4096;\u001b[0m\n",
      "\u001b[34mevents {\n",
      "  worker_connections 2048;\u001b[0m\n",
      "\u001b[34m}\u001b[0m\n",
      "\u001b[34mhttp {\n",
      "  include /etc/nginx/mime.types;\n",
      "  default_type application/octet-stream;\n",
      "  access_log /dev/stdout combined;\n",
      "  upstream gunicorn {\n",
      "    server unix:/tmp/gunicorn.sock;\n",
      "  }\n",
      "  server {\n",
      "    listen 8080 deferred;\n",
      "    client_max_body_size 0;\n",
      "    keepalive_timeout 3;\n",
      "    location ~ ^/(ping|invocations|execution-parameters) {\n",
      "      proxy_set_header X-Forwarded-For $proxy_add_x_forwarded_for;\n",
      "      proxy_set_header Host $http_host;\n",
      "      proxy_redirect off;\n",
      "      proxy_read_timeout 60s;\n",
      "      proxy_pass http://gunicorn;\n",
      "    }\n",
      "    location / {\n",
      "      return 404 \"{}\";\n",
      "    }\n",
      "  }\u001b[0m\n",
      "\u001b[35mworker_processes auto;\u001b[0m\n",
      "\u001b[35mdaemon off;\u001b[0m\n",
      "\u001b[35mpid /tmp/nginx.pid;\u001b[0m\n",
      "\u001b[35merror_log  /dev/stderr;\u001b[0m\n",
      "\u001b[35mworker_rlimit_nofile 4096;\u001b[0m\n",
      "\u001b[35mevents {\n",
      "  worker_connections 2048;\u001b[0m\n",
      "\u001b[35m}\u001b[0m\n",
      "\u001b[35mhttp {\n",
      "  include /etc/nginx/mime.types;\n",
      "  default_type application/octet-stream;\n",
      "  access_log /dev/stdout combined;\n",
      "  upstream gunicorn {\n",
      "    server unix:/tmp/gunicorn.sock;\n",
      "  }\n",
      "  server {\n",
      "    listen 8080 deferred;\n",
      "    client_max_body_size 0;\n",
      "    keepalive_timeout 3;\n",
      "    location ~ ^/(ping|invocations|execution-parameters) {\n",
      "      proxy_set_header X-Forwarded-For $proxy_add_x_forwarded_for;\n",
      "      proxy_set_header Host $http_host;\n",
      "      proxy_redirect off;\n",
      "      proxy_read_timeout 60s;\n",
      "      proxy_pass http://gunicorn;\n",
      "    }\n",
      "    location / {\n",
      "      return 404 \"{}\";\n",
      "    }\n",
      "  }\u001b[0m\n",
      "\u001b[34m}\u001b[0m\n",
      "\u001b[34m[2023-06-01 06:40:15 +0000] [20] [INFO] Starting gunicorn 19.10.0\u001b[0m\n",
      "\u001b[34m[2023-06-01 06:40:15 +0000] [20] [INFO] Listening at: unix:/tmp/gunicorn.sock (20)\u001b[0m\n",
      "\u001b[34m[2023-06-01 06:40:15 +0000] [20] [INFO] Using worker: gevent\u001b[0m\n",
      "\u001b[34m/miniconda3/lib/python3.8/os.py:1023: RuntimeWarning: line buffering (buffering=1) isn't supported in binary mode, the default buffer size will be used\n",
      "  return io.open(fd, *args, **kwargs)\u001b[0m\n",
      "\u001b[34m[2023-06-01 06:40:15 +0000] [26] [INFO] Booting worker with pid: 26\u001b[0m\n",
      "\u001b[34m[2023-06-01 06:40:15 +0000] [27] [INFO] Booting worker with pid: 27\u001b[0m\n",
      "\u001b[34m[2023-06-01 06:40:15 +0000] [28] [INFO] Booting worker with pid: 28\u001b[0m\n",
      "\u001b[34m[2023-06-01 06:40:15 +0000] [29] [INFO] Booting worker with pid: 29\u001b[0m\n",
      "\u001b[35m}\u001b[0m\n",
      "\u001b[35m[2023-06-01 06:40:15 +0000] [20] [INFO] Starting gunicorn 19.10.0\u001b[0m\n",
      "\u001b[35m[2023-06-01 06:40:15 +0000] [20] [INFO] Listening at: unix:/tmp/gunicorn.sock (20)\u001b[0m\n",
      "\u001b[35m[2023-06-01 06:40:15 +0000] [20] [INFO] Using worker: gevent\u001b[0m\n",
      "\u001b[35m/miniconda3/lib/python3.8/os.py:1023: RuntimeWarning: line buffering (buffering=1) isn't supported in binary mode, the default buffer size will be used\n",
      "  return io.open(fd, *args, **kwargs)\u001b[0m\n",
      "\u001b[35m[2023-06-01 06:40:15 +0000] [26] [INFO] Booting worker with pid: 26\u001b[0m\n",
      "\u001b[35m[2023-06-01 06:40:15 +0000] [27] [INFO] Booting worker with pid: 27\u001b[0m\n",
      "\u001b[35m[2023-06-01 06:40:15 +0000] [28] [INFO] Booting worker with pid: 28\u001b[0m\n",
      "\u001b[35m[2023-06-01 06:40:15 +0000] [29] [INFO] Booting worker with pid: 29\u001b[0m\n",
      "\u001b[34m[2023-06-01:06:40:16:INFO] No GPUs detected (normal if no gpus installed)\u001b[0m\n",
      "\u001b[35m[2023-06-01:06:40:16:INFO] No GPUs detected (normal if no gpus installed)\u001b[0m\n",
      "\u001b[34m[2023-06-01:06:40:17:INFO] Loading the model from /opt/ml/model/xgboost-model\u001b[0m\n",
      "\u001b[34m[2023-06-01:06:40:17:INFO] Model objective : binary:logistic\u001b[0m\n",
      "\u001b[34m[2023-06-01:06:40:17:INFO] No GPUs detected (normal if no gpus installed)\u001b[0m\n",
      "\u001b[34m[2023-06-01:06:40:17:INFO] Loading the model from /opt/ml/model/xgboost-model\u001b[0m\n",
      "\u001b[34m[2023-06-01:06:40:17:INFO] Model objective : binary:logistic\u001b[0m\n",
      "\u001b[34m[2023-06-01:06:40:17:INFO] No GPUs detected (normal if no gpus installed)\u001b[0m\n",
      "\u001b[34m[2023-06-01:06:40:17:INFO] Loading the model from /opt/ml/model/xgboost-model\u001b[0m\n",
      "\u001b[34m[2023-06-01:06:40:17:INFO] Model objective : binary:logistic\u001b[0m\n",
      "\u001b[34m[2023-06-01:06:40:17:INFO] No GPUs detected (normal if no gpus installed)\u001b[0m\n",
      "\u001b[34m[2023-06-01:06:40:17:INFO] Loading the model from /opt/ml/model/xgboost-model\u001b[0m\n",
      "\u001b[34m[2023-06-01:06:40:17:INFO] Model objective : binary:logistic\u001b[0m\n",
      "\u001b[35m[2023-06-01:06:40:17:INFO] Loading the model from /opt/ml/model/xgboost-model\u001b[0m\n",
      "\u001b[35m[2023-06-01:06:40:17:INFO] Model objective : binary:logistic\u001b[0m\n",
      "\u001b[35m[2023-06-01:06:40:17:INFO] No GPUs detected (normal if no gpus installed)\u001b[0m\n",
      "\u001b[35m[2023-06-01:06:40:17:INFO] Loading the model from /opt/ml/model/xgboost-model\u001b[0m\n",
      "\u001b[35m[2023-06-01:06:40:17:INFO] Model objective : binary:logistic\u001b[0m\n",
      "\u001b[35m[2023-06-01:06:40:17:INFO] No GPUs detected (normal if no gpus installed)\u001b[0m\n",
      "\u001b[35m[2023-06-01:06:40:17:INFO] Loading the model from /opt/ml/model/xgboost-model\u001b[0m\n",
      "\u001b[35m[2023-06-01:06:40:17:INFO] Model objective : binary:logistic\u001b[0m\n",
      "\u001b[35m[2023-06-01:06:40:17:INFO] No GPUs detected (normal if no gpus installed)\u001b[0m\n",
      "\u001b[35m[2023-06-01:06:40:17:INFO] Loading the model from /opt/ml/model/xgboost-model\u001b[0m\n",
      "\u001b[35m[2023-06-01:06:40:17:INFO] Model objective : binary:logistic\u001b[0m\n",
      "\u001b[34m[2023-06-01:06:40:21:INFO] No GPUs detected (normal if no gpus installed)\u001b[0m\n",
      "\u001b[34m169.254.255.130 - - [01/Jun/2023:06:40:21 +0000] \"GET /ping HTTP/1.1\" 200 0 \"-\" \"Go-http-client/1.1\"\u001b[0m\n",
      "\u001b[34m[2023-06-01:06:40:21:INFO] No GPUs detected (normal if no gpus installed)\u001b[0m\n",
      "\u001b[34m169.254.255.130 - - [01/Jun/2023:06:40:21 +0000] \"GET /execution-parameters HTTP/1.1\" 200 84 \"-\" \"Go-http-client/1.1\"\u001b[0m\n",
      "\u001b[35m[2023-06-01:06:40:21:INFO] No GPUs detected (normal if no gpus installed)\u001b[0m\n",
      "\u001b[35m169.254.255.130 - - [01/Jun/2023:06:40:21 +0000] \"GET /ping HTTP/1.1\" 200 0 \"-\" \"Go-http-client/1.1\"\u001b[0m\n",
      "\u001b[35m[2023-06-01:06:40:21:INFO] No GPUs detected (normal if no gpus installed)\u001b[0m\n",
      "\u001b[35m169.254.255.130 - - [01/Jun/2023:06:40:21 +0000] \"GET /execution-parameters HTTP/1.1\" 200 84 \"-\" \"Go-http-client/1.1\"\u001b[0m\n",
      "\u001b[32m2023-06-01T06:40:21.079:[sagemaker logs]: MaxConcurrentTransforms=4, MaxPayloadInMB=6, BatchStrategy=MULTI_RECORD\u001b[0m\n",
      "\u001b[34m[2023-06-01:06:40:21:INFO] No GPUs detected (normal if no gpus installed)\u001b[0m\n",
      "\u001b[35m[2023-06-01:06:40:21:INFO] No GPUs detected (normal if no gpus installed)\u001b[0m\n",
      "\u001b[34m[2023-06-01:06:40:21:INFO] Determined delimiter of CSV input is ','\u001b[0m\n",
      "\u001b[34m/miniconda3/lib/python3.8/site-packages/xgboost/core.py:122: UserWarning: ntree_limit is deprecated, use `iteration_range` or model slicing instead.\n",
      "  warnings.warn(\u001b[0m\n",
      "\u001b[34m169.254.255.130 - - [01/Jun/2023:06:40:21 +0000] \"POST /invocations HTTP/1.1\" 200 82405 \"-\" \"Go-http-client/1.1\"\u001b[0m\n",
      "\u001b[35m[2023-06-01:06:40:21:INFO] Determined delimiter of CSV input is ','\u001b[0m\n",
      "\u001b[35m/miniconda3/lib/python3.8/site-packages/xgboost/core.py:122: UserWarning: ntree_limit is deprecated, use `iteration_range` or model slicing instead.\n",
      "  warnings.warn(\u001b[0m\n",
      "\u001b[35m169.254.255.130 - - [01/Jun/2023:06:40:21 +0000] \"POST /invocations HTTP/1.1\" 200 82405 \"-\" \"Go-http-client/1.1\"\u001b[0m\n"
     ]
    }
   ],
   "source": [
    "batch_input = f's3://{bucket}/{prefix}/test/{test_file}'\n",
    "batch_output = f's3://{bucket}/{prefix}/batch-inference'\n",
    "\n",
    "\n",
    "transformer = estimate.transformer(\n",
    "    instance_count=1,\n",
    "    instance_type=\"ml.m4.xlarge\",\n",
    "    strategy=\"MultiRecord\",\n",
    "    assemble_with=\"Line\",\n",
    "    accept=\"text/csv\",\n",
    "    output_path=batch_output\n",
    ")\n",
    "\n",
    "transformer.transform(batch_input, content_type=\"text/csv\", split_type=\"Line\")\n",
    "transformer.wait()"
   ]
  },
  {
   "cell_type": "code",
   "execution_count": 84,
   "id": "071004a1-2d6f-4ca5-a71a-3214e542489e",
   "metadata": {},
   "outputs": [
    {
     "name": "stdout",
     "output_type": "stream",
     "text": [
      "download: s3://test-sagemaker-examples-1357942113492/DEMO_Spaceship/batch-inference/test_modified.csv.out to ./test_modified.csv.out\n"
     ]
    }
   ],
   "source": [
    "!aws s3 cp --recursive $transformer.output_path ./"
   ]
  },
  {
   "cell_type": "code",
   "execution_count": 85,
   "id": "ac3799b3-9e6f-42e6-a093-df47cca90dca",
   "metadata": {
    "tags": []
   },
   "outputs": [
    {
     "name": "stdout",
     "output_type": "stream",
     "text": [
      "     PassengerId  Transported\n",
      "0        0013_01         True\n",
      "1        0018_01        False\n",
      "2        0019_01         True\n",
      "3        0021_01         True\n",
      "4        0023_01         True\n",
      "...          ...          ...\n",
      "4272     9266_02         True\n",
      "4273     9269_01        False\n",
      "4274     9271_01         True\n",
      "4275     9273_01         True\n",
      "4276     9277_01         True\n",
      "\n",
      "[4277 rows x 2 columns]\n"
     ]
    }
   ],
   "source": [
    "predictions = pd.read_csv(\"test_modified.csv.out\", header=None)\n",
    "\n",
    "# test_pass.drop([\"Survived\"], axis=0, inplace=True)\n",
    "# test_pass[\"Survived\"] = [round(float(value)) for value in predictions.values]\n",
    "\n",
    "predictions = pd.DataFrame([bool(round(float(x))) for x in predictions.values])\n",
    "predictions.columns = [\"Transported\"]\n",
    "\n",
    "result = pd.concat([test_pass, predictions], axis=1)\n",
    "\n",
    "# result.drop(result.columns[0], axis=1, inplace=True)\n",
    "\n",
    "print(result)\n",
    "\n",
    "result.to_csv(\"results.csv\", index=False)"
   ]
  }
 ],
 "metadata": {
  "availableInstances": [
   {
    "_defaultOrder": 0,
    "_isFastLaunch": true,
    "category": "General purpose",
    "gpuNum": 0,
    "hideHardwareSpecs": false,
    "memoryGiB": 4,
    "name": "ml.t3.medium",
    "vcpuNum": 2
   },
   {
    "_defaultOrder": 1,
    "_isFastLaunch": false,
    "category": "General purpose",
    "gpuNum": 0,
    "hideHardwareSpecs": false,
    "memoryGiB": 8,
    "name": "ml.t3.large",
    "vcpuNum": 2
   },
   {
    "_defaultOrder": 2,
    "_isFastLaunch": false,
    "category": "General purpose",
    "gpuNum": 0,
    "hideHardwareSpecs": false,
    "memoryGiB": 16,
    "name": "ml.t3.xlarge",
    "vcpuNum": 4
   },
   {
    "_defaultOrder": 3,
    "_isFastLaunch": false,
    "category": "General purpose",
    "gpuNum": 0,
    "hideHardwareSpecs": false,
    "memoryGiB": 32,
    "name": "ml.t3.2xlarge",
    "vcpuNum": 8
   },
   {
    "_defaultOrder": 4,
    "_isFastLaunch": true,
    "category": "General purpose",
    "gpuNum": 0,
    "hideHardwareSpecs": false,
    "memoryGiB": 8,
    "name": "ml.m5.large",
    "vcpuNum": 2
   },
   {
    "_defaultOrder": 5,
    "_isFastLaunch": false,
    "category": "General purpose",
    "gpuNum": 0,
    "hideHardwareSpecs": false,
    "memoryGiB": 16,
    "name": "ml.m5.xlarge",
    "vcpuNum": 4
   },
   {
    "_defaultOrder": 6,
    "_isFastLaunch": false,
    "category": "General purpose",
    "gpuNum": 0,
    "hideHardwareSpecs": false,
    "memoryGiB": 32,
    "name": "ml.m5.2xlarge",
    "vcpuNum": 8
   },
   {
    "_defaultOrder": 7,
    "_isFastLaunch": false,
    "category": "General purpose",
    "gpuNum": 0,
    "hideHardwareSpecs": false,
    "memoryGiB": 64,
    "name": "ml.m5.4xlarge",
    "vcpuNum": 16
   },
   {
    "_defaultOrder": 8,
    "_isFastLaunch": false,
    "category": "General purpose",
    "gpuNum": 0,
    "hideHardwareSpecs": false,
    "memoryGiB": 128,
    "name": "ml.m5.8xlarge",
    "vcpuNum": 32
   },
   {
    "_defaultOrder": 9,
    "_isFastLaunch": false,
    "category": "General purpose",
    "gpuNum": 0,
    "hideHardwareSpecs": false,
    "memoryGiB": 192,
    "name": "ml.m5.12xlarge",
    "vcpuNum": 48
   },
   {
    "_defaultOrder": 10,
    "_isFastLaunch": false,
    "category": "General purpose",
    "gpuNum": 0,
    "hideHardwareSpecs": false,
    "memoryGiB": 256,
    "name": "ml.m5.16xlarge",
    "vcpuNum": 64
   },
   {
    "_defaultOrder": 11,
    "_isFastLaunch": false,
    "category": "General purpose",
    "gpuNum": 0,
    "hideHardwareSpecs": false,
    "memoryGiB": 384,
    "name": "ml.m5.24xlarge",
    "vcpuNum": 96
   },
   {
    "_defaultOrder": 12,
    "_isFastLaunch": false,
    "category": "General purpose",
    "gpuNum": 0,
    "hideHardwareSpecs": false,
    "memoryGiB": 8,
    "name": "ml.m5d.large",
    "vcpuNum": 2
   },
   {
    "_defaultOrder": 13,
    "_isFastLaunch": false,
    "category": "General purpose",
    "gpuNum": 0,
    "hideHardwareSpecs": false,
    "memoryGiB": 16,
    "name": "ml.m5d.xlarge",
    "vcpuNum": 4
   },
   {
    "_defaultOrder": 14,
    "_isFastLaunch": false,
    "category": "General purpose",
    "gpuNum": 0,
    "hideHardwareSpecs": false,
    "memoryGiB": 32,
    "name": "ml.m5d.2xlarge",
    "vcpuNum": 8
   },
   {
    "_defaultOrder": 15,
    "_isFastLaunch": false,
    "category": "General purpose",
    "gpuNum": 0,
    "hideHardwareSpecs": false,
    "memoryGiB": 64,
    "name": "ml.m5d.4xlarge",
    "vcpuNum": 16
   },
   {
    "_defaultOrder": 16,
    "_isFastLaunch": false,
    "category": "General purpose",
    "gpuNum": 0,
    "hideHardwareSpecs": false,
    "memoryGiB": 128,
    "name": "ml.m5d.8xlarge",
    "vcpuNum": 32
   },
   {
    "_defaultOrder": 17,
    "_isFastLaunch": false,
    "category": "General purpose",
    "gpuNum": 0,
    "hideHardwareSpecs": false,
    "memoryGiB": 192,
    "name": "ml.m5d.12xlarge",
    "vcpuNum": 48
   },
   {
    "_defaultOrder": 18,
    "_isFastLaunch": false,
    "category": "General purpose",
    "gpuNum": 0,
    "hideHardwareSpecs": false,
    "memoryGiB": 256,
    "name": "ml.m5d.16xlarge",
    "vcpuNum": 64
   },
   {
    "_defaultOrder": 19,
    "_isFastLaunch": false,
    "category": "General purpose",
    "gpuNum": 0,
    "hideHardwareSpecs": false,
    "memoryGiB": 384,
    "name": "ml.m5d.24xlarge",
    "vcpuNum": 96
   },
   {
    "_defaultOrder": 20,
    "_isFastLaunch": false,
    "category": "General purpose",
    "gpuNum": 0,
    "hideHardwareSpecs": true,
    "memoryGiB": 0,
    "name": "ml.geospatial.interactive",
    "supportedImageNames": [
     "sagemaker-geospatial-v1-0"
    ],
    "vcpuNum": 0
   },
   {
    "_defaultOrder": 21,
    "_isFastLaunch": true,
    "category": "Compute optimized",
    "gpuNum": 0,
    "hideHardwareSpecs": false,
    "memoryGiB": 4,
    "name": "ml.c5.large",
    "vcpuNum": 2
   },
   {
    "_defaultOrder": 22,
    "_isFastLaunch": false,
    "category": "Compute optimized",
    "gpuNum": 0,
    "hideHardwareSpecs": false,
    "memoryGiB": 8,
    "name": "ml.c5.xlarge",
    "vcpuNum": 4
   },
   {
    "_defaultOrder": 23,
    "_isFastLaunch": false,
    "category": "Compute optimized",
    "gpuNum": 0,
    "hideHardwareSpecs": false,
    "memoryGiB": 16,
    "name": "ml.c5.2xlarge",
    "vcpuNum": 8
   },
   {
    "_defaultOrder": 24,
    "_isFastLaunch": false,
    "category": "Compute optimized",
    "gpuNum": 0,
    "hideHardwareSpecs": false,
    "memoryGiB": 32,
    "name": "ml.c5.4xlarge",
    "vcpuNum": 16
   },
   {
    "_defaultOrder": 25,
    "_isFastLaunch": false,
    "category": "Compute optimized",
    "gpuNum": 0,
    "hideHardwareSpecs": false,
    "memoryGiB": 72,
    "name": "ml.c5.9xlarge",
    "vcpuNum": 36
   },
   {
    "_defaultOrder": 26,
    "_isFastLaunch": false,
    "category": "Compute optimized",
    "gpuNum": 0,
    "hideHardwareSpecs": false,
    "memoryGiB": 96,
    "name": "ml.c5.12xlarge",
    "vcpuNum": 48
   },
   {
    "_defaultOrder": 27,
    "_isFastLaunch": false,
    "category": "Compute optimized",
    "gpuNum": 0,
    "hideHardwareSpecs": false,
    "memoryGiB": 144,
    "name": "ml.c5.18xlarge",
    "vcpuNum": 72
   },
   {
    "_defaultOrder": 28,
    "_isFastLaunch": false,
    "category": "Compute optimized",
    "gpuNum": 0,
    "hideHardwareSpecs": false,
    "memoryGiB": 192,
    "name": "ml.c5.24xlarge",
    "vcpuNum": 96
   },
   {
    "_defaultOrder": 29,
    "_isFastLaunch": true,
    "category": "Accelerated computing",
    "gpuNum": 1,
    "hideHardwareSpecs": false,
    "memoryGiB": 16,
    "name": "ml.g4dn.xlarge",
    "vcpuNum": 4
   },
   {
    "_defaultOrder": 30,
    "_isFastLaunch": false,
    "category": "Accelerated computing",
    "gpuNum": 1,
    "hideHardwareSpecs": false,
    "memoryGiB": 32,
    "name": "ml.g4dn.2xlarge",
    "vcpuNum": 8
   },
   {
    "_defaultOrder": 31,
    "_isFastLaunch": false,
    "category": "Accelerated computing",
    "gpuNum": 1,
    "hideHardwareSpecs": false,
    "memoryGiB": 64,
    "name": "ml.g4dn.4xlarge",
    "vcpuNum": 16
   },
   {
    "_defaultOrder": 32,
    "_isFastLaunch": false,
    "category": "Accelerated computing",
    "gpuNum": 1,
    "hideHardwareSpecs": false,
    "memoryGiB": 128,
    "name": "ml.g4dn.8xlarge",
    "vcpuNum": 32
   },
   {
    "_defaultOrder": 33,
    "_isFastLaunch": false,
    "category": "Accelerated computing",
    "gpuNum": 4,
    "hideHardwareSpecs": false,
    "memoryGiB": 192,
    "name": "ml.g4dn.12xlarge",
    "vcpuNum": 48
   },
   {
    "_defaultOrder": 34,
    "_isFastLaunch": false,
    "category": "Accelerated computing",
    "gpuNum": 1,
    "hideHardwareSpecs": false,
    "memoryGiB": 256,
    "name": "ml.g4dn.16xlarge",
    "vcpuNum": 64
   },
   {
    "_defaultOrder": 35,
    "_isFastLaunch": false,
    "category": "Accelerated computing",
    "gpuNum": 1,
    "hideHardwareSpecs": false,
    "memoryGiB": 61,
    "name": "ml.p3.2xlarge",
    "vcpuNum": 8
   },
   {
    "_defaultOrder": 36,
    "_isFastLaunch": false,
    "category": "Accelerated computing",
    "gpuNum": 4,
    "hideHardwareSpecs": false,
    "memoryGiB": 244,
    "name": "ml.p3.8xlarge",
    "vcpuNum": 32
   },
   {
    "_defaultOrder": 37,
    "_isFastLaunch": false,
    "category": "Accelerated computing",
    "gpuNum": 8,
    "hideHardwareSpecs": false,
    "memoryGiB": 488,
    "name": "ml.p3.16xlarge",
    "vcpuNum": 64
   },
   {
    "_defaultOrder": 38,
    "_isFastLaunch": false,
    "category": "Accelerated computing",
    "gpuNum": 8,
    "hideHardwareSpecs": false,
    "memoryGiB": 768,
    "name": "ml.p3dn.24xlarge",
    "vcpuNum": 96
   },
   {
    "_defaultOrder": 39,
    "_isFastLaunch": false,
    "category": "Memory Optimized",
    "gpuNum": 0,
    "hideHardwareSpecs": false,
    "memoryGiB": 16,
    "name": "ml.r5.large",
    "vcpuNum": 2
   },
   {
    "_defaultOrder": 40,
    "_isFastLaunch": false,
    "category": "Memory Optimized",
    "gpuNum": 0,
    "hideHardwareSpecs": false,
    "memoryGiB": 32,
    "name": "ml.r5.xlarge",
    "vcpuNum": 4
   },
   {
    "_defaultOrder": 41,
    "_isFastLaunch": false,
    "category": "Memory Optimized",
    "gpuNum": 0,
    "hideHardwareSpecs": false,
    "memoryGiB": 64,
    "name": "ml.r5.2xlarge",
    "vcpuNum": 8
   },
   {
    "_defaultOrder": 42,
    "_isFastLaunch": false,
    "category": "Memory Optimized",
    "gpuNum": 0,
    "hideHardwareSpecs": false,
    "memoryGiB": 128,
    "name": "ml.r5.4xlarge",
    "vcpuNum": 16
   },
   {
    "_defaultOrder": 43,
    "_isFastLaunch": false,
    "category": "Memory Optimized",
    "gpuNum": 0,
    "hideHardwareSpecs": false,
    "memoryGiB": 256,
    "name": "ml.r5.8xlarge",
    "vcpuNum": 32
   },
   {
    "_defaultOrder": 44,
    "_isFastLaunch": false,
    "category": "Memory Optimized",
    "gpuNum": 0,
    "hideHardwareSpecs": false,
    "memoryGiB": 384,
    "name": "ml.r5.12xlarge",
    "vcpuNum": 48
   },
   {
    "_defaultOrder": 45,
    "_isFastLaunch": false,
    "category": "Memory Optimized",
    "gpuNum": 0,
    "hideHardwareSpecs": false,
    "memoryGiB": 512,
    "name": "ml.r5.16xlarge",
    "vcpuNum": 64
   },
   {
    "_defaultOrder": 46,
    "_isFastLaunch": false,
    "category": "Memory Optimized",
    "gpuNum": 0,
    "hideHardwareSpecs": false,
    "memoryGiB": 768,
    "name": "ml.r5.24xlarge",
    "vcpuNum": 96
   },
   {
    "_defaultOrder": 47,
    "_isFastLaunch": false,
    "category": "Accelerated computing",
    "gpuNum": 1,
    "hideHardwareSpecs": false,
    "memoryGiB": 16,
    "name": "ml.g5.xlarge",
    "vcpuNum": 4
   },
   {
    "_defaultOrder": 48,
    "_isFastLaunch": false,
    "category": "Accelerated computing",
    "gpuNum": 1,
    "hideHardwareSpecs": false,
    "memoryGiB": 32,
    "name": "ml.g5.2xlarge",
    "vcpuNum": 8
   },
   {
    "_defaultOrder": 49,
    "_isFastLaunch": false,
    "category": "Accelerated computing",
    "gpuNum": 1,
    "hideHardwareSpecs": false,
    "memoryGiB": 64,
    "name": "ml.g5.4xlarge",
    "vcpuNum": 16
   },
   {
    "_defaultOrder": 50,
    "_isFastLaunch": false,
    "category": "Accelerated computing",
    "gpuNum": 1,
    "hideHardwareSpecs": false,
    "memoryGiB": 128,
    "name": "ml.g5.8xlarge",
    "vcpuNum": 32
   },
   {
    "_defaultOrder": 51,
    "_isFastLaunch": false,
    "category": "Accelerated computing",
    "gpuNum": 1,
    "hideHardwareSpecs": false,
    "memoryGiB": 256,
    "name": "ml.g5.16xlarge",
    "vcpuNum": 64
   },
   {
    "_defaultOrder": 52,
    "_isFastLaunch": false,
    "category": "Accelerated computing",
    "gpuNum": 4,
    "hideHardwareSpecs": false,
    "memoryGiB": 192,
    "name": "ml.g5.12xlarge",
    "vcpuNum": 48
   },
   {
    "_defaultOrder": 53,
    "_isFastLaunch": false,
    "category": "Accelerated computing",
    "gpuNum": 4,
    "hideHardwareSpecs": false,
    "memoryGiB": 384,
    "name": "ml.g5.24xlarge",
    "vcpuNum": 96
   },
   {
    "_defaultOrder": 54,
    "_isFastLaunch": false,
    "category": "Accelerated computing",
    "gpuNum": 8,
    "hideHardwareSpecs": false,
    "memoryGiB": 768,
    "name": "ml.g5.48xlarge",
    "vcpuNum": 192
   },
   {
    "_defaultOrder": 55,
    "_isFastLaunch": false,
    "category": "Accelerated computing",
    "gpuNum": 8,
    "hideHardwareSpecs": false,
    "memoryGiB": 1152,
    "name": "ml.p4d.24xlarge",
    "vcpuNum": 96
   },
   {
    "_defaultOrder": 56,
    "_isFastLaunch": false,
    "category": "Accelerated computing",
    "gpuNum": 8,
    "hideHardwareSpecs": false,
    "memoryGiB": 1152,
    "name": "ml.p4de.24xlarge",
    "vcpuNum": 96
   }
  ],
  "instance_type": "ml.t3.medium",
  "kernelspec": {
   "display_name": "Python 3 (Data Science)",
   "language": "python",
   "name": "python3__SAGEMAKER_INTERNAL__arn:aws:sagemaker:eu-west-1:470317259841:image/datascience-1.0"
  },
  "language_info": {
   "codemirror_mode": {
    "name": "ipython",
    "version": 3
   },
   "file_extension": ".py",
   "mimetype": "text/x-python",
   "name": "python",
   "nbconvert_exporter": "python",
   "pygments_lexer": "ipython3",
   "version": "3.7.10"
  }
 },
 "nbformat": 4,
 "nbformat_minor": 5
}
