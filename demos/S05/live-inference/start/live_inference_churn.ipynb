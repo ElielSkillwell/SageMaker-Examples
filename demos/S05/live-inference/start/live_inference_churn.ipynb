{
 "cells": [
  {
   "cell_type": "markdown",
   "metadata": {},
   "source": [
    "# Hosting a Live Endpoint for Real-Time Inference with SageMaker for Customer Churn\n",
    "\n",
    "## Environment Setup\n",
    "\n",
    "- Image: Data Science\n",
    "- Kernel: Python 3\n",
    "- Instance type: ml.t3.medium\n",
    "\n",
    "## Background\n",
    "\n",
    "This notebook builds on previous notebooks where we trained a model to predicts customer churn (i.e., when a company loses a customer).  In this iteration of the notebook, we deploy our trained model to a live endpoint then pass in test data to see how well the model performs predictions.\n",
    "\n",
    "To keep things simple, Experiments have been removed from this version of the notebook.\n",
    "\n",
    "This notebook has been adapted from the [SageMaker examples](https://github.com/aws/amazon-sagemaker-examples/blob/main/introduction_to_applying_machine_learning/xgboost_customer_churn/xgboost_customer_churn.ipynb)."
   ]
  },
  {
   "cell_type": "markdown",
   "metadata": {
    "tags": []
   },
   "source": [
    "## Initialize Environment and Variables"
   ]
  },
  {
   "cell_type": "code",
   "execution_count": 4,
   "metadata": {
    "isConfigCell": true,
    "tags": [
     "parameters"
    ]
   },
   "outputs": [],
   "source": [
    "# Import libraries\n",
    "import boto3\n",
    "import re\n",
    "import pandas as pd\n",
    "import numpy as np\n",
    "import os\n",
    "import time\n",
    "import io\n",
    "\n",
    "import sagemaker\n",
    "from sagemaker import get_execution_role\n",
    "from sagemaker.predictor import CSVSerializer\n",
    "from sagemaker.inputs import TrainingInput\n",
    "\n",
    "# Get the SageMaker session and the execution role from the SageMaker domain\n",
    "sess = sagemaker.Session()\n",
    "role = get_execution_role()\n",
    "\n",
    "bucket = 'test-sagemaker-examples-1357942113492' # Update with the name of a bucket that is already created in S3\n",
    "prefix = 'live-inference-demo' # The name of the folder that will be created in the S3 bucket"
   ]
  },
  {
   "cell_type": "markdown",
   "metadata": {},
   "source": [
    "## Data\n",
    "\n",
    "For this lesson, data has already been cleaned and split into two local CSV files: **train.csv** (used to train the model) and **validation.csv** (used to validate how well the model does).\n",
    "\n",
    "We'll take these local files and upload them to S3 so SageMaker can use them."
   ]
  },
  {
   "cell_type": "code",
   "execution_count": 5,
   "metadata": {
    "tags": []
   },
   "outputs": [],
   "source": [
    "boto3.Session().resource('s3').Bucket(bucket).Object(os.path.join(prefix, 'train/train.csv')).upload_file('train.csv')\n",
    "boto3.Session().resource('s3').Bucket(bucket).Object(os.path.join(prefix, 'validation/validation.csv')).upload_file('validation.csv')"
   ]
  },
  {
   "cell_type": "markdown",
   "metadata": {},
   "source": [
    "## Train\n",
    "\n",
    "We trained the model in previous lessons, but to make it easier to follow along with this notebook, we'll do that again here.\n",
    "\n",
    "In this section, we need to specify three things: where our training data is, the path to the algorithm container stored in the Elastic Container Registry, and the algorithm to use (along with hyperparameters).\n",
    "\n",
    "The training job (the Estimator) takes in several hyperparameters.  More information on the hyperparameters for the XGBoost algorithm can be found [here](https://docs.aws.amazon.com/sagemaker/latest/dg/xgboost_hyperparameters.html)."
   ]
  },
  {
   "cell_type": "code",
   "execution_count": 6,
   "metadata": {
    "tags": []
   },
   "outputs": [],
   "source": [
    "# The location of our training and validation data in S3\n",
    "s3_input_train = TrainingInput(\n",
    "    s3_data='s3://{}/{}/train'.format(bucket, prefix), content_type='csv'\n",
    ")\n",
    "s3_input_validation = TrainingInput(\n",
    "    s3_data='s3://{}/{}/validation/'.format(bucket, prefix), content_type='csv'\n",
    ")"
   ]
  },
  {
   "cell_type": "code",
   "execution_count": 7,
   "metadata": {
    "tags": []
   },
   "outputs": [],
   "source": [
    "# The location of the XGBoost container version 1.5-1 (an AWS-managed container)\n",
    "container = sagemaker.image_uris.retrieve('xgboost', sess.boto_region_name, '1.5-1')"
   ]
  },
  {
   "cell_type": "code",
   "execution_count": 8,
   "metadata": {
    "tags": []
   },
   "outputs": [],
   "source": [
    "# Initialize hyperparameters\n",
    "hyperparameters = {\n",
    "                    'max_depth':'5',\n",
    "                    'eta':'0.2',\n",
    "                    'gamma':'4',\n",
    "                    'min_child_weight':'6',\n",
    "                    'subsample':'0.8',\n",
    "                    'objective':'binary:logistic',\n",
    "                    'eval_metric':'error',\n",
    "                    'num_round':'100'}\n",
    "\n",
    "# Output path where the trained model will be saved\n",
    "output_path = 's3://{}/{}/output'.format(bucket, prefix)\n",
    "\n",
    "# Set up the Estimator, which is training job\n",
    "xgb = sagemaker.estimator.Estimator(image_uri=container, \n",
    "                                    hyperparameters=hyperparameters,\n",
    "                                    role=role,\n",
    "                                    instance_count=1, \n",
    "                                    instance_type='ml.m4.xlarge', \n",
    "                                    output_path=output_path,\n",
    "                                    sagemaker_session=sess)"
   ]
  },
  {
   "cell_type": "code",
   "execution_count": 9,
   "metadata": {
    "tags": []
   },
   "outputs": [
    {
     "name": "stderr",
     "output_type": "stream",
     "text": [
      "INFO:sagemaker:Creating training-job with name: sagemaker-xgboost-2023-05-15-09-02-17-906\n"
     ]
    },
    {
     "name": "stdout",
     "output_type": "stream",
     "text": [
      "2023-05-15 09:02:18 Starting - Starting the training job...\n",
      "2023-05-15 09:02:43 Starting - Preparing the instances for training......\n",
      "2023-05-15 09:03:51 Downloading - Downloading input data...\n",
      "2023-05-15 09:04:21 Training - Downloading the training image......\n",
      "2023-05-15 09:05:27 Uploading - Uploading generated training model\u001b[34m[2023-05-15 09:05:18.013 ip-10-0-179-110.eu-west-1.compute.internal:7 INFO utils.py:28] RULE_JOB_STOP_SIGNAL_FILENAME: None\u001b[0m\n",
      "\u001b[34m[2023-05-15 09:05:18.096 ip-10-0-179-110.eu-west-1.compute.internal:7 INFO profiler_config_parser.py:111] User has disabled profiler.\u001b[0m\n",
      "\u001b[34m[2023-05-15:09:05:18:INFO] Imported framework sagemaker_xgboost_container.training\u001b[0m\n",
      "\u001b[34m[2023-05-15:09:05:18:INFO] Failed to parse hyperparameter eval_metric value error to Json.\u001b[0m\n",
      "\u001b[34mReturning the value itself\u001b[0m\n",
      "\u001b[34m[2023-05-15:09:05:18:INFO] Failed to parse hyperparameter objective value binary:logistic to Json.\u001b[0m\n",
      "\u001b[34mReturning the value itself\u001b[0m\n",
      "\u001b[34m[2023-05-15:09:05:18:INFO] No GPUs detected (normal if no gpus installed)\u001b[0m\n",
      "\u001b[34m[2023-05-15:09:05:18:INFO] Running XGBoost Sagemaker in algorithm mode\u001b[0m\n",
      "\u001b[34m[2023-05-15:09:05:18:INFO] Determined 0 GPU(s) available on the instance.\u001b[0m\n",
      "\u001b[34m[2023-05-15:09:05:18:INFO] Determined delimiter of CSV input is ','\u001b[0m\n",
      "\u001b[34m[2023-05-15:09:05:18:INFO] Determined delimiter of CSV input is ','\u001b[0m\n",
      "\u001b[34m[2023-05-15:09:05:18:INFO] files path: /opt/ml/input/data/train\u001b[0m\n",
      "\u001b[34m[2023-05-15:09:05:18:INFO] Determined delimiter of CSV input is ','\u001b[0m\n",
      "\u001b[34m[2023-05-15:09:05:18:INFO] files path: /opt/ml/input/data/validation\u001b[0m\n",
      "\u001b[34m[2023-05-15:09:05:18:INFO] Determined delimiter of CSV input is ','\u001b[0m\n",
      "\u001b[34m[2023-05-15:09:05:18:INFO] Single node training.\u001b[0m\n",
      "\u001b[34m[2023-05-15:09:05:18:INFO] Train matrix has 2333 rows and 69 columns\u001b[0m\n",
      "\u001b[34m[2023-05-15:09:05:18:INFO] Validation matrix has 666 rows\u001b[0m\n",
      "\u001b[34m[2023-05-15 09:05:18.574 ip-10-0-179-110.eu-west-1.compute.internal:7 INFO json_config.py:92] Creating hook from json_config at /opt/ml/input/config/debughookconfig.json.\u001b[0m\n",
      "\u001b[34m[2023-05-15 09:05:18.575 ip-10-0-179-110.eu-west-1.compute.internal:7 INFO hook.py:206] tensorboard_dir has not been set for the hook. SMDebug will not be exporting tensorboard summaries.\u001b[0m\n",
      "\u001b[34m[2023-05-15 09:05:18.576 ip-10-0-179-110.eu-west-1.compute.internal:7 INFO hook.py:259] Saving to /opt/ml/output/tensors\u001b[0m\n",
      "\u001b[34m[2023-05-15 09:05:18.576 ip-10-0-179-110.eu-west-1.compute.internal:7 INFO state_store.py:77] The checkpoint config file /opt/ml/input/config/checkpointconfig.json does not exist.\u001b[0m\n",
      "\u001b[34m[2023-05-15:09:05:18:INFO] Debug hook created from config\u001b[0m\n",
      "\u001b[34m[0]#011train-error:0.07715#011validation-error:0.09910\u001b[0m\n",
      "\u001b[34m[2023-05-15 09:05:18.616 ip-10-0-179-110.eu-west-1.compute.internal:7 INFO hook.py:427] Monitoring the collections: metrics\u001b[0m\n",
      "\u001b[34m[2023-05-15 09:05:18.620 ip-10-0-179-110.eu-west-1.compute.internal:7 INFO hook.py:491] Hook is writing from the hook with pid: 7\u001b[0m\n",
      "\u001b[34m[1]#011train-error:0.05058#011validation-error:0.08108\u001b[0m\n",
      "\u001b[34m[2]#011train-error:0.04886#011validation-error:0.07508\u001b[0m\n",
      "\u001b[34m[3]#011train-error:0.04672#011validation-error:0.07207\u001b[0m\n",
      "\u001b[34m[4]#011train-error:0.04801#011validation-error:0.07357\u001b[0m\n",
      "\u001b[34m[5]#011train-error:0.04672#011validation-error:0.07057\u001b[0m\n",
      "\u001b[34m[6]#011train-error:0.04544#011validation-error:0.07357\u001b[0m\n",
      "\u001b[34m[7]#011train-error:0.04372#011validation-error:0.06907\u001b[0m\n",
      "\u001b[34m[8]#011train-error:0.04501#011validation-error:0.06907\u001b[0m\n",
      "\u001b[34m[9]#011train-error:0.04244#011validation-error:0.06607\u001b[0m\n",
      "\u001b[34m[10]#011train-error:0.04029#011validation-error:0.06456\u001b[0m\n",
      "\u001b[34m[11]#011train-error:0.03901#011validation-error:0.06757\u001b[0m\n",
      "\u001b[34m[12]#011train-error:0.03858#011validation-error:0.06456\u001b[0m\n",
      "\u001b[34m[13]#011train-error:0.03772#011validation-error:0.06456\u001b[0m\n",
      "\u001b[34m[14]#011train-error:0.03772#011validation-error:0.06607\u001b[0m\n",
      "\u001b[34m[15]#011train-error:0.03943#011validation-error:0.06757\u001b[0m\n",
      "\u001b[34m[16]#011train-error:0.03858#011validation-error:0.06306\u001b[0m\n",
      "\u001b[34m[17]#011train-error:0.03772#011validation-error:0.06456\u001b[0m\n",
      "\u001b[34m[18]#011train-error:0.03943#011validation-error:0.06306\u001b[0m\n",
      "\u001b[34m[19]#011train-error:0.03986#011validation-error:0.06006\u001b[0m\n",
      "\u001b[34m[20]#011train-error:0.03943#011validation-error:0.06306\u001b[0m\n",
      "\u001b[34m[21]#011train-error:0.03858#011validation-error:0.06306\u001b[0m\n",
      "\u001b[34m[22]#011train-error:0.03815#011validation-error:0.06607\u001b[0m\n",
      "\u001b[34m[23]#011train-error:0.03686#011validation-error:0.06757\u001b[0m\n",
      "\u001b[34m[24]#011train-error:0.03601#011validation-error:0.06757\u001b[0m\n",
      "\u001b[34m[25]#011train-error:0.03429#011validation-error:0.06757\u001b[0m\n",
      "\u001b[34m[26]#011train-error:0.03386#011validation-error:0.06907\u001b[0m\n",
      "\u001b[34m[27]#011train-error:0.03386#011validation-error:0.06907\u001b[0m\n",
      "\u001b[34m[28]#011train-error:0.03386#011validation-error:0.06757\u001b[0m\n",
      "\u001b[34m[29]#011train-error:0.03386#011validation-error:0.07207\u001b[0m\n",
      "\u001b[34m[30]#011train-error:0.03386#011validation-error:0.07057\u001b[0m\n",
      "\u001b[34m[31]#011train-error:0.03429#011validation-error:0.07207\u001b[0m\n",
      "\u001b[34m[32]#011train-error:0.03472#011validation-error:0.07057\u001b[0m\n",
      "\u001b[34m[33]#011train-error:0.03472#011validation-error:0.06907\u001b[0m\n",
      "\u001b[34m[34]#011train-error:0.03300#011validation-error:0.06907\u001b[0m\n",
      "\u001b[34m[35]#011train-error:0.03386#011validation-error:0.06907\u001b[0m\n",
      "\u001b[34m[36]#011train-error:0.03386#011validation-error:0.06907\u001b[0m\n",
      "\u001b[34m[37]#011train-error:0.03300#011validation-error:0.06757\u001b[0m\n",
      "\u001b[34m[38]#011train-error:0.03343#011validation-error:0.06757\u001b[0m\n",
      "\u001b[34m[39]#011train-error:0.03300#011validation-error:0.06757\u001b[0m\n",
      "\u001b[34m[40]#011train-error:0.03172#011validation-error:0.06907\u001b[0m\n",
      "\u001b[34m[41]#011train-error:0.03172#011validation-error:0.06907\u001b[0m\n",
      "\u001b[34m[42]#011train-error:0.03086#011validation-error:0.06907\u001b[0m\n",
      "\u001b[34m[43]#011train-error:0.03129#011validation-error:0.06907\u001b[0m\n",
      "\u001b[34m[44]#011train-error:0.03086#011validation-error:0.06757\u001b[0m\n",
      "\u001b[34m[45]#011train-error:0.03129#011validation-error:0.06757\u001b[0m\n",
      "\u001b[34m[46]#011train-error:0.03086#011validation-error:0.06607\u001b[0m\n",
      "\u001b[34m[47]#011train-error:0.03086#011validation-error:0.06607\u001b[0m\n",
      "\u001b[34m[48]#011train-error:0.03043#011validation-error:0.06607\u001b[0m\n",
      "\u001b[34m[49]#011train-error:0.03000#011validation-error:0.06757\u001b[0m\n",
      "\u001b[34m[50]#011train-error:0.03000#011validation-error:0.06757\u001b[0m\n",
      "\u001b[34m[51]#011train-error:0.03000#011validation-error:0.06607\u001b[0m\n",
      "\u001b[34m[52]#011train-error:0.03000#011validation-error:0.06607\u001b[0m\n",
      "\u001b[34m[53]#011train-error:0.03000#011validation-error:0.06607\u001b[0m\n",
      "\u001b[34m[54]#011train-error:0.03000#011validation-error:0.06607\u001b[0m\n",
      "\u001b[34m[55]#011train-error:0.03043#011validation-error:0.06757\u001b[0m\n",
      "\u001b[34m[56]#011train-error:0.03043#011validation-error:0.06757\u001b[0m\n",
      "\u001b[34m[57]#011train-error:0.03043#011validation-error:0.06757\u001b[0m\n",
      "\u001b[34m[58]#011train-error:0.03043#011validation-error:0.06757\u001b[0m\n",
      "\u001b[34m[59]#011train-error:0.03043#011validation-error:0.06757\u001b[0m\n",
      "\u001b[34m[60]#011train-error:0.03043#011validation-error:0.06757\u001b[0m\n",
      "\u001b[34m[61]#011train-error:0.03043#011validation-error:0.06757\u001b[0m\n",
      "\u001b[34m[62]#011train-error:0.03043#011validation-error:0.06757\u001b[0m\n",
      "\u001b[34m[63]#011train-error:0.03043#011validation-error:0.06757\u001b[0m\n",
      "\u001b[34m[64]#011train-error:0.03043#011validation-error:0.06757\u001b[0m\n",
      "\u001b[34m[65]#011train-error:0.03043#011validation-error:0.06757\u001b[0m\n",
      "\u001b[34m[66]#011train-error:0.03043#011validation-error:0.06757\u001b[0m\n",
      "\u001b[34m[67]#011train-error:0.03043#011validation-error:0.06757\u001b[0m\n",
      "\u001b[34m[68]#011train-error:0.02915#011validation-error:0.06757\u001b[0m\n",
      "\u001b[34m[69]#011train-error:0.02915#011validation-error:0.06607\u001b[0m\n",
      "\u001b[34m[70]#011train-error:0.02915#011validation-error:0.06757\u001b[0m\n",
      "\u001b[34m[71]#011train-error:0.02872#011validation-error:0.06607\u001b[0m\n",
      "\u001b[34m[72]#011train-error:0.02915#011validation-error:0.06607\u001b[0m\n",
      "\u001b[34m[73]#011train-error:0.02915#011validation-error:0.06607\u001b[0m\n",
      "\u001b[34m[74]#011train-error:0.02915#011validation-error:0.06607\u001b[0m\n",
      "\u001b[34m[75]#011train-error:0.02915#011validation-error:0.06607\u001b[0m\n",
      "\u001b[34m[76]#011train-error:0.02915#011validation-error:0.06607\u001b[0m\n",
      "\u001b[34m[77]#011train-error:0.02915#011validation-error:0.06607\u001b[0m\n",
      "\u001b[34m[78]#011train-error:0.02958#011validation-error:0.06607\u001b[0m\n",
      "\u001b[34m[79]#011train-error:0.03000#011validation-error:0.06607\u001b[0m\n",
      "\u001b[34m[80]#011train-error:0.02958#011validation-error:0.06607\u001b[0m\n",
      "\u001b[34m[81]#011train-error:0.02829#011validation-error:0.06607\u001b[0m\n",
      "\u001b[34m[82]#011train-error:0.02829#011validation-error:0.06607\u001b[0m\n",
      "\u001b[34m[83]#011train-error:0.02829#011validation-error:0.06607\u001b[0m\n",
      "\u001b[34m[84]#011train-error:0.02786#011validation-error:0.06607\u001b[0m\n",
      "\u001b[34m[85]#011train-error:0.02786#011validation-error:0.06607\u001b[0m\n",
      "\u001b[34m[86]#011train-error:0.02786#011validation-error:0.06607\u001b[0m\n",
      "\u001b[34m[87]#011train-error:0.02786#011validation-error:0.06607\u001b[0m\n",
      "\u001b[34m[88]#011train-error:0.02829#011validation-error:0.06607\u001b[0m\n",
      "\u001b[34m[89]#011train-error:0.02829#011validation-error:0.06607\u001b[0m\n",
      "\u001b[34m[90]#011train-error:0.02786#011validation-error:0.06607\u001b[0m\n",
      "\u001b[34m[91]#011train-error:0.02786#011validation-error:0.06607\u001b[0m\n",
      "\u001b[34m[92]#011train-error:0.02829#011validation-error:0.06607\u001b[0m\n",
      "\u001b[34m[93]#011train-error:0.02786#011validation-error:0.06607\u001b[0m\n",
      "\u001b[34m[94]#011train-error:0.02786#011validation-error:0.06607\u001b[0m\n",
      "\u001b[34m[95]#011train-error:0.02786#011validation-error:0.06607\u001b[0m\n",
      "\u001b[34m[96]#011train-error:0.02829#011validation-error:0.06607\u001b[0m\n",
      "\u001b[34m[97]#011train-error:0.02829#011validation-error:0.06607\u001b[0m\n",
      "\u001b[34m[98]#011train-error:0.02829#011validation-error:0.06607\u001b[0m\n",
      "\u001b[34m[99]#011train-error:0.02829#011validation-error:0.06607\u001b[0m\n",
      "\n",
      "2023-05-15 09:05:43 Completed - Training job completed\n",
      "Training seconds: 113\n",
      "Billable seconds: 113\n"
     ]
    }
   ],
   "source": [
    "# \"fit\" executes the training job\n",
    "xgb.fit({'train': s3_input_train, 'validation': s3_input_validation}) "
   ]
  },
  {
   "cell_type": "markdown",
   "metadata": {},
   "source": [
    "## Host\n",
    "\n",
    "Now that we've trained the model, let's deploy it to an endpoint so we can send data to it for live prediction.  We can do that with a single line.  This call to \"deploy\" will create our endpoint configuration and endpoint all at the same time."
   ]
  },
  {
   "cell_type": "code",
   "execution_count": 10,
   "metadata": {
    "tags": []
   },
   "outputs": [
    {
     "name": "stderr",
     "output_type": "stream",
     "text": [
      "INFO:sagemaker:Creating model with name: sagemaker-xgboost-2023-05-15-09-06-35-229\n",
      "INFO:sagemaker:Creating endpoint-config with name sagemaker-xgboost-2023-05-15-09-06-35-229\n",
      "INFO:sagemaker:Creating endpoint with name sagemaker-xgboost-2023-05-15-09-06-35-229\n"
     ]
    },
    {
     "name": "stdout",
     "output_type": "stream",
     "text": [
      "------!"
     ]
    }
   ],
   "source": [
    "xgb_predictor = xgb.deploy(initial_instance_count = 1, instance_type = 'ml.m4.xlarge')"
   ]
  },
  {
   "cell_type": "markdown",
   "metadata": {},
   "source": [
    "## Make Predictions\n",
    "\n",
    "Now that our endpoint is live, let's pass in test data to get predictions."
   ]
  },
  {
   "cell_type": "code",
   "execution_count": 11,
   "metadata": {
    "tags": []
   },
   "outputs": [],
   "source": [
    "# Read test data into a dataframe and transform it into a CSV that can be passed to the endpoint\n",
    "payload = pd.read_csv('test.csv')\n",
    "payload_file = io.StringIO()\n",
    "payload.to_csv(payload_file, header = None, index = None)"
   ]
  },
  {
   "cell_type": "code",
   "execution_count": 12,
   "metadata": {
    "tags": []
   },
   "outputs": [
    {
     "name": "stdout",
     "output_type": "stream",
     "text": [
      "0.1684480607509613\n",
      "0.21427156031131744\n",
      "0.06330718100070953\n",
      "0.02791607193648815\n",
      "0.014169521629810333\n",
      "0.005713687278330326\n",
      "0.10534518957138062\n",
      "0.025899196043610573\n",
      "0.6651358604431152\n",
      "0.03172963857650757\n",
      "0.09675747901201248\n",
      "0.35873568058013916\n",
      "0.023574918508529663\n",
      "0.006310072727501392\n",
      "0.01659534126520157\n",
      "0.9036388993263245\n",
      "0.5863341093063354\n",
      "0.40476715564727783\n",
      "0.02699803188443184\n",
      "0.051476720720529556\n",
      "0.8226211071014404\n",
      "0.050476640462875366\n",
      "0.6812863945960999\n",
      "0.014689727686345577\n",
      "0.010139471851289272\n",
      "0.016720956191420555\n",
      "0.00886827427893877\n",
      "0.013370179571211338\n",
      "0.8598929047584534\n",
      "0.024568557739257812\n",
      "0.022816648706793785\n",
      "0.011015648953616619\n",
      "0.15493033826351166\n",
      "0.21677029132843018\n",
      "0.007811678573489189\n",
      "0.008974204771220684\n",
      "0.8475439548492432\n",
      "0.03913778066635132\n",
      "0.03130830079317093\n",
      "0.014615676365792751\n",
      "0.020784741267561913\n",
      "0.022972693666815758\n",
      "0.014104612171649933\n",
      "0.015749145299196243\n",
      "0.008738397620618343\n",
      "0.65254807472229\n",
      "0.4511687755584717\n",
      "0.9566231369972229\n",
      "0.024895407259464264\n",
      "0.040893565863370895\n",
      "0.023623693734407425\n",
      "0.022015830501914024\n",
      "0.07497081905603409\n",
      "0.950011134147644\n",
      "0.013898405246436596\n",
      "0.032197073101997375\n",
      "0.03624160215258598\n",
      "0.010548747144639492\n",
      "0.01674666628241539\n",
      "0.009298677556216717\n",
      "0.024385450407862663\n",
      "0.014508957974612713\n",
      "0.417207270860672\n",
      "0.033581387251615524\n",
      "0.010542895644903183\n",
      "0.042148198932409286\n",
      "0.025085315108299255\n",
      "0.025356534868478775\n",
      "0.02071845903992653\n",
      "0.04457199200987816\n",
      "0.02602040022611618\n",
      "0.008588895201683044\n",
      "0.005636055953800678\n",
      "0.35528650879859924\n",
      "0.03799867257475853\n",
      "0.011309231631457806\n",
      "0.9850918650627136\n",
      "0.2086630016565323\n",
      "0.010987108573317528\n",
      "0.015532182529568672\n",
      "0.016767162829637527\n",
      "0.029371926560997963\n",
      "0.02383359707891941\n",
      "0.9375891089439392\n",
      "0.173687145113945\n",
      "0.010432712733745575\n",
      "0.012280341237783432\n",
      "0.01214765664190054\n",
      "0.021430455148220062\n",
      "0.02130751870572567\n",
      "0.01448642835021019\n",
      "0.33926016092300415\n",
      "0.8004374504089355\n",
      "0.02790185995399952\n",
      "0.009141432121396065\n",
      "0.08957505971193314\n",
      "0.01588565483689308\n",
      "0.05796121433377266\n",
      "0.009536383673548698\n",
      "\n"
     ]
    }
   ],
   "source": [
    "# Create a low-level client for the SageMaker Runtime\n",
    "sagemaker_runtime = boto3.client('sagemaker-runtime')\n",
    "\n",
    "# Client applications use this API to get inferences from the hosted model, by calling invoke_endpoint\n",
    "# We pass in the test data/payload file we read in earlier\n",
    "response = sagemaker_runtime.invoke_endpoint(\n",
    "                            EndpointName=xgb_predictor.endpoint_name, \n",
    "                            Body=payload_file.getvalue(),\n",
    "                            ContentType = 'text/csv'\n",
    ")\n",
    "\n",
    "# Print the response body, which contains the predictions\n",
    "print(response['Body'].read().decode('utf-8'))"
   ]
  }
 ],
 "metadata": {
  "availableInstances": [
   {
    "_defaultOrder": 0,
    "_isFastLaunch": true,
    "category": "General purpose",
    "gpuNum": 0,
    "hideHardwareSpecs": false,
    "memoryGiB": 4,
    "name": "ml.t3.medium",
    "vcpuNum": 2
   },
   {
    "_defaultOrder": 1,
    "_isFastLaunch": false,
    "category": "General purpose",
    "gpuNum": 0,
    "hideHardwareSpecs": false,
    "memoryGiB": 8,
    "name": "ml.t3.large",
    "vcpuNum": 2
   },
   {
    "_defaultOrder": 2,
    "_isFastLaunch": false,
    "category": "General purpose",
    "gpuNum": 0,
    "hideHardwareSpecs": false,
    "memoryGiB": 16,
    "name": "ml.t3.xlarge",
    "vcpuNum": 4
   },
   {
    "_defaultOrder": 3,
    "_isFastLaunch": false,
    "category": "General purpose",
    "gpuNum": 0,
    "hideHardwareSpecs": false,
    "memoryGiB": 32,
    "name": "ml.t3.2xlarge",
    "vcpuNum": 8
   },
   {
    "_defaultOrder": 4,
    "_isFastLaunch": true,
    "category": "General purpose",
    "gpuNum": 0,
    "hideHardwareSpecs": false,
    "memoryGiB": 8,
    "name": "ml.m5.large",
    "vcpuNum": 2
   },
   {
    "_defaultOrder": 5,
    "_isFastLaunch": false,
    "category": "General purpose",
    "gpuNum": 0,
    "hideHardwareSpecs": false,
    "memoryGiB": 16,
    "name": "ml.m5.xlarge",
    "vcpuNum": 4
   },
   {
    "_defaultOrder": 6,
    "_isFastLaunch": false,
    "category": "General purpose",
    "gpuNum": 0,
    "hideHardwareSpecs": false,
    "memoryGiB": 32,
    "name": "ml.m5.2xlarge",
    "vcpuNum": 8
   },
   {
    "_defaultOrder": 7,
    "_isFastLaunch": false,
    "category": "General purpose",
    "gpuNum": 0,
    "hideHardwareSpecs": false,
    "memoryGiB": 64,
    "name": "ml.m5.4xlarge",
    "vcpuNum": 16
   },
   {
    "_defaultOrder": 8,
    "_isFastLaunch": false,
    "category": "General purpose",
    "gpuNum": 0,
    "hideHardwareSpecs": false,
    "memoryGiB": 128,
    "name": "ml.m5.8xlarge",
    "vcpuNum": 32
   },
   {
    "_defaultOrder": 9,
    "_isFastLaunch": false,
    "category": "General purpose",
    "gpuNum": 0,
    "hideHardwareSpecs": false,
    "memoryGiB": 192,
    "name": "ml.m5.12xlarge",
    "vcpuNum": 48
   },
   {
    "_defaultOrder": 10,
    "_isFastLaunch": false,
    "category": "General purpose",
    "gpuNum": 0,
    "hideHardwareSpecs": false,
    "memoryGiB": 256,
    "name": "ml.m5.16xlarge",
    "vcpuNum": 64
   },
   {
    "_defaultOrder": 11,
    "_isFastLaunch": false,
    "category": "General purpose",
    "gpuNum": 0,
    "hideHardwareSpecs": false,
    "memoryGiB": 384,
    "name": "ml.m5.24xlarge",
    "vcpuNum": 96
   },
   {
    "_defaultOrder": 12,
    "_isFastLaunch": false,
    "category": "General purpose",
    "gpuNum": 0,
    "hideHardwareSpecs": false,
    "memoryGiB": 8,
    "name": "ml.m5d.large",
    "vcpuNum": 2
   },
   {
    "_defaultOrder": 13,
    "_isFastLaunch": false,
    "category": "General purpose",
    "gpuNum": 0,
    "hideHardwareSpecs": false,
    "memoryGiB": 16,
    "name": "ml.m5d.xlarge",
    "vcpuNum": 4
   },
   {
    "_defaultOrder": 14,
    "_isFastLaunch": false,
    "category": "General purpose",
    "gpuNum": 0,
    "hideHardwareSpecs": false,
    "memoryGiB": 32,
    "name": "ml.m5d.2xlarge",
    "vcpuNum": 8
   },
   {
    "_defaultOrder": 15,
    "_isFastLaunch": false,
    "category": "General purpose",
    "gpuNum": 0,
    "hideHardwareSpecs": false,
    "memoryGiB": 64,
    "name": "ml.m5d.4xlarge",
    "vcpuNum": 16
   },
   {
    "_defaultOrder": 16,
    "_isFastLaunch": false,
    "category": "General purpose",
    "gpuNum": 0,
    "hideHardwareSpecs": false,
    "memoryGiB": 128,
    "name": "ml.m5d.8xlarge",
    "vcpuNum": 32
   },
   {
    "_defaultOrder": 17,
    "_isFastLaunch": false,
    "category": "General purpose",
    "gpuNum": 0,
    "hideHardwareSpecs": false,
    "memoryGiB": 192,
    "name": "ml.m5d.12xlarge",
    "vcpuNum": 48
   },
   {
    "_defaultOrder": 18,
    "_isFastLaunch": false,
    "category": "General purpose",
    "gpuNum": 0,
    "hideHardwareSpecs": false,
    "memoryGiB": 256,
    "name": "ml.m5d.16xlarge",
    "vcpuNum": 64
   },
   {
    "_defaultOrder": 19,
    "_isFastLaunch": false,
    "category": "General purpose",
    "gpuNum": 0,
    "hideHardwareSpecs": false,
    "memoryGiB": 384,
    "name": "ml.m5d.24xlarge",
    "vcpuNum": 96
   },
   {
    "_defaultOrder": 20,
    "_isFastLaunch": false,
    "category": "General purpose",
    "gpuNum": 0,
    "hideHardwareSpecs": true,
    "memoryGiB": 0,
    "name": "ml.geospatial.interactive",
    "supportedImageNames": [
     "sagemaker-geospatial-v1-0"
    ],
    "vcpuNum": 0
   },
   {
    "_defaultOrder": 21,
    "_isFastLaunch": true,
    "category": "Compute optimized",
    "gpuNum": 0,
    "hideHardwareSpecs": false,
    "memoryGiB": 4,
    "name": "ml.c5.large",
    "vcpuNum": 2
   },
   {
    "_defaultOrder": 22,
    "_isFastLaunch": false,
    "category": "Compute optimized",
    "gpuNum": 0,
    "hideHardwareSpecs": false,
    "memoryGiB": 8,
    "name": "ml.c5.xlarge",
    "vcpuNum": 4
   },
   {
    "_defaultOrder": 23,
    "_isFastLaunch": false,
    "category": "Compute optimized",
    "gpuNum": 0,
    "hideHardwareSpecs": false,
    "memoryGiB": 16,
    "name": "ml.c5.2xlarge",
    "vcpuNum": 8
   },
   {
    "_defaultOrder": 24,
    "_isFastLaunch": false,
    "category": "Compute optimized",
    "gpuNum": 0,
    "hideHardwareSpecs": false,
    "memoryGiB": 32,
    "name": "ml.c5.4xlarge",
    "vcpuNum": 16
   },
   {
    "_defaultOrder": 25,
    "_isFastLaunch": false,
    "category": "Compute optimized",
    "gpuNum": 0,
    "hideHardwareSpecs": false,
    "memoryGiB": 72,
    "name": "ml.c5.9xlarge",
    "vcpuNum": 36
   },
   {
    "_defaultOrder": 26,
    "_isFastLaunch": false,
    "category": "Compute optimized",
    "gpuNum": 0,
    "hideHardwareSpecs": false,
    "memoryGiB": 96,
    "name": "ml.c5.12xlarge",
    "vcpuNum": 48
   },
   {
    "_defaultOrder": 27,
    "_isFastLaunch": false,
    "category": "Compute optimized",
    "gpuNum": 0,
    "hideHardwareSpecs": false,
    "memoryGiB": 144,
    "name": "ml.c5.18xlarge",
    "vcpuNum": 72
   },
   {
    "_defaultOrder": 28,
    "_isFastLaunch": false,
    "category": "Compute optimized",
    "gpuNum": 0,
    "hideHardwareSpecs": false,
    "memoryGiB": 192,
    "name": "ml.c5.24xlarge",
    "vcpuNum": 96
   },
   {
    "_defaultOrder": 29,
    "_isFastLaunch": true,
    "category": "Accelerated computing",
    "gpuNum": 1,
    "hideHardwareSpecs": false,
    "memoryGiB": 16,
    "name": "ml.g4dn.xlarge",
    "vcpuNum": 4
   },
   {
    "_defaultOrder": 30,
    "_isFastLaunch": false,
    "category": "Accelerated computing",
    "gpuNum": 1,
    "hideHardwareSpecs": false,
    "memoryGiB": 32,
    "name": "ml.g4dn.2xlarge",
    "vcpuNum": 8
   },
   {
    "_defaultOrder": 31,
    "_isFastLaunch": false,
    "category": "Accelerated computing",
    "gpuNum": 1,
    "hideHardwareSpecs": false,
    "memoryGiB": 64,
    "name": "ml.g4dn.4xlarge",
    "vcpuNum": 16
   },
   {
    "_defaultOrder": 32,
    "_isFastLaunch": false,
    "category": "Accelerated computing",
    "gpuNum": 1,
    "hideHardwareSpecs": false,
    "memoryGiB": 128,
    "name": "ml.g4dn.8xlarge",
    "vcpuNum": 32
   },
   {
    "_defaultOrder": 33,
    "_isFastLaunch": false,
    "category": "Accelerated computing",
    "gpuNum": 4,
    "hideHardwareSpecs": false,
    "memoryGiB": 192,
    "name": "ml.g4dn.12xlarge",
    "vcpuNum": 48
   },
   {
    "_defaultOrder": 34,
    "_isFastLaunch": false,
    "category": "Accelerated computing",
    "gpuNum": 1,
    "hideHardwareSpecs": false,
    "memoryGiB": 256,
    "name": "ml.g4dn.16xlarge",
    "vcpuNum": 64
   },
   {
    "_defaultOrder": 35,
    "_isFastLaunch": false,
    "category": "Accelerated computing",
    "gpuNum": 1,
    "hideHardwareSpecs": false,
    "memoryGiB": 61,
    "name": "ml.p3.2xlarge",
    "vcpuNum": 8
   },
   {
    "_defaultOrder": 36,
    "_isFastLaunch": false,
    "category": "Accelerated computing",
    "gpuNum": 4,
    "hideHardwareSpecs": false,
    "memoryGiB": 244,
    "name": "ml.p3.8xlarge",
    "vcpuNum": 32
   },
   {
    "_defaultOrder": 37,
    "_isFastLaunch": false,
    "category": "Accelerated computing",
    "gpuNum": 8,
    "hideHardwareSpecs": false,
    "memoryGiB": 488,
    "name": "ml.p3.16xlarge",
    "vcpuNum": 64
   },
   {
    "_defaultOrder": 38,
    "_isFastLaunch": false,
    "category": "Accelerated computing",
    "gpuNum": 8,
    "hideHardwareSpecs": false,
    "memoryGiB": 768,
    "name": "ml.p3dn.24xlarge",
    "vcpuNum": 96
   },
   {
    "_defaultOrder": 39,
    "_isFastLaunch": false,
    "category": "Memory Optimized",
    "gpuNum": 0,
    "hideHardwareSpecs": false,
    "memoryGiB": 16,
    "name": "ml.r5.large",
    "vcpuNum": 2
   },
   {
    "_defaultOrder": 40,
    "_isFastLaunch": false,
    "category": "Memory Optimized",
    "gpuNum": 0,
    "hideHardwareSpecs": false,
    "memoryGiB": 32,
    "name": "ml.r5.xlarge",
    "vcpuNum": 4
   },
   {
    "_defaultOrder": 41,
    "_isFastLaunch": false,
    "category": "Memory Optimized",
    "gpuNum": 0,
    "hideHardwareSpecs": false,
    "memoryGiB": 64,
    "name": "ml.r5.2xlarge",
    "vcpuNum": 8
   },
   {
    "_defaultOrder": 42,
    "_isFastLaunch": false,
    "category": "Memory Optimized",
    "gpuNum": 0,
    "hideHardwareSpecs": false,
    "memoryGiB": 128,
    "name": "ml.r5.4xlarge",
    "vcpuNum": 16
   },
   {
    "_defaultOrder": 43,
    "_isFastLaunch": false,
    "category": "Memory Optimized",
    "gpuNum": 0,
    "hideHardwareSpecs": false,
    "memoryGiB": 256,
    "name": "ml.r5.8xlarge",
    "vcpuNum": 32
   },
   {
    "_defaultOrder": 44,
    "_isFastLaunch": false,
    "category": "Memory Optimized",
    "gpuNum": 0,
    "hideHardwareSpecs": false,
    "memoryGiB": 384,
    "name": "ml.r5.12xlarge",
    "vcpuNum": 48
   },
   {
    "_defaultOrder": 45,
    "_isFastLaunch": false,
    "category": "Memory Optimized",
    "gpuNum": 0,
    "hideHardwareSpecs": false,
    "memoryGiB": 512,
    "name": "ml.r5.16xlarge",
    "vcpuNum": 64
   },
   {
    "_defaultOrder": 46,
    "_isFastLaunch": false,
    "category": "Memory Optimized",
    "gpuNum": 0,
    "hideHardwareSpecs": false,
    "memoryGiB": 768,
    "name": "ml.r5.24xlarge",
    "vcpuNum": 96
   },
   {
    "_defaultOrder": 47,
    "_isFastLaunch": false,
    "category": "Accelerated computing",
    "gpuNum": 1,
    "hideHardwareSpecs": false,
    "memoryGiB": 16,
    "name": "ml.g5.xlarge",
    "vcpuNum": 4
   },
   {
    "_defaultOrder": 48,
    "_isFastLaunch": false,
    "category": "Accelerated computing",
    "gpuNum": 1,
    "hideHardwareSpecs": false,
    "memoryGiB": 32,
    "name": "ml.g5.2xlarge",
    "vcpuNum": 8
   },
   {
    "_defaultOrder": 49,
    "_isFastLaunch": false,
    "category": "Accelerated computing",
    "gpuNum": 1,
    "hideHardwareSpecs": false,
    "memoryGiB": 64,
    "name": "ml.g5.4xlarge",
    "vcpuNum": 16
   },
   {
    "_defaultOrder": 50,
    "_isFastLaunch": false,
    "category": "Accelerated computing",
    "gpuNum": 1,
    "hideHardwareSpecs": false,
    "memoryGiB": 128,
    "name": "ml.g5.8xlarge",
    "vcpuNum": 32
   },
   {
    "_defaultOrder": 51,
    "_isFastLaunch": false,
    "category": "Accelerated computing",
    "gpuNum": 1,
    "hideHardwareSpecs": false,
    "memoryGiB": 256,
    "name": "ml.g5.16xlarge",
    "vcpuNum": 64
   },
   {
    "_defaultOrder": 52,
    "_isFastLaunch": false,
    "category": "Accelerated computing",
    "gpuNum": 4,
    "hideHardwareSpecs": false,
    "memoryGiB": 192,
    "name": "ml.g5.12xlarge",
    "vcpuNum": 48
   },
   {
    "_defaultOrder": 53,
    "_isFastLaunch": false,
    "category": "Accelerated computing",
    "gpuNum": 4,
    "hideHardwareSpecs": false,
    "memoryGiB": 384,
    "name": "ml.g5.24xlarge",
    "vcpuNum": 96
   },
   {
    "_defaultOrder": 54,
    "_isFastLaunch": false,
    "category": "Accelerated computing",
    "gpuNum": 8,
    "hideHardwareSpecs": false,
    "memoryGiB": 768,
    "name": "ml.g5.48xlarge",
    "vcpuNum": 192
   },
   {
    "_defaultOrder": 55,
    "_isFastLaunch": false,
    "category": "Accelerated computing",
    "gpuNum": 8,
    "hideHardwareSpecs": false,
    "memoryGiB": 1152,
    "name": "ml.p4d.24xlarge",
    "vcpuNum": 96
   },
   {
    "_defaultOrder": 56,
    "_isFastLaunch": false,
    "category": "Accelerated computing",
    "gpuNum": 8,
    "hideHardwareSpecs": false,
    "memoryGiB": 1152,
    "name": "ml.p4de.24xlarge",
    "vcpuNum": 96
   }
  ],
  "celltoolbar": "Tags",
  "instance_type": "ml.t3.medium",
  "kernelspec": {
   "display_name": "Python 3 (Data Science)",
   "language": "python",
   "name": "python3__SAGEMAKER_INTERNAL__arn:aws:sagemaker:eu-west-1:470317259841:image/datascience-1.0"
  },
  "language_info": {
   "codemirror_mode": {
    "name": "ipython",
    "version": 3
   },
   "file_extension": ".py",
   "mimetype": "text/x-python",
   "name": "python",
   "nbconvert_exporter": "python",
   "pygments_lexer": "ipython3",
   "version": "3.7.10"
  },
  "notice": "Copyright 2017 Amazon.com, Inc. or its affiliates. All Rights Reserved.  Licensed under the Apache License, Version 2.0 (the \"License\"). You may not use this file except in compliance with the License. A copy of the License is located at http://aws.amazon.com/apache2.0/ or in the \"license\" file accompanying this file. This file is distributed on an \"AS IS\" BASIS, WITHOUT WARRANTIES OR CONDITIONS OF ANY KIND, either express or implied. See the License for the specific language governing permissions and limitations under the License."
 },
 "nbformat": 4,
 "nbformat_minor": 4
}
